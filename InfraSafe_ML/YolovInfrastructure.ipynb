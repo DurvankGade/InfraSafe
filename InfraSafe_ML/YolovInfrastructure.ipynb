{
  "nbformat": 4,
  "nbformat_minor": 0,
  "metadata": {
    "colab": {
      "provenance": [],
      "gpuType": "T4"
    },
    "kernelspec": {
      "name": "python3",
      "display_name": "Python 3"
    },
    "language_info": {
      "name": "python"
    },
    "accelerator": "GPU"
  },
  "cells": [
    {
      "cell_type": "code",
      "source": [
        "pip install ultralytics"
      ],
      "metadata": {
        "colab": {
          "base_uri": "https://localhost:8080/"
        },
        "id": "GECpX9ebaEfh",
        "outputId": "52ab525e-ea18-43bc-f20b-1c3efcdf085f"
      },
      "execution_count": 4,
      "outputs": [
        {
          "output_type": "stream",
          "name": "stdout",
          "text": [
            "Collecting ultralytics\n",
            "  Downloading ultralytics-8.3.74-py3-none-any.whl.metadata (35 kB)\n",
            "Requirement already satisfied: numpy<=2.1.1,>=1.23.0 in /usr/local/lib/python3.10/dist-packages (from ultralytics) (1.26.4)\n",
            "Requirement already satisfied: matplotlib>=3.3.0 in /usr/local/lib/python3.10/dist-packages (from ultralytics) (3.8.0)\n",
            "Requirement already satisfied: opencv-python>=4.6.0 in /usr/local/lib/python3.10/dist-packages (from ultralytics) (4.10.0.84)\n",
            "Requirement already satisfied: pillow>=7.1.2 in /usr/local/lib/python3.10/dist-packages (from ultralytics) (11.0.0)\n",
            "Requirement already satisfied: pyyaml>=5.3.1 in /usr/local/lib/python3.10/dist-packages (from ultralytics) (6.0.2)\n",
            "Requirement already satisfied: requests>=2.23.0 in /usr/local/lib/python3.10/dist-packages (from ultralytics) (2.32.3)\n",
            "Requirement already satisfied: scipy>=1.4.1 in /usr/local/lib/python3.10/dist-packages (from ultralytics) (1.13.1)\n",
            "Requirement already satisfied: torch>=1.8.0 in /usr/local/lib/python3.10/dist-packages (from ultralytics) (2.5.1+cu121)\n",
            "Requirement already satisfied: torchvision>=0.9.0 in /usr/local/lib/python3.10/dist-packages (from ultralytics) (0.20.1+cu121)\n",
            "Requirement already satisfied: tqdm>=4.64.0 in /usr/local/lib/python3.10/dist-packages (from ultralytics) (4.67.1)\n",
            "Requirement already satisfied: psutil in /usr/local/lib/python3.10/dist-packages (from ultralytics) (5.9.5)\n",
            "Requirement already satisfied: py-cpuinfo in /usr/local/lib/python3.10/dist-packages (from ultralytics) (9.0.0)\n",
            "Requirement already satisfied: pandas>=1.1.4 in /usr/local/lib/python3.10/dist-packages (from ultralytics) (2.2.2)\n",
            "Requirement already satisfied: seaborn>=0.11.0 in /usr/local/lib/python3.10/dist-packages (from ultralytics) (0.13.2)\n",
            "Collecting ultralytics-thop>=2.0.0 (from ultralytics)\n",
            "  Downloading ultralytics_thop-2.0.14-py3-none-any.whl.metadata (9.4 kB)\n",
            "Requirement already satisfied: contourpy>=1.0.1 in /usr/local/lib/python3.10/dist-packages (from matplotlib>=3.3.0->ultralytics) (1.3.1)\n",
            "Requirement already satisfied: cycler>=0.10 in /usr/local/lib/python3.10/dist-packages (from matplotlib>=3.3.0->ultralytics) (0.12.1)\n",
            "Requirement already satisfied: fonttools>=4.22.0 in /usr/local/lib/python3.10/dist-packages (from matplotlib>=3.3.0->ultralytics) (4.55.3)\n",
            "Requirement already satisfied: kiwisolver>=1.0.1 in /usr/local/lib/python3.10/dist-packages (from matplotlib>=3.3.0->ultralytics) (1.4.7)\n",
            "Requirement already satisfied: packaging>=20.0 in /usr/local/lib/python3.10/dist-packages (from matplotlib>=3.3.0->ultralytics) (24.2)\n",
            "Requirement already satisfied: pyparsing>=2.3.1 in /usr/local/lib/python3.10/dist-packages (from matplotlib>=3.3.0->ultralytics) (3.2.0)\n",
            "Requirement already satisfied: python-dateutil>=2.7 in /usr/local/lib/python3.10/dist-packages (from matplotlib>=3.3.0->ultralytics) (2.8.2)\n",
            "Requirement already satisfied: pytz>=2020.1 in /usr/local/lib/python3.10/dist-packages (from pandas>=1.1.4->ultralytics) (2024.2)\n",
            "Requirement already satisfied: tzdata>=2022.7 in /usr/local/lib/python3.10/dist-packages (from pandas>=1.1.4->ultralytics) (2024.2)\n",
            "Requirement already satisfied: charset-normalizer<4,>=2 in /usr/local/lib/python3.10/dist-packages (from requests>=2.23.0->ultralytics) (3.4.0)\n",
            "Requirement already satisfied: idna<4,>=2.5 in /usr/local/lib/python3.10/dist-packages (from requests>=2.23.0->ultralytics) (3.10)\n",
            "Requirement already satisfied: urllib3<3,>=1.21.1 in /usr/local/lib/python3.10/dist-packages (from requests>=2.23.0->ultralytics) (2.2.3)\n",
            "Requirement already satisfied: certifi>=2017.4.17 in /usr/local/lib/python3.10/dist-packages (from requests>=2.23.0->ultralytics) (2024.12.14)\n",
            "Requirement already satisfied: filelock in /usr/local/lib/python3.10/dist-packages (from torch>=1.8.0->ultralytics) (3.16.1)\n",
            "Requirement already satisfied: typing-extensions>=4.8.0 in /usr/local/lib/python3.10/dist-packages (from torch>=1.8.0->ultralytics) (4.12.2)\n",
            "Requirement already satisfied: networkx in /usr/local/lib/python3.10/dist-packages (from torch>=1.8.0->ultralytics) (3.4.2)\n",
            "Requirement already satisfied: jinja2 in /usr/local/lib/python3.10/dist-packages (from torch>=1.8.0->ultralytics) (3.1.4)\n",
            "Requirement already satisfied: fsspec in /usr/local/lib/python3.10/dist-packages (from torch>=1.8.0->ultralytics) (2024.10.0)\n",
            "Requirement already satisfied: sympy==1.13.1 in /usr/local/lib/python3.10/dist-packages (from torch>=1.8.0->ultralytics) (1.13.1)\n",
            "Requirement already satisfied: mpmath<1.4,>=1.1.0 in /usr/local/lib/python3.10/dist-packages (from sympy==1.13.1->torch>=1.8.0->ultralytics) (1.3.0)\n",
            "Requirement already satisfied: six>=1.5 in /usr/local/lib/python3.10/dist-packages (from python-dateutil>=2.7->matplotlib>=3.3.0->ultralytics) (1.17.0)\n",
            "Requirement already satisfied: MarkupSafe>=2.0 in /usr/local/lib/python3.10/dist-packages (from jinja2->torch>=1.8.0->ultralytics) (3.0.2)\n",
            "Downloading ultralytics-8.3.74-py3-none-any.whl (914 kB)\n",
            "\u001b[2K   \u001b[90m━━━━━━━━━━━━━━━━━━━━━━━━━━━━━━━━━━━━━━━━\u001b[0m \u001b[32m914.7/914.7 kB\u001b[0m \u001b[31m47.1 MB/s\u001b[0m eta \u001b[36m0:00:00\u001b[0m\n",
            "\u001b[?25hDownloading ultralytics_thop-2.0.14-py3-none-any.whl (26 kB)\n",
            "Installing collected packages: ultralytics-thop, ultralytics\n",
            "Successfully installed ultralytics-8.3.74 ultralytics-thop-2.0.14\n"
          ]
        }
      ]
    },
    {
      "cell_type": "code",
      "source": [
        "from google.colab import drive\n",
        "drive.mount('/content/drive')"
      ],
      "metadata": {
        "colab": {
          "base_uri": "https://localhost:8080/"
        },
        "id": "6XO7ADWucsVe",
        "outputId": "c0311d0c-e552-49e4-910d-fa59941b2071"
      },
      "execution_count": 10,
      "outputs": [
        {
          "output_type": "stream",
          "name": "stdout",
          "text": [
            "Drive already mounted at /content/drive; to attempt to forcibly remount, call drive.mount(\"/content/drive\", force_remount=True).\n"
          ]
        }
      ]
    },
    {
      "cell_type": "code",
      "source": [
        "import ultralytics\n",
        "from ultralytics import YOLO\n",
        "import cv2\n",
        "import torch\n",
        "from IPython.display import display, Image\n",
        "\n"
      ],
      "metadata": {
        "colab": {
          "base_uri": "https://localhost:8080/"
        },
        "id": "Rf5l0R2xalyA",
        "outputId": "e36c16aa-9e26-4e75-a50e-de962a4b48a8"
      },
      "execution_count": null,
      "outputs": [
        {
          "output_type": "stream",
          "name": "stdout",
          "text": [
            "Creating new Ultralytics Settings v0.0.6 file ✅ \n",
            "View Ultralytics Settings with 'yolo settings' or at '/root/.config/Ultralytics/settings.json'\n",
            "Update Settings with 'yolo settings key=value', i.e. 'yolo settings runs_dir=path/to/dir'. For help see https://docs.ultralytics.com/quickstart/#ultralytics-settings.\n"
          ]
        }
      ]
    },
    {
      "cell_type": "code",
      "source": [
        "device = 'cuda' if torch.cuda.is_available() else 'cpu'\n",
        "print(f'Using device: {device}')\n",
        "\n"
      ],
      "metadata": {
        "colab": {
          "base_uri": "https://localhost:8080/"
        },
        "id": "EZVk7j_fa1HO",
        "outputId": "d3a86883-37f9-4efa-9b7b-132e3d5956e3"
      },
      "execution_count": null,
      "outputs": [
        {
          "output_type": "stream",
          "name": "stdout",
          "text": [
            "Using device: cuda\n"
          ]
        }
      ]
    },
    {
      "cell_type": "code",
      "source": [
        "data_yaml = \"/content/unzipped_files/data.yaml\""
      ],
      "metadata": {
        "id": "q0OAIM81b80k"
      },
      "execution_count": null,
      "outputs": []
    },
    {
      "cell_type": "code",
      "source": [
        "model = YOLO(\"yolov8n.pt\")"
      ],
      "metadata": {
        "id": "MOKuKp48cXx2"
      },
      "execution_count": null,
      "outputs": []
    },
    {
      "cell_type": "code",
      "source": [
        "model.train(data=data_yaml, epochs=50, batch=16, imgsz=640, device=device)"
      ],
      "metadata": {
        "colab": {
          "base_uri": "https://localhost:8080/"
        },
        "id": "zPValSqPccgG",
        "outputId": "3e7a12da-0b99-4043-891a-481e68f5a8c3"
      },
      "execution_count": null,
      "outputs": [
        {
          "output_type": "stream",
          "name": "stdout",
          "text": [
            "Ultralytics 8.3.74 🚀 Python-3.11.11 torch-2.5.1+cu124 CUDA:0 (Tesla T4, 15095MiB)\n",
            "\u001b[34m\u001b[1mengine/trainer: \u001b[0mtask=detect, mode=train, model=yolov8n.pt, data=/content/unzipped_files/data.yaml, epochs=50, time=None, patience=100, batch=16, imgsz=640, save=True, save_period=-1, cache=False, device=cuda, workers=8, project=None, name=train7, exist_ok=False, pretrained=True, optimizer=auto, verbose=True, seed=0, deterministic=True, single_cls=False, rect=False, cos_lr=False, close_mosaic=10, resume=False, amp=True, fraction=1.0, profile=False, freeze=None, multi_scale=False, overlap_mask=True, mask_ratio=4, dropout=0.0, val=True, split=val, save_json=False, save_hybrid=False, conf=None, iou=0.7, max_det=300, half=False, dnn=False, plots=True, source=None, vid_stride=1, stream_buffer=False, visualize=False, augment=False, agnostic_nms=False, classes=None, retina_masks=False, embed=None, show=False, save_frames=False, save_txt=False, save_conf=False, save_crop=False, show_labels=True, show_conf=True, show_boxes=True, line_width=None, format=torchscript, keras=False, optimize=False, int8=False, dynamic=False, simplify=True, opset=None, workspace=None, nms=False, lr0=0.01, lrf=0.01, momentum=0.937, weight_decay=0.0005, warmup_epochs=3.0, warmup_momentum=0.8, warmup_bias_lr=0.1, box=7.5, cls=0.5, dfl=1.5, pose=12.0, kobj=1.0, nbs=64, hsv_h=0.015, hsv_s=0.7, hsv_v=0.4, degrees=0.0, translate=0.1, scale=0.5, shear=0.0, perspective=0.0, flipud=0.0, fliplr=0.5, bgr=0.0, mosaic=1.0, mixup=0.0, copy_paste=0.0, copy_paste_mode=flip, auto_augment=randaugment, erasing=0.4, crop_fraction=1.0, cfg=None, tracker=botsort.yaml, save_dir=runs/detect/train7\n",
            "Downloading https://ultralytics.com/assets/Arial.ttf to '/root/.config/Ultralytics/Arial.ttf'...\n"
          ]
        },
        {
          "output_type": "stream",
          "name": "stderr",
          "text": [
            "100%|██████████| 755k/755k [00:00<00:00, 27.4MB/s]\n"
          ]
        },
        {
          "output_type": "stream",
          "name": "stdout",
          "text": [
            "Overriding model.yaml nc=80 with nc=1\n",
            "\n",
            "                   from  n    params  module                                       arguments                     \n",
            "  0                  -1  1       464  ultralytics.nn.modules.conv.Conv             [3, 16, 3, 2]                 \n",
            "  1                  -1  1      4672  ultralytics.nn.modules.conv.Conv             [16, 32, 3, 2]                \n",
            "  2                  -1  1      7360  ultralytics.nn.modules.block.C2f             [32, 32, 1, True]             \n",
            "  3                  -1  1     18560  ultralytics.nn.modules.conv.Conv             [32, 64, 3, 2]                \n",
            "  4                  -1  2     49664  ultralytics.nn.modules.block.C2f             [64, 64, 2, True]             \n",
            "  5                  -1  1     73984  ultralytics.nn.modules.conv.Conv             [64, 128, 3, 2]               \n",
            "  6                  -1  2    197632  ultralytics.nn.modules.block.C2f             [128, 128, 2, True]           \n",
            "  7                  -1  1    295424  ultralytics.nn.modules.conv.Conv             [128, 256, 3, 2]              \n",
            "  8                  -1  1    460288  ultralytics.nn.modules.block.C2f             [256, 256, 1, True]           \n",
            "  9                  -1  1    164608  ultralytics.nn.modules.block.SPPF            [256, 256, 5]                 \n",
            " 10                  -1  1         0  torch.nn.modules.upsampling.Upsample         [None, 2, 'nearest']          \n",
            " 11             [-1, 6]  1         0  ultralytics.nn.modules.conv.Concat           [1]                           \n",
            " 12                  -1  1    148224  ultralytics.nn.modules.block.C2f             [384, 128, 1]                 \n",
            " 13                  -1  1         0  torch.nn.modules.upsampling.Upsample         [None, 2, 'nearest']          \n",
            " 14             [-1, 4]  1         0  ultralytics.nn.modules.conv.Concat           [1]                           \n",
            " 15                  -1  1     37248  ultralytics.nn.modules.block.C2f             [192, 64, 1]                  \n",
            " 16                  -1  1     36992  ultralytics.nn.modules.conv.Conv             [64, 64, 3, 2]                \n",
            " 17            [-1, 12]  1         0  ultralytics.nn.modules.conv.Concat           [1]                           \n",
            " 18                  -1  1    123648  ultralytics.nn.modules.block.C2f             [192, 128, 1]                 \n",
            " 19                  -1  1    147712  ultralytics.nn.modules.conv.Conv             [128, 128, 3, 2]              \n",
            " 20             [-1, 9]  1         0  ultralytics.nn.modules.conv.Concat           [1]                           \n",
            " 21                  -1  1    493056  ultralytics.nn.modules.block.C2f             [384, 256, 1]                 \n",
            " 22        [15, 18, 21]  1    751507  ultralytics.nn.modules.head.Detect           [1, [64, 128, 256]]           \n",
            "Model summary: 225 layers, 3,011,043 parameters, 3,011,027 gradients, 8.2 GFLOPs\n",
            "\n",
            "Transferred 319/355 items from pretrained weights\n",
            "\u001b[34m\u001b[1mTensorBoard: \u001b[0mStart with 'tensorboard --logdir runs/detect/train7', view at http://localhost:6006/\n",
            "Freezing layer 'model.22.dfl.conv.weight'\n",
            "\u001b[34m\u001b[1mAMP: \u001b[0mrunning Automatic Mixed Precision (AMP) checks...\n",
            "Downloading https://github.com/ultralytics/assets/releases/download/v8.3.0/yolo11n.pt to 'yolo11n.pt'...\n"
          ]
        },
        {
          "output_type": "stream",
          "name": "stderr",
          "text": [
            "100%|██████████| 5.35M/5.35M [00:00<00:00, 99.8MB/s]\n"
          ]
        },
        {
          "output_type": "stream",
          "name": "stdout",
          "text": [
            "\u001b[34m\u001b[1mAMP: \u001b[0mchecks passed ✅\n"
          ]
        },
        {
          "output_type": "stream",
          "name": "stderr",
          "text": [
            "\u001b[34m\u001b[1mtrain: \u001b[0mScanning /content/unzipped_files/train/labels... 527 images, 0 backgrounds, 0 corrupt: 100%|██████████| 527/527 [00:00<00:00, 2473.88it/s]"
          ]
        },
        {
          "output_type": "stream",
          "name": "stdout",
          "text": [
            "\u001b[34m\u001b[1mtrain: \u001b[0mNew cache created: /content/unzipped_files/train/labels.cache\n"
          ]
        },
        {
          "output_type": "stream",
          "name": "stderr",
          "text": [
            "\n"
          ]
        },
        {
          "output_type": "stream",
          "name": "stdout",
          "text": [
            "\u001b[34m\u001b[1malbumentations: \u001b[0mBlur(p=0.01, blur_limit=(3, 7)), MedianBlur(p=0.01, blur_limit=(3, 7)), ToGray(p=0.01, num_output_channels=3, method='weighted_average'), CLAHE(p=0.01, clip_limit=(1.0, 4.0), tile_grid_size=(8, 8))\n"
          ]
        },
        {
          "output_type": "stream",
          "name": "stderr",
          "text": [
            "\u001b[34m\u001b[1mval: \u001b[0mScanning /content/unzipped_files/valid/labels... 149 images, 0 backgrounds, 0 corrupt: 100%|██████████| 149/149 [00:00<00:00, 1567.19it/s]"
          ]
        },
        {
          "output_type": "stream",
          "name": "stdout",
          "text": [
            "\u001b[34m\u001b[1mval: \u001b[0mNew cache created: /content/unzipped_files/valid/labels.cache\n"
          ]
        },
        {
          "output_type": "stream",
          "name": "stderr",
          "text": [
            "\n"
          ]
        },
        {
          "output_type": "stream",
          "name": "stdout",
          "text": [
            "Plotting labels to runs/detect/train7/labels.jpg... \n",
            "\u001b[34m\u001b[1moptimizer:\u001b[0m 'optimizer=auto' found, ignoring 'lr0=0.01' and 'momentum=0.937' and determining best 'optimizer', 'lr0' and 'momentum' automatically... \n",
            "\u001b[34m\u001b[1moptimizer:\u001b[0m AdamW(lr=0.002, momentum=0.9) with parameter groups 57 weight(decay=0.0), 64 weight(decay=0.0005), 63 bias(decay=0.0)\n",
            "\u001b[34m\u001b[1mTensorBoard: \u001b[0mmodel graph visualization added ✅\n",
            "Image sizes 640 train, 640 val\n",
            "Using 2 dataloader workers\n",
            "Logging results to \u001b[1mruns/detect/train7\u001b[0m\n",
            "Starting training for 50 epochs...\n",
            "\n",
            "      Epoch    GPU_mem   box_loss   cls_loss   dfl_loss  Instances       Size\n"
          ]
        },
        {
          "output_type": "stream",
          "name": "stderr",
          "text": [
            "       1/50      2.21G      1.673      2.696      1.754         37        640: 100%|██████████| 33/33 [00:10<00:00,  3.15it/s]\n",
            "                 Class     Images  Instances      Box(P          R      mAP50  mAP50-95): 100%|██████████| 5/5 [00:03<00:00,  1.45it/s]"
          ]
        },
        {
          "output_type": "stream",
          "name": "stdout",
          "text": [
            "                   all        149        173     0.0038      0.983      0.323      0.115\n"
          ]
        },
        {
          "output_type": "stream",
          "name": "stderr",
          "text": [
            "\n"
          ]
        },
        {
          "output_type": "stream",
          "name": "stdout",
          "text": [
            "\n",
            "      Epoch    GPU_mem   box_loss   cls_loss   dfl_loss  Instances       Size\n"
          ]
        },
        {
          "output_type": "stream",
          "name": "stderr",
          "text": [
            "       2/50      2.14G        1.6      2.337      1.623         36        640: 100%|██████████| 33/33 [00:09<00:00,  3.42it/s]\n",
            "                 Class     Images  Instances      Box(P          R      mAP50  mAP50-95): 100%|██████████| 5/5 [00:01<00:00,  3.68it/s]\n"
          ]
        },
        {
          "output_type": "stream",
          "name": "stdout",
          "text": [
            "                   all        149        173      0.183      0.208     0.0952     0.0255\n",
            "\n",
            "      Epoch    GPU_mem   box_loss   cls_loss   dfl_loss  Instances       Size\n"
          ]
        },
        {
          "output_type": "stream",
          "name": "stderr",
          "text": [
            "       3/50      2.14G      1.641      2.185      1.637         39        640: 100%|██████████| 33/33 [00:11<00:00,  2.76it/s]\n",
            "                 Class     Images  Instances      Box(P          R      mAP50  mAP50-95): 100%|██████████| 5/5 [00:01<00:00,  3.54it/s]\n"
          ]
        },
        {
          "output_type": "stream",
          "name": "stdout",
          "text": [
            "                   all        149        173     0.0318      0.116     0.0141    0.00343\n",
            "\n",
            "      Epoch    GPU_mem   box_loss   cls_loss   dfl_loss  Instances       Size\n"
          ]
        },
        {
          "output_type": "stream",
          "name": "stderr",
          "text": [
            "       4/50      2.15G      1.665      2.141      1.617         48        640: 100%|██████████| 33/33 [00:07<00:00,  4.25it/s]\n",
            "                 Class     Images  Instances      Box(P          R      mAP50  mAP50-95): 100%|██████████| 5/5 [00:01<00:00,  2.62it/s]"
          ]
        },
        {
          "output_type": "stream",
          "name": "stdout",
          "text": [
            "                   all        149        173      0.109      0.231     0.0519     0.0164\n"
          ]
        },
        {
          "output_type": "stream",
          "name": "stderr",
          "text": [
            "\n"
          ]
        },
        {
          "output_type": "stream",
          "name": "stdout",
          "text": [
            "\n",
            "      Epoch    GPU_mem   box_loss   cls_loss   dfl_loss  Instances       Size\n"
          ]
        },
        {
          "output_type": "stream",
          "name": "stderr",
          "text": [
            "       5/50      2.14G      1.626      2.085      1.631         41        640: 100%|██████████| 33/33 [00:10<00:00,  3.26it/s]\n",
            "                 Class     Images  Instances      Box(P          R      mAP50  mAP50-95): 100%|██████████| 5/5 [00:01<00:00,  4.17it/s]"
          ]
        },
        {
          "output_type": "stream",
          "name": "stdout",
          "text": [
            "                   all        149        173      0.301      0.295      0.259     0.0803\n"
          ]
        },
        {
          "output_type": "stream",
          "name": "stderr",
          "text": [
            "\n"
          ]
        },
        {
          "output_type": "stream",
          "name": "stdout",
          "text": [
            "\n",
            "      Epoch    GPU_mem   box_loss   cls_loss   dfl_loss  Instances       Size\n"
          ]
        },
        {
          "output_type": "stream",
          "name": "stderr",
          "text": [
            "       6/50      2.16G      1.565      1.939      1.567         44        640: 100%|██████████| 33/33 [00:10<00:00,  3.24it/s]\n",
            "                 Class     Images  Instances      Box(P          R      mAP50  mAP50-95): 100%|██████████| 5/5 [00:02<00:00,  1.79it/s]"
          ]
        },
        {
          "output_type": "stream",
          "name": "stdout",
          "text": [
            "                   all        149        173     0.0975      0.179     0.0516     0.0147\n"
          ]
        },
        {
          "output_type": "stream",
          "name": "stderr",
          "text": [
            "\n"
          ]
        },
        {
          "output_type": "stream",
          "name": "stdout",
          "text": [
            "\n",
            "      Epoch    GPU_mem   box_loss   cls_loss   dfl_loss  Instances       Size\n"
          ]
        },
        {
          "output_type": "stream",
          "name": "stderr",
          "text": [
            "       7/50      2.14G      1.565      1.881      1.554         35        640: 100%|██████████| 33/33 [00:07<00:00,  4.33it/s]\n",
            "                 Class     Images  Instances      Box(P          R      mAP50  mAP50-95): 100%|██████████| 5/5 [00:01<00:00,  3.71it/s]"
          ]
        },
        {
          "output_type": "stream",
          "name": "stdout",
          "text": [
            "                   all        149        173      0.342      0.399      0.258     0.0874\n"
          ]
        },
        {
          "output_type": "stream",
          "name": "stderr",
          "text": [
            "\n"
          ]
        },
        {
          "output_type": "stream",
          "name": "stdout",
          "text": [
            "\n",
            "      Epoch    GPU_mem   box_loss   cls_loss   dfl_loss  Instances       Size\n"
          ]
        },
        {
          "output_type": "stream",
          "name": "stderr",
          "text": [
            "       8/50      2.15G      1.513      1.803      1.514         38        640: 100%|██████████| 33/33 [00:14<00:00,  2.35it/s]\n",
            "                 Class     Images  Instances      Box(P          R      mAP50  mAP50-95): 100%|██████████| 5/5 [00:02<00:00,  2.20it/s]"
          ]
        },
        {
          "output_type": "stream",
          "name": "stdout",
          "text": [
            "                   all        149        173       0.51       0.48      0.489      0.204\n"
          ]
        },
        {
          "output_type": "stream",
          "name": "stderr",
          "text": [
            "\n"
          ]
        },
        {
          "output_type": "stream",
          "name": "stdout",
          "text": [
            "\n",
            "      Epoch    GPU_mem   box_loss   cls_loss   dfl_loss  Instances       Size\n"
          ]
        },
        {
          "output_type": "stream",
          "name": "stderr",
          "text": [
            "       9/50      2.14G      1.476      1.761      1.497         34        640: 100%|██████████| 33/33 [00:07<00:00,  4.34it/s]\n",
            "                 Class     Images  Instances      Box(P          R      mAP50  mAP50-95): 100%|██████████| 5/5 [00:02<00:00,  2.37it/s]"
          ]
        },
        {
          "output_type": "stream",
          "name": "stdout",
          "text": [
            "                   all        149        173      0.628      0.458       0.58      0.268\n"
          ]
        },
        {
          "output_type": "stream",
          "name": "stderr",
          "text": [
            "\n"
          ]
        },
        {
          "output_type": "stream",
          "name": "stdout",
          "text": [
            "\n",
            "      Epoch    GPU_mem   box_loss   cls_loss   dfl_loss  Instances       Size\n"
          ]
        },
        {
          "output_type": "stream",
          "name": "stderr",
          "text": [
            "      10/50      2.16G      1.462      1.733      1.506         35        640: 100%|██████████| 33/33 [00:10<00:00,  3.22it/s]\n",
            "                 Class     Images  Instances      Box(P          R      mAP50  mAP50-95): 100%|██████████| 5/5 [00:01<00:00,  3.81it/s]"
          ]
        },
        {
          "output_type": "stream",
          "name": "stdout",
          "text": [
            "                   all        149        173      0.375      0.523      0.346      0.154\n"
          ]
        },
        {
          "output_type": "stream",
          "name": "stderr",
          "text": [
            "\n"
          ]
        },
        {
          "output_type": "stream",
          "name": "stdout",
          "text": [
            "\n",
            "      Epoch    GPU_mem   box_loss   cls_loss   dfl_loss  Instances       Size\n"
          ]
        },
        {
          "output_type": "stream",
          "name": "stderr",
          "text": [
            "      11/50      2.14G      1.473      1.747      1.511         42        640: 100%|██████████| 33/33 [00:10<00:00,  3.29it/s]\n",
            "                 Class     Images  Instances      Box(P          R      mAP50  mAP50-95): 100%|██████████| 5/5 [00:02<00:00,  1.76it/s]"
          ]
        },
        {
          "output_type": "stream",
          "name": "stdout",
          "text": [
            "                   all        149        173      0.748      0.526      0.671      0.331\n"
          ]
        },
        {
          "output_type": "stream",
          "name": "stderr",
          "text": [
            "\n"
          ]
        },
        {
          "output_type": "stream",
          "name": "stdout",
          "text": [
            "\n",
            "      Epoch    GPU_mem   box_loss   cls_loss   dfl_loss  Instances       Size\n"
          ]
        },
        {
          "output_type": "stream",
          "name": "stderr",
          "text": [
            "      12/50      2.14G       1.51      1.766      1.538         43        640: 100%|██████████| 33/33 [00:07<00:00,  4.31it/s]\n",
            "                 Class     Images  Instances      Box(P          R      mAP50  mAP50-95): 100%|██████████| 5/5 [00:01<00:00,  3.71it/s]"
          ]
        },
        {
          "output_type": "stream",
          "name": "stdout",
          "text": [
            "                   all        149        173       0.51      0.584      0.468      0.208\n"
          ]
        },
        {
          "output_type": "stream",
          "name": "stderr",
          "text": [
            "\n"
          ]
        },
        {
          "output_type": "stream",
          "name": "stdout",
          "text": [
            "\n",
            "      Epoch    GPU_mem   box_loss   cls_loss   dfl_loss  Instances       Size\n"
          ]
        },
        {
          "output_type": "stream",
          "name": "stderr",
          "text": [
            "      13/50      2.14G      1.472      1.735      1.482         37        640: 100%|██████████| 33/33 [00:11<00:00,  2.79it/s]\n",
            "                 Class     Images  Instances      Box(P          R      mAP50  mAP50-95): 100%|██████████| 5/5 [00:01<00:00,  3.80it/s]"
          ]
        },
        {
          "output_type": "stream",
          "name": "stdout",
          "text": [
            "                   all        149        173      0.608      0.619      0.668      0.366\n"
          ]
        },
        {
          "output_type": "stream",
          "name": "stderr",
          "text": [
            "\n"
          ]
        },
        {
          "output_type": "stream",
          "name": "stdout",
          "text": [
            "\n",
            "      Epoch    GPU_mem   box_loss   cls_loss   dfl_loss  Instances       Size\n"
          ]
        },
        {
          "output_type": "stream",
          "name": "stderr",
          "text": [
            "      14/50      2.16G      1.412      1.631      1.458         36        640: 100%|██████████| 33/33 [00:08<00:00,  3.71it/s]\n",
            "                 Class     Images  Instances      Box(P          R      mAP50  mAP50-95): 100%|██████████| 5/5 [00:02<00:00,  2.17it/s]"
          ]
        },
        {
          "output_type": "stream",
          "name": "stdout",
          "text": [
            "                   all        149        173      0.505      0.382       0.36      0.167\n"
          ]
        },
        {
          "output_type": "stream",
          "name": "stderr",
          "text": [
            "\n"
          ]
        },
        {
          "output_type": "stream",
          "name": "stdout",
          "text": [
            "\n",
            "      Epoch    GPU_mem   box_loss   cls_loss   dfl_loss  Instances       Size\n"
          ]
        },
        {
          "output_type": "stream",
          "name": "stderr",
          "text": [
            "      15/50      2.14G       1.38      1.591      1.437         29        640: 100%|██████████| 33/33 [00:08<00:00,  3.98it/s]\n",
            "                 Class     Images  Instances      Box(P          R      mAP50  mAP50-95): 100%|██████████| 5/5 [00:01<00:00,  3.93it/s]"
          ]
        },
        {
          "output_type": "stream",
          "name": "stdout",
          "text": [
            "                   all        149        173      0.425      0.156      0.199     0.0957\n"
          ]
        },
        {
          "output_type": "stream",
          "name": "stderr",
          "text": [
            "\n"
          ]
        },
        {
          "output_type": "stream",
          "name": "stdout",
          "text": [
            "\n",
            "      Epoch    GPU_mem   box_loss   cls_loss   dfl_loss  Instances       Size\n"
          ]
        },
        {
          "output_type": "stream",
          "name": "stderr",
          "text": [
            "      16/50      2.15G      1.377      1.642      1.434         38        640: 100%|██████████| 33/33 [00:11<00:00,  2.90it/s]\n",
            "                 Class     Images  Instances      Box(P          R      mAP50  mAP50-95): 100%|██████████| 5/5 [00:01<00:00,  3.66it/s]"
          ]
        },
        {
          "output_type": "stream",
          "name": "stdout",
          "text": [
            "                   all        149        173      0.731      0.671      0.737      0.411\n"
          ]
        },
        {
          "output_type": "stream",
          "name": "stderr",
          "text": [
            "\n"
          ]
        },
        {
          "output_type": "stream",
          "name": "stdout",
          "text": [
            "\n",
            "      Epoch    GPU_mem   box_loss   cls_loss   dfl_loss  Instances       Size\n"
          ]
        },
        {
          "output_type": "stream",
          "name": "stderr",
          "text": [
            "      17/50      2.14G      1.373      1.566      1.421         42        640: 100%|██████████| 33/33 [00:07<00:00,  4.25it/s]\n",
            "                 Class     Images  Instances      Box(P          R      mAP50  mAP50-95): 100%|██████████| 5/5 [00:01<00:00,  2.56it/s]"
          ]
        },
        {
          "output_type": "stream",
          "name": "stdout",
          "text": [
            "                   all        149        173      0.635      0.665      0.712      0.331\n"
          ]
        },
        {
          "output_type": "stream",
          "name": "stderr",
          "text": [
            "\n"
          ]
        },
        {
          "output_type": "stream",
          "name": "stdout",
          "text": [
            "\n",
            "      Epoch    GPU_mem   box_loss   cls_loss   dfl_loss  Instances       Size\n"
          ]
        },
        {
          "output_type": "stream",
          "name": "stderr",
          "text": [
            "      18/50      2.16G       1.29      1.458      1.373         35        640: 100%|██████████| 33/33 [00:09<00:00,  3.45it/s]\n",
            "                 Class     Images  Instances      Box(P          R      mAP50  mAP50-95): 100%|██████████| 5/5 [00:01<00:00,  3.35it/s]"
          ]
        },
        {
          "output_type": "stream",
          "name": "stdout",
          "text": [
            "                   all        149        173      0.744      0.653      0.743      0.376\n"
          ]
        },
        {
          "output_type": "stream",
          "name": "stderr",
          "text": [
            "\n"
          ]
        },
        {
          "output_type": "stream",
          "name": "stdout",
          "text": [
            "\n",
            "      Epoch    GPU_mem   box_loss   cls_loss   dfl_loss  Instances       Size\n"
          ]
        },
        {
          "output_type": "stream",
          "name": "stderr",
          "text": [
            "      19/50      2.15G      1.328      1.479      1.357         36        640: 100%|██████████| 33/33 [00:10<00:00,  3.04it/s]\n",
            "                 Class     Images  Instances      Box(P          R      mAP50  mAP50-95): 100%|██████████| 5/5 [00:01<00:00,  3.50it/s]"
          ]
        },
        {
          "output_type": "stream",
          "name": "stdout",
          "text": [
            "                   all        149        173      0.664      0.549      0.654      0.343\n"
          ]
        },
        {
          "output_type": "stream",
          "name": "stderr",
          "text": [
            "\n"
          ]
        },
        {
          "output_type": "stream",
          "name": "stdout",
          "text": [
            "\n",
            "      Epoch    GPU_mem   box_loss   cls_loss   dfl_loss  Instances       Size\n"
          ]
        },
        {
          "output_type": "stream",
          "name": "stderr",
          "text": [
            "      20/50      2.15G      1.332      1.456      1.385         44        640: 100%|██████████| 33/33 [00:07<00:00,  4.20it/s]\n",
            "                 Class     Images  Instances      Box(P          R      mAP50  mAP50-95): 100%|██████████| 5/5 [00:01<00:00,  2.65it/s]"
          ]
        },
        {
          "output_type": "stream",
          "name": "stdout",
          "text": [
            "                   all        149        173      0.673      0.582      0.707      0.374\n"
          ]
        },
        {
          "output_type": "stream",
          "name": "stderr",
          "text": [
            "\n"
          ]
        },
        {
          "output_type": "stream",
          "name": "stdout",
          "text": [
            "\n",
            "      Epoch    GPU_mem   box_loss   cls_loss   dfl_loss  Instances       Size\n"
          ]
        },
        {
          "output_type": "stream",
          "name": "stderr",
          "text": [
            "      21/50      2.14G      1.317      1.494       1.37         42        640: 100%|██████████| 33/33 [00:10<00:00,  3.19it/s]\n",
            "                 Class     Images  Instances      Box(P          R      mAP50  mAP50-95): 100%|██████████| 5/5 [00:01<00:00,  3.96it/s]"
          ]
        },
        {
          "output_type": "stream",
          "name": "stdout",
          "text": [
            "                   all        149        173      0.704      0.671      0.765       0.41\n"
          ]
        },
        {
          "output_type": "stream",
          "name": "stderr",
          "text": [
            "\n"
          ]
        },
        {
          "output_type": "stream",
          "name": "stdout",
          "text": [
            "\n",
            "      Epoch    GPU_mem   box_loss   cls_loss   dfl_loss  Instances       Size\n"
          ]
        },
        {
          "output_type": "stream",
          "name": "stderr",
          "text": [
            "      22/50      2.16G      1.263      1.391       1.34         30        640: 100%|██████████| 33/33 [00:10<00:00,  3.14it/s]\n",
            "                 Class     Images  Instances      Box(P          R      mAP50  mAP50-95): 100%|██████████| 5/5 [00:01<00:00,  2.52it/s]"
          ]
        },
        {
          "output_type": "stream",
          "name": "stdout",
          "text": [
            "                   all        149        173      0.665       0.69      0.687      0.373\n"
          ]
        },
        {
          "output_type": "stream",
          "name": "stderr",
          "text": [
            "\n"
          ]
        },
        {
          "output_type": "stream",
          "name": "stdout",
          "text": [
            "\n",
            "      Epoch    GPU_mem   box_loss   cls_loss   dfl_loss  Instances       Size\n"
          ]
        },
        {
          "output_type": "stream",
          "name": "stderr",
          "text": [
            "      23/50      2.14G      1.292      1.421      1.363         45        640: 100%|██████████| 33/33 [00:07<00:00,  4.37it/s]\n",
            "                 Class     Images  Instances      Box(P          R      mAP50  mAP50-95): 100%|██████████| 5/5 [00:01<00:00,  3.66it/s]"
          ]
        },
        {
          "output_type": "stream",
          "name": "stdout",
          "text": [
            "                   all        149        173      0.756      0.682      0.743      0.419\n"
          ]
        },
        {
          "output_type": "stream",
          "name": "stderr",
          "text": [
            "\n"
          ]
        },
        {
          "output_type": "stream",
          "name": "stdout",
          "text": [
            "\n",
            "      Epoch    GPU_mem   box_loss   cls_loss   dfl_loss  Instances       Size\n"
          ]
        },
        {
          "output_type": "stream",
          "name": "stderr",
          "text": [
            "      24/50      2.14G      1.288      1.362      1.353         35        640: 100%|██████████| 33/33 [00:11<00:00,  2.92it/s]\n",
            "                 Class     Images  Instances      Box(P          R      mAP50  mAP50-95): 100%|██████████| 5/5 [00:01<00:00,  3.82it/s]"
          ]
        },
        {
          "output_type": "stream",
          "name": "stdout",
          "text": [
            "                   all        149        173      0.757      0.734      0.786      0.461\n"
          ]
        },
        {
          "output_type": "stream",
          "name": "stderr",
          "text": [
            "\n"
          ]
        },
        {
          "output_type": "stream",
          "name": "stdout",
          "text": [
            "\n",
            "      Epoch    GPU_mem   box_loss   cls_loss   dfl_loss  Instances       Size\n"
          ]
        },
        {
          "output_type": "stream",
          "name": "stderr",
          "text": [
            "      25/50      2.15G      1.265      1.379      1.328         37        640: 100%|██████████| 33/33 [00:08<00:00,  3.69it/s]\n",
            "                 Class     Images  Instances      Box(P          R      mAP50  mAP50-95): 100%|██████████| 5/5 [00:02<00:00,  2.11it/s]"
          ]
        },
        {
          "output_type": "stream",
          "name": "stdout",
          "text": [
            "                   all        149        173      0.786      0.699       0.79      0.343\n"
          ]
        },
        {
          "output_type": "stream",
          "name": "stderr",
          "text": [
            "\n"
          ]
        },
        {
          "output_type": "stream",
          "name": "stdout",
          "text": [
            "\n",
            "      Epoch    GPU_mem   box_loss   cls_loss   dfl_loss  Instances       Size\n"
          ]
        },
        {
          "output_type": "stream",
          "name": "stderr",
          "text": [
            "      26/50      2.16G      1.235      1.404      1.355         37        640: 100%|██████████| 33/33 [00:08<00:00,  4.02it/s]\n",
            "                 Class     Images  Instances      Box(P          R      mAP50  mAP50-95): 100%|██████████| 5/5 [00:01<00:00,  3.78it/s]"
          ]
        },
        {
          "output_type": "stream",
          "name": "stdout",
          "text": [
            "                   all        149        173      0.826      0.685      0.792      0.454\n"
          ]
        },
        {
          "output_type": "stream",
          "name": "stderr",
          "text": [
            "\n"
          ]
        },
        {
          "output_type": "stream",
          "name": "stdout",
          "text": [
            "\n",
            "      Epoch    GPU_mem   box_loss   cls_loss   dfl_loss  Instances       Size\n"
          ]
        },
        {
          "output_type": "stream",
          "name": "stderr",
          "text": [
            "      27/50      2.14G      1.242      1.384      1.337         31        640: 100%|██████████| 33/33 [00:11<00:00,  2.96it/s]\n",
            "                 Class     Images  Instances      Box(P          R      mAP50  mAP50-95): 100%|██████████| 5/5 [00:01<00:00,  3.68it/s]"
          ]
        },
        {
          "output_type": "stream",
          "name": "stdout",
          "text": [
            "                   all        149        173      0.679       0.71      0.745      0.449\n"
          ]
        },
        {
          "output_type": "stream",
          "name": "stderr",
          "text": [
            "\n"
          ]
        },
        {
          "output_type": "stream",
          "name": "stdout",
          "text": [
            "\n",
            "      Epoch    GPU_mem   box_loss   cls_loss   dfl_loss  Instances       Size\n"
          ]
        },
        {
          "output_type": "stream",
          "name": "stderr",
          "text": [
            "      28/50      2.14G      1.231      1.371      1.342         34        640: 100%|██████████| 33/33 [00:07<00:00,  4.25it/s]\n",
            "                 Class     Images  Instances      Box(P          R      mAP50  mAP50-95): 100%|██████████| 5/5 [00:02<00:00,  2.36it/s]"
          ]
        },
        {
          "output_type": "stream",
          "name": "stdout",
          "text": [
            "                   all        149        173       0.72      0.653      0.709      0.397\n"
          ]
        },
        {
          "output_type": "stream",
          "name": "stderr",
          "text": [
            "\n"
          ]
        },
        {
          "output_type": "stream",
          "name": "stdout",
          "text": [
            "\n",
            "      Epoch    GPU_mem   box_loss   cls_loss   dfl_loss  Instances       Size\n"
          ]
        },
        {
          "output_type": "stream",
          "name": "stderr",
          "text": [
            "      29/50      2.15G        1.2      1.315      1.302         36        640: 100%|██████████| 33/33 [00:09<00:00,  3.58it/s]\n",
            "                 Class     Images  Instances      Box(P          R      mAP50  mAP50-95): 100%|██████████| 5/5 [00:01<00:00,  3.88it/s]"
          ]
        },
        {
          "output_type": "stream",
          "name": "stdout",
          "text": [
            "                   all        149        173      0.705      0.671      0.761      0.449\n"
          ]
        },
        {
          "output_type": "stream",
          "name": "stderr",
          "text": [
            "\n"
          ]
        },
        {
          "output_type": "stream",
          "name": "stdout",
          "text": [
            "\n",
            "      Epoch    GPU_mem   box_loss   cls_loss   dfl_loss  Instances       Size\n"
          ]
        },
        {
          "output_type": "stream",
          "name": "stderr",
          "text": [
            "      30/50      2.16G      1.265      1.315      1.326         45        640: 100%|██████████| 33/33 [00:11<00:00,  2.96it/s]\n",
            "                 Class     Images  Instances      Box(P          R      mAP50  mAP50-95): 100%|██████████| 5/5 [00:01<00:00,  3.11it/s]"
          ]
        },
        {
          "output_type": "stream",
          "name": "stdout",
          "text": [
            "                   all        149        173      0.685      0.751      0.783      0.441\n"
          ]
        },
        {
          "output_type": "stream",
          "name": "stderr",
          "text": [
            "\n"
          ]
        },
        {
          "output_type": "stream",
          "name": "stdout",
          "text": [
            "\n",
            "      Epoch    GPU_mem   box_loss   cls_loss   dfl_loss  Instances       Size\n"
          ]
        },
        {
          "output_type": "stream",
          "name": "stderr",
          "text": [
            "      31/50      2.14G      1.206      1.276        1.3         38        640: 100%|██████████| 33/33 [00:07<00:00,  4.24it/s]\n",
            "                 Class     Images  Instances      Box(P          R      mAP50  mAP50-95): 100%|██████████| 5/5 [00:01<00:00,  2.70it/s]"
          ]
        },
        {
          "output_type": "stream",
          "name": "stdout",
          "text": [
            "                   all        149        173      0.825       0.63      0.786      0.457\n"
          ]
        },
        {
          "output_type": "stream",
          "name": "stderr",
          "text": [
            "\n"
          ]
        },
        {
          "output_type": "stream",
          "name": "stdout",
          "text": [
            "\n",
            "      Epoch    GPU_mem   box_loss   cls_loss   dfl_loss  Instances       Size\n"
          ]
        },
        {
          "output_type": "stream",
          "name": "stderr",
          "text": [
            "      32/50      2.14G      1.201      1.315      1.307         37        640: 100%|██████████| 33/33 [00:10<00:00,  3.24it/s]\n",
            "                 Class     Images  Instances      Box(P          R      mAP50  mAP50-95): 100%|██████████| 5/5 [00:01<00:00,  3.84it/s]\n"
          ]
        },
        {
          "output_type": "stream",
          "name": "stdout",
          "text": [
            "                   all        149        173      0.801      0.775      0.837      0.495\n",
            "\n",
            "      Epoch    GPU_mem   box_loss   cls_loss   dfl_loss  Instances       Size\n"
          ]
        },
        {
          "output_type": "stream",
          "name": "stderr",
          "text": [
            "      33/50      2.14G      1.189      1.293      1.306         36        640: 100%|██████████| 33/33 [00:09<00:00,  3.30it/s]\n",
            "                 Class     Images  Instances      Box(P          R      mAP50  mAP50-95): 100%|██████████| 5/5 [00:02<00:00,  1.85it/s]"
          ]
        },
        {
          "output_type": "stream",
          "name": "stdout",
          "text": [
            "                   all        149        173      0.799      0.688      0.798      0.479\n"
          ]
        },
        {
          "output_type": "stream",
          "name": "stderr",
          "text": [
            "\n"
          ]
        },
        {
          "output_type": "stream",
          "name": "stdout",
          "text": [
            "\n",
            "      Epoch    GPU_mem   box_loss   cls_loss   dfl_loss  Instances       Size\n"
          ]
        },
        {
          "output_type": "stream",
          "name": "stderr",
          "text": [
            "      34/50      2.16G      1.167      1.282      1.282         33        640: 100%|██████████| 33/33 [00:11<00:00,  2.81it/s]\n",
            "                 Class     Images  Instances      Box(P          R      mAP50  mAP50-95): 100%|██████████| 5/5 [00:02<00:00,  2.05it/s]"
          ]
        },
        {
          "output_type": "stream",
          "name": "stdout",
          "text": [
            "                   all        149        173      0.882      0.746      0.857      0.514\n"
          ]
        },
        {
          "output_type": "stream",
          "name": "stderr",
          "text": [
            "\n"
          ]
        },
        {
          "output_type": "stream",
          "name": "stdout",
          "text": [
            "\n",
            "      Epoch    GPU_mem   box_loss   cls_loss   dfl_loss  Instances       Size\n"
          ]
        },
        {
          "output_type": "stream",
          "name": "stderr",
          "text": [
            "      35/50      2.14G      1.164      1.298      1.291         44        640: 100%|██████████| 33/33 [00:09<00:00,  3.64it/s]\n",
            "                 Class     Images  Instances      Box(P          R      mAP50  mAP50-95): 100%|██████████| 5/5 [00:01<00:00,  3.79it/s]"
          ]
        },
        {
          "output_type": "stream",
          "name": "stdout",
          "text": [
            "                   all        149        173      0.875      0.763       0.86      0.513\n"
          ]
        },
        {
          "output_type": "stream",
          "name": "stderr",
          "text": [
            "\n"
          ]
        },
        {
          "output_type": "stream",
          "name": "stdout",
          "text": [
            "\n",
            "      Epoch    GPU_mem   box_loss   cls_loss   dfl_loss  Instances       Size\n"
          ]
        },
        {
          "output_type": "stream",
          "name": "stderr",
          "text": [
            "      36/50      2.14G      1.127      1.273      1.272         35        640: 100%|██████████| 33/33 [00:11<00:00,  2.93it/s]\n",
            "                 Class     Images  Instances      Box(P          R      mAP50  mAP50-95): 100%|██████████| 5/5 [00:01<00:00,  3.66it/s]"
          ]
        },
        {
          "output_type": "stream",
          "name": "stdout",
          "text": [
            "                   all        149        173      0.834       0.81      0.869      0.519\n"
          ]
        },
        {
          "output_type": "stream",
          "name": "stderr",
          "text": [
            "\n"
          ]
        },
        {
          "output_type": "stream",
          "name": "stdout",
          "text": [
            "\n",
            "      Epoch    GPU_mem   box_loss   cls_loss   dfl_loss  Instances       Size\n"
          ]
        },
        {
          "output_type": "stream",
          "name": "stderr",
          "text": [
            "      37/50      2.14G      1.118       1.22      1.264         35        640: 100%|██████████| 33/33 [00:07<00:00,  4.29it/s]\n",
            "                 Class     Images  Instances      Box(P          R      mAP50  mAP50-95): 100%|██████████| 5/5 [00:01<00:00,  2.57it/s]"
          ]
        },
        {
          "output_type": "stream",
          "name": "stdout",
          "text": [
            "                   all        149        173      0.759      0.815      0.838      0.504\n"
          ]
        },
        {
          "output_type": "stream",
          "name": "stderr",
          "text": [
            "\n"
          ]
        },
        {
          "output_type": "stream",
          "name": "stdout",
          "text": [
            "\n",
            "      Epoch    GPU_mem   box_loss   cls_loss   dfl_loss  Instances       Size\n"
          ]
        },
        {
          "output_type": "stream",
          "name": "stderr",
          "text": [
            "      38/50      2.16G      1.145      1.253       1.28         33        640: 100%|██████████| 33/33 [00:10<00:00,  3.26it/s]\n",
            "                 Class     Images  Instances      Box(P          R      mAP50  mAP50-95): 100%|██████████| 5/5 [00:01<00:00,  3.96it/s]"
          ]
        },
        {
          "output_type": "stream",
          "name": "stdout",
          "text": [
            "                   all        149        173      0.791      0.808      0.851      0.529\n"
          ]
        },
        {
          "output_type": "stream",
          "name": "stderr",
          "text": [
            "\n"
          ]
        },
        {
          "output_type": "stream",
          "name": "stdout",
          "text": [
            "\n",
            "      Epoch    GPU_mem   box_loss   cls_loss   dfl_loss  Instances       Size\n"
          ]
        },
        {
          "output_type": "stream",
          "name": "stderr",
          "text": [
            "      39/50      2.15G      1.105      1.165      1.253         40        640: 100%|██████████| 33/33 [00:10<00:00,  3.17it/s]\n",
            "                 Class     Images  Instances      Box(P          R      mAP50  mAP50-95): 100%|██████████| 5/5 [00:02<00:00,  1.85it/s]"
          ]
        },
        {
          "output_type": "stream",
          "name": "stdout",
          "text": [
            "                   all        149        173       0.84      0.761      0.855      0.551\n"
          ]
        },
        {
          "output_type": "stream",
          "name": "stderr",
          "text": [
            "\n"
          ]
        },
        {
          "output_type": "stream",
          "name": "stdout",
          "text": [
            "\n",
            "      Epoch    GPU_mem   box_loss   cls_loss   dfl_loss  Instances       Size\n"
          ]
        },
        {
          "output_type": "stream",
          "name": "stderr",
          "text": [
            "      40/50      2.14G      1.144      1.234      1.307         34        640: 100%|██████████| 33/33 [00:07<00:00,  4.39it/s]\n",
            "                 Class     Images  Instances      Box(P          R      mAP50  mAP50-95): 100%|██████████| 5/5 [00:01<00:00,  3.86it/s]"
          ]
        },
        {
          "output_type": "stream",
          "name": "stdout",
          "text": [
            "                   all        149        173      0.875      0.746      0.868      0.553\n"
          ]
        },
        {
          "output_type": "stream",
          "name": "stderr",
          "text": [
            "\n"
          ]
        },
        {
          "output_type": "stream",
          "name": "stdout",
          "text": [
            "Closing dataloader mosaic\n",
            "\u001b[34m\u001b[1malbumentations: \u001b[0mBlur(p=0.01, blur_limit=(3, 7)), MedianBlur(p=0.01, blur_limit=(3, 7)), ToGray(p=0.01, num_output_channels=3, method='weighted_average'), CLAHE(p=0.01, clip_limit=(1.0, 4.0), tile_grid_size=(8, 8))\n",
            "\n",
            "      Epoch    GPU_mem   box_loss   cls_loss   dfl_loss  Instances       Size\n"
          ]
        },
        {
          "output_type": "stream",
          "name": "stderr",
          "text": [
            "      41/50      2.21G      1.132      1.129      1.339         18        640: 100%|██████████| 33/33 [00:11<00:00,  2.77it/s]\n",
            "                 Class     Images  Instances      Box(P          R      mAP50  mAP50-95): 100%|██████████| 5/5 [00:01<00:00,  4.08it/s]"
          ]
        },
        {
          "output_type": "stream",
          "name": "stdout",
          "text": [
            "                   all        149        173      0.869      0.786       0.88      0.563\n"
          ]
        },
        {
          "output_type": "stream",
          "name": "stderr",
          "text": [
            "\n"
          ]
        },
        {
          "output_type": "stream",
          "name": "stdout",
          "text": [
            "\n",
            "      Epoch    GPU_mem   box_loss   cls_loss   dfl_loss  Instances       Size\n"
          ]
        },
        {
          "output_type": "stream",
          "name": "stderr",
          "text": [
            "      42/50      2.16G      1.078      1.035      1.319         18        640: 100%|██████████| 33/33 [00:09<00:00,  3.42it/s]\n",
            "                 Class     Images  Instances      Box(P          R      mAP50  mAP50-95): 100%|██████████| 5/5 [00:02<00:00,  2.16it/s]"
          ]
        },
        {
          "output_type": "stream",
          "name": "stdout",
          "text": [
            "                   all        149        173      0.902      0.769      0.875      0.581\n"
          ]
        },
        {
          "output_type": "stream",
          "name": "stderr",
          "text": [
            "\n"
          ]
        },
        {
          "output_type": "stream",
          "name": "stdout",
          "text": [
            "\n",
            "      Epoch    GPU_mem   box_loss   cls_loss   dfl_loss  Instances       Size\n"
          ]
        },
        {
          "output_type": "stream",
          "name": "stderr",
          "text": [
            "      43/50      2.14G      1.029     0.9534      1.282         17        640: 100%|██████████| 33/33 [00:07<00:00,  4.47it/s]\n",
            "                 Class     Images  Instances      Box(P          R      mAP50  mAP50-95): 100%|██████████| 5/5 [00:01<00:00,  4.26it/s]"
          ]
        },
        {
          "output_type": "stream",
          "name": "stdout",
          "text": [
            "                   all        149        173        0.9      0.838       0.89      0.584\n"
          ]
        },
        {
          "output_type": "stream",
          "name": "stderr",
          "text": [
            "\n"
          ]
        },
        {
          "output_type": "stream",
          "name": "stdout",
          "text": [
            "\n",
            "      Epoch    GPU_mem   box_loss   cls_loss   dfl_loss  Instances       Size\n"
          ]
        },
        {
          "output_type": "stream",
          "name": "stderr",
          "text": [
            "      44/50      2.14G      1.017     0.9084      1.261         19        640: 100%|██████████| 33/33 [00:10<00:00,  3.18it/s]\n",
            "                 Class     Images  Instances      Box(P          R      mAP50  mAP50-95): 100%|██████████| 5/5 [00:01<00:00,  3.80it/s]"
          ]
        },
        {
          "output_type": "stream",
          "name": "stdout",
          "text": [
            "                   all        149        173      0.886      0.809      0.882      0.592\n"
          ]
        },
        {
          "output_type": "stream",
          "name": "stderr",
          "text": [
            "\n"
          ]
        },
        {
          "output_type": "stream",
          "name": "stdout",
          "text": [
            "\n",
            "      Epoch    GPU_mem   box_loss   cls_loss   dfl_loss  Instances       Size\n"
          ]
        },
        {
          "output_type": "stream",
          "name": "stderr",
          "text": [
            "      45/50      2.14G      1.063     0.9556       1.31         18        640: 100%|██████████| 33/33 [00:07<00:00,  4.38it/s]\n",
            "                 Class     Images  Instances      Box(P          R      mAP50  mAP50-95): 100%|██████████| 5/5 [00:02<00:00,  2.32it/s]"
          ]
        },
        {
          "output_type": "stream",
          "name": "stdout",
          "text": [
            "                   all        149        173      0.909      0.869      0.901      0.604\n"
          ]
        },
        {
          "output_type": "stream",
          "name": "stderr",
          "text": [
            "\n"
          ]
        },
        {
          "output_type": "stream",
          "name": "stdout",
          "text": [
            "\n",
            "      Epoch    GPU_mem   box_loss   cls_loss   dfl_loss  Instances       Size\n"
          ]
        },
        {
          "output_type": "stream",
          "name": "stderr",
          "text": [
            "      46/50      2.16G      1.004     0.9161      1.269         19        640: 100%|██████████| 33/33 [00:09<00:00,  3.42it/s]\n",
            "                 Class     Images  Instances      Box(P          R      mAP50  mAP50-95): 100%|██████████| 5/5 [00:01<00:00,  4.10it/s]"
          ]
        },
        {
          "output_type": "stream",
          "name": "stdout",
          "text": [
            "                   all        149        173      0.902      0.854      0.892      0.599\n"
          ]
        },
        {
          "output_type": "stream",
          "name": "stderr",
          "text": [
            "\n"
          ]
        },
        {
          "output_type": "stream",
          "name": "stdout",
          "text": [
            "\n",
            "      Epoch    GPU_mem   box_loss   cls_loss   dfl_loss  Instances       Size\n"
          ]
        },
        {
          "output_type": "stream",
          "name": "stderr",
          "text": [
            "      47/50      2.14G      1.014     0.8967      1.279         18        640: 100%|██████████| 33/33 [00:08<00:00,  3.73it/s]\n",
            "                 Class     Images  Instances      Box(P          R      mAP50  mAP50-95): 100%|██████████| 5/5 [00:02<00:00,  2.05it/s]"
          ]
        },
        {
          "output_type": "stream",
          "name": "stdout",
          "text": [
            "                   all        149        173      0.875      0.847      0.893      0.609\n"
          ]
        },
        {
          "output_type": "stream",
          "name": "stderr",
          "text": [
            "\n"
          ]
        },
        {
          "output_type": "stream",
          "name": "stdout",
          "text": [
            "\n",
            "      Epoch    GPU_mem   box_loss   cls_loss   dfl_loss  Instances       Size\n"
          ]
        },
        {
          "output_type": "stream",
          "name": "stderr",
          "text": [
            "      48/50      2.14G     0.9975      0.878       1.24         19        640: 100%|██████████| 33/33 [00:07<00:00,  4.39it/s]\n",
            "                 Class     Images  Instances      Box(P          R      mAP50  mAP50-95): 100%|██████████| 5/5 [00:01<00:00,  3.88it/s]"
          ]
        },
        {
          "output_type": "stream",
          "name": "stdout",
          "text": [
            "                   all        149        173      0.915       0.85      0.902       0.62\n"
          ]
        },
        {
          "output_type": "stream",
          "name": "stderr",
          "text": [
            "\n"
          ]
        },
        {
          "output_type": "stream",
          "name": "stdout",
          "text": [
            "\n",
            "      Epoch    GPU_mem   box_loss   cls_loss   dfl_loss  Instances       Size\n"
          ]
        },
        {
          "output_type": "stream",
          "name": "stderr",
          "text": [
            "      49/50      2.14G     0.9278     0.8377      1.222         19        640: 100%|██████████| 33/33 [00:11<00:00,  2.97it/s]\n",
            "                 Class     Images  Instances      Box(P          R      mAP50  mAP50-95): 100%|██████████| 5/5 [00:01<00:00,  3.71it/s]"
          ]
        },
        {
          "output_type": "stream",
          "name": "stdout",
          "text": [
            "                   all        149        173      0.925       0.85      0.905      0.616\n"
          ]
        },
        {
          "output_type": "stream",
          "name": "stderr",
          "text": [
            "\n"
          ]
        },
        {
          "output_type": "stream",
          "name": "stdout",
          "text": [
            "\n",
            "      Epoch    GPU_mem   box_loss   cls_loss   dfl_loss  Instances       Size\n"
          ]
        },
        {
          "output_type": "stream",
          "name": "stderr",
          "text": [
            "      50/50      2.16G     0.9478     0.8502      1.211         15        640: 100%|██████████| 33/33 [00:07<00:00,  4.51it/s]\n",
            "                 Class     Images  Instances      Box(P          R      mAP50  mAP50-95): 100%|██████████| 5/5 [00:01<00:00,  2.77it/s]"
          ]
        },
        {
          "output_type": "stream",
          "name": "stdout",
          "text": [
            "                   all        149        173      0.921      0.855      0.885      0.619\n"
          ]
        },
        {
          "output_type": "stream",
          "name": "stderr",
          "text": [
            "\n"
          ]
        },
        {
          "output_type": "stream",
          "name": "stdout",
          "text": [
            "\n",
            "50 epochs completed in 0.170 hours.\n",
            "Optimizer stripped from runs/detect/train7/weights/last.pt, 6.2MB\n",
            "Optimizer stripped from runs/detect/train7/weights/best.pt, 6.2MB\n",
            "\n",
            "Validating runs/detect/train7/weights/best.pt...\n",
            "Ultralytics 8.3.74 🚀 Python-3.11.11 torch-2.5.1+cu124 CUDA:0 (Tesla T4, 15095MiB)\n",
            "Model summary (fused): 168 layers, 3,005,843 parameters, 0 gradients, 8.1 GFLOPs\n"
          ]
        },
        {
          "output_type": "stream",
          "name": "stderr",
          "text": [
            "                 Class     Images  Instances      Box(P          R      mAP50  mAP50-95): 100%|██████████| 5/5 [00:04<00:00,  1.09it/s]\n"
          ]
        },
        {
          "output_type": "stream",
          "name": "stdout",
          "text": [
            "                   all        149        173      0.914       0.85      0.902      0.619\n",
            "Speed: 0.5ms preprocess, 3.4ms inference, 0.0ms loss, 5.0ms postprocess per image\n",
            "Results saved to \u001b[1mruns/detect/train7\u001b[0m\n"
          ]
        },
        {
          "output_type": "execute_result",
          "data": {
            "text/plain": [
              "ultralytics.utils.metrics.DetMetrics object with attributes:\n",
              "\n",
              "ap_class_index: array([0])\n",
              "box: ultralytics.utils.metrics.Metric object\n",
              "confusion_matrix: <ultralytics.utils.metrics.ConfusionMatrix object at 0x7a8e19fab610>\n",
              "curves: ['Precision-Recall(B)', 'F1-Confidence(B)', 'Precision-Confidence(B)', 'Recall-Confidence(B)']\n",
              "curves_results: [[array([          0,    0.001001,    0.002002,    0.003003,    0.004004,    0.005005,    0.006006,    0.007007,    0.008008,    0.009009,     0.01001,    0.011011,    0.012012,    0.013013,    0.014014,    0.015015,    0.016016,    0.017017,    0.018018,    0.019019,     0.02002,    0.021021,    0.022022,    0.023023,\n",
              "          0.024024,    0.025025,    0.026026,    0.027027,    0.028028,    0.029029,     0.03003,    0.031031,    0.032032,    0.033033,    0.034034,    0.035035,    0.036036,    0.037037,    0.038038,    0.039039,     0.04004,    0.041041,    0.042042,    0.043043,    0.044044,    0.045045,    0.046046,    0.047047,\n",
              "          0.048048,    0.049049,     0.05005,    0.051051,    0.052052,    0.053053,    0.054054,    0.055055,    0.056056,    0.057057,    0.058058,    0.059059,     0.06006,    0.061061,    0.062062,    0.063063,    0.064064,    0.065065,    0.066066,    0.067067,    0.068068,    0.069069,     0.07007,    0.071071,\n",
              "          0.072072,    0.073073,    0.074074,    0.075075,    0.076076,    0.077077,    0.078078,    0.079079,     0.08008,    0.081081,    0.082082,    0.083083,    0.084084,    0.085085,    0.086086,    0.087087,    0.088088,    0.089089,     0.09009,    0.091091,    0.092092,    0.093093,    0.094094,    0.095095,\n",
              "          0.096096,    0.097097,    0.098098,    0.099099,      0.1001,      0.1011,      0.1021,      0.1031,      0.1041,     0.10511,     0.10611,     0.10711,     0.10811,     0.10911,     0.11011,     0.11111,     0.11211,     0.11311,     0.11411,     0.11512,     0.11612,     0.11712,     0.11812,     0.11912,\n",
              "           0.12012,     0.12112,     0.12212,     0.12312,     0.12412,     0.12513,     0.12613,     0.12713,     0.12813,     0.12913,     0.13013,     0.13113,     0.13213,     0.13313,     0.13413,     0.13514,     0.13614,     0.13714,     0.13814,     0.13914,     0.14014,     0.14114,     0.14214,     0.14314,\n",
              "           0.14414,     0.14515,     0.14615,     0.14715,     0.14815,     0.14915,     0.15015,     0.15115,     0.15215,     0.15315,     0.15415,     0.15516,     0.15616,     0.15716,     0.15816,     0.15916,     0.16016,     0.16116,     0.16216,     0.16316,     0.16416,     0.16517,     0.16617,     0.16717,\n",
              "           0.16817,     0.16917,     0.17017,     0.17117,     0.17217,     0.17317,     0.17417,     0.17518,     0.17618,     0.17718,     0.17818,     0.17918,     0.18018,     0.18118,     0.18218,     0.18318,     0.18418,     0.18519,     0.18619,     0.18719,     0.18819,     0.18919,     0.19019,     0.19119,\n",
              "           0.19219,     0.19319,     0.19419,      0.1952,      0.1962,      0.1972,      0.1982,      0.1992,      0.2002,      0.2012,      0.2022,      0.2032,      0.2042,     0.20521,     0.20621,     0.20721,     0.20821,     0.20921,     0.21021,     0.21121,     0.21221,     0.21321,     0.21421,     0.21522,\n",
              "           0.21622,     0.21722,     0.21822,     0.21922,     0.22022,     0.22122,     0.22222,     0.22322,     0.22422,     0.22523,     0.22623,     0.22723,     0.22823,     0.22923,     0.23023,     0.23123,     0.23223,     0.23323,     0.23423,     0.23524,     0.23624,     0.23724,     0.23824,     0.23924,\n",
              "           0.24024,     0.24124,     0.24224,     0.24324,     0.24424,     0.24525,     0.24625,     0.24725,     0.24825,     0.24925,     0.25025,     0.25125,     0.25225,     0.25325,     0.25425,     0.25526,     0.25626,     0.25726,     0.25826,     0.25926,     0.26026,     0.26126,     0.26226,     0.26326,\n",
              "           0.26426,     0.26527,     0.26627,     0.26727,     0.26827,     0.26927,     0.27027,     0.27127,     0.27227,     0.27327,     0.27427,     0.27528,     0.27628,     0.27728,     0.27828,     0.27928,     0.28028,     0.28128,     0.28228,     0.28328,     0.28428,     0.28529,     0.28629,     0.28729,\n",
              "           0.28829,     0.28929,     0.29029,     0.29129,     0.29229,     0.29329,     0.29429,      0.2953,      0.2963,      0.2973,      0.2983,      0.2993,      0.3003,      0.3013,      0.3023,      0.3033,      0.3043,     0.30531,     0.30631,     0.30731,     0.30831,     0.30931,     0.31031,     0.31131,\n",
              "           0.31231,     0.31331,     0.31431,     0.31532,     0.31632,     0.31732,     0.31832,     0.31932,     0.32032,     0.32132,     0.32232,     0.32332,     0.32432,     0.32533,     0.32633,     0.32733,     0.32833,     0.32933,     0.33033,     0.33133,     0.33233,     0.33333,     0.33433,     0.33534,\n",
              "           0.33634,     0.33734,     0.33834,     0.33934,     0.34034,     0.34134,     0.34234,     0.34334,     0.34434,     0.34535,     0.34635,     0.34735,     0.34835,     0.34935,     0.35035,     0.35135,     0.35235,     0.35335,     0.35435,     0.35536,     0.35636,     0.35736,     0.35836,     0.35936,\n",
              "           0.36036,     0.36136,     0.36236,     0.36336,     0.36436,     0.36537,     0.36637,     0.36737,     0.36837,     0.36937,     0.37037,     0.37137,     0.37237,     0.37337,     0.37437,     0.37538,     0.37638,     0.37738,     0.37838,     0.37938,     0.38038,     0.38138,     0.38238,     0.38338,\n",
              "           0.38438,     0.38539,     0.38639,     0.38739,     0.38839,     0.38939,     0.39039,     0.39139,     0.39239,     0.39339,     0.39439,      0.3954,      0.3964,      0.3974,      0.3984,      0.3994,      0.4004,      0.4014,      0.4024,      0.4034,      0.4044,     0.40541,     0.40641,     0.40741,\n",
              "           0.40841,     0.40941,     0.41041,     0.41141,     0.41241,     0.41341,     0.41441,     0.41542,     0.41642,     0.41742,     0.41842,     0.41942,     0.42042,     0.42142,     0.42242,     0.42342,     0.42442,     0.42543,     0.42643,     0.42743,     0.42843,     0.42943,     0.43043,     0.43143,\n",
              "           0.43243,     0.43343,     0.43443,     0.43544,     0.43644,     0.43744,     0.43844,     0.43944,     0.44044,     0.44144,     0.44244,     0.44344,     0.44444,     0.44545,     0.44645,     0.44745,     0.44845,     0.44945,     0.45045,     0.45145,     0.45245,     0.45345,     0.45445,     0.45546,\n",
              "           0.45646,     0.45746,     0.45846,     0.45946,     0.46046,     0.46146,     0.46246,     0.46346,     0.46446,     0.46547,     0.46647,     0.46747,     0.46847,     0.46947,     0.47047,     0.47147,     0.47247,     0.47347,     0.47447,     0.47548,     0.47648,     0.47748,     0.47848,     0.47948,\n",
              "           0.48048,     0.48148,     0.48248,     0.48348,     0.48448,     0.48549,     0.48649,     0.48749,     0.48849,     0.48949,     0.49049,     0.49149,     0.49249,     0.49349,     0.49449,      0.4955,      0.4965,      0.4975,      0.4985,      0.4995,      0.5005,      0.5015,      0.5025,      0.5035,\n",
              "            0.5045,     0.50551,     0.50651,     0.50751,     0.50851,     0.50951,     0.51051,     0.51151,     0.51251,     0.51351,     0.51451,     0.51552,     0.51652,     0.51752,     0.51852,     0.51952,     0.52052,     0.52152,     0.52252,     0.52352,     0.52452,     0.52553,     0.52653,     0.52753,\n",
              "           0.52853,     0.52953,     0.53053,     0.53153,     0.53253,     0.53353,     0.53453,     0.53554,     0.53654,     0.53754,     0.53854,     0.53954,     0.54054,     0.54154,     0.54254,     0.54354,     0.54454,     0.54555,     0.54655,     0.54755,     0.54855,     0.54955,     0.55055,     0.55155,\n",
              "           0.55255,     0.55355,     0.55455,     0.55556,     0.55656,     0.55756,     0.55856,     0.55956,     0.56056,     0.56156,     0.56256,     0.56356,     0.56456,     0.56557,     0.56657,     0.56757,     0.56857,     0.56957,     0.57057,     0.57157,     0.57257,     0.57357,     0.57457,     0.57558,\n",
              "           0.57658,     0.57758,     0.57858,     0.57958,     0.58058,     0.58158,     0.58258,     0.58358,     0.58458,     0.58559,     0.58659,     0.58759,     0.58859,     0.58959,     0.59059,     0.59159,     0.59259,     0.59359,     0.59459,      0.5956,      0.5966,      0.5976,      0.5986,      0.5996,\n",
              "            0.6006,      0.6016,      0.6026,      0.6036,      0.6046,     0.60561,     0.60661,     0.60761,     0.60861,     0.60961,     0.61061,     0.61161,     0.61261,     0.61361,     0.61461,     0.61562,     0.61662,     0.61762,     0.61862,     0.61962,     0.62062,     0.62162,     0.62262,     0.62362,\n",
              "           0.62462,     0.62563,     0.62663,     0.62763,     0.62863,     0.62963,     0.63063,     0.63163,     0.63263,     0.63363,     0.63463,     0.63564,     0.63664,     0.63764,     0.63864,     0.63964,     0.64064,     0.64164,     0.64264,     0.64364,     0.64464,     0.64565,     0.64665,     0.64765,\n",
              "           0.64865,     0.64965,     0.65065,     0.65165,     0.65265,     0.65365,     0.65465,     0.65566,     0.65666,     0.65766,     0.65866,     0.65966,     0.66066,     0.66166,     0.66266,     0.66366,     0.66466,     0.66567,     0.66667,     0.66767,     0.66867,     0.66967,     0.67067,     0.67167,\n",
              "           0.67267,     0.67367,     0.67467,     0.67568,     0.67668,     0.67768,     0.67868,     0.67968,     0.68068,     0.68168,     0.68268,     0.68368,     0.68468,     0.68569,     0.68669,     0.68769,     0.68869,     0.68969,     0.69069,     0.69169,     0.69269,     0.69369,     0.69469,      0.6957,\n",
              "            0.6967,      0.6977,      0.6987,      0.6997,      0.7007,      0.7017,      0.7027,      0.7037,      0.7047,     0.70571,     0.70671,     0.70771,     0.70871,     0.70971,     0.71071,     0.71171,     0.71271,     0.71371,     0.71471,     0.71572,     0.71672,     0.71772,     0.71872,     0.71972,\n",
              "           0.72072,     0.72172,     0.72272,     0.72372,     0.72472,     0.72573,     0.72673,     0.72773,     0.72873,     0.72973,     0.73073,     0.73173,     0.73273,     0.73373,     0.73473,     0.73574,     0.73674,     0.73774,     0.73874,     0.73974,     0.74074,     0.74174,     0.74274,     0.74374,\n",
              "           0.74474,     0.74575,     0.74675,     0.74775,     0.74875,     0.74975,     0.75075,     0.75175,     0.75275,     0.75375,     0.75475,     0.75576,     0.75676,     0.75776,     0.75876,     0.75976,     0.76076,     0.76176,     0.76276,     0.76376,     0.76476,     0.76577,     0.76677,     0.76777,\n",
              "           0.76877,     0.76977,     0.77077,     0.77177,     0.77277,     0.77377,     0.77477,     0.77578,     0.77678,     0.77778,     0.77878,     0.77978,     0.78078,     0.78178,     0.78278,     0.78378,     0.78478,     0.78579,     0.78679,     0.78779,     0.78879,     0.78979,     0.79079,     0.79179,\n",
              "           0.79279,     0.79379,     0.79479,      0.7958,      0.7968,      0.7978,      0.7988,      0.7998,      0.8008,      0.8018,      0.8028,      0.8038,      0.8048,     0.80581,     0.80681,     0.80781,     0.80881,     0.80981,     0.81081,     0.81181,     0.81281,     0.81381,     0.81481,     0.81582,\n",
              "           0.81682,     0.81782,     0.81882,     0.81982,     0.82082,     0.82182,     0.82282,     0.82382,     0.82482,     0.82583,     0.82683,     0.82783,     0.82883,     0.82983,     0.83083,     0.83183,     0.83283,     0.83383,     0.83483,     0.83584,     0.83684,     0.83784,     0.83884,     0.83984,\n",
              "           0.84084,     0.84184,     0.84284,     0.84384,     0.84484,     0.84585,     0.84685,     0.84785,     0.84885,     0.84985,     0.85085,     0.85185,     0.85285,     0.85385,     0.85485,     0.85586,     0.85686,     0.85786,     0.85886,     0.85986,     0.86086,     0.86186,     0.86286,     0.86386,\n",
              "           0.86486,     0.86587,     0.86687,     0.86787,     0.86887,     0.86987,     0.87087,     0.87187,     0.87287,     0.87387,     0.87487,     0.87588,     0.87688,     0.87788,     0.87888,     0.87988,     0.88088,     0.88188,     0.88288,     0.88388,     0.88488,     0.88589,     0.88689,     0.88789,\n",
              "           0.88889,     0.88989,     0.89089,     0.89189,     0.89289,     0.89389,     0.89489,      0.8959,      0.8969,      0.8979,      0.8989,      0.8999,      0.9009,      0.9019,      0.9029,      0.9039,      0.9049,     0.90591,     0.90691,     0.90791,     0.90891,     0.90991,     0.91091,     0.91191,\n",
              "           0.91291,     0.91391,     0.91491,     0.91592,     0.91692,     0.91792,     0.91892,     0.91992,     0.92092,     0.92192,     0.92292,     0.92392,     0.92492,     0.92593,     0.92693,     0.92793,     0.92893,     0.92993,     0.93093,     0.93193,     0.93293,     0.93393,     0.93493,     0.93594,\n",
              "           0.93694,     0.93794,     0.93894,     0.93994,     0.94094,     0.94194,     0.94294,     0.94394,     0.94494,     0.94595,     0.94695,     0.94795,     0.94895,     0.94995,     0.95095,     0.95195,     0.95295,     0.95395,     0.95495,     0.95596,     0.95696,     0.95796,     0.95896,     0.95996,\n",
              "           0.96096,     0.96196,     0.96296,     0.96396,     0.96496,     0.96597,     0.96697,     0.96797,     0.96897,     0.96997,     0.97097,     0.97197,     0.97297,     0.97397,     0.97497,     0.97598,     0.97698,     0.97798,     0.97898,     0.97998,     0.98098,     0.98198,     0.98298,     0.98398,\n",
              "           0.98498,     0.98599,     0.98699,     0.98799,     0.98899,     0.98999,     0.99099,     0.99199,     0.99299,     0.99399,     0.99499,       0.996,       0.997,       0.998,       0.999,           1]), array([[          1,           1,           1,           1,           1,           1,           1,           1,           1,           1,           1,           1,           1,           1,           1,           1,           1,           1,           1,           1,           1,           1,           1,\n",
              "                  1,           1,           1,           1,           1,           1,           1,           1,           1,           1,           1,           1,           1,           1,           1,           1,           1,           1,           1,           1,           1,           1,           1,\n",
              "                  1,           1,           1,           1,           1,           1,           1,           1,           1,           1,           1,           1,           1,           1,           1,           1,           1,           1,           1,           1,           1,           1,           1,\n",
              "                  1,           1,           1,           1,           1,           1,           1,           1,           1,           1,           1,           1,           1,           1,           1,           1,           1,           1,     0.98718,     0.98718,     0.98718,     0.98718,     0.98718,\n",
              "            0.98718,     0.98718,     0.98718,     0.98718,     0.98718,     0.98718,     0.98718,     0.98718,     0.98718,     0.98718,     0.98718,     0.98718,     0.98718,     0.98718,     0.98718,     0.98718,     0.98718,     0.98718,     0.98718,     0.98718,     0.98718,     0.98718,     0.98718,\n",
              "            0.98718,     0.98718,     0.98718,     0.98718,     0.98718,     0.98718,     0.98718,     0.98718,     0.98718,     0.98718,     0.98718,     0.98718,     0.98718,     0.98718,     0.98718,     0.98718,     0.98718,     0.98718,     0.98718,     0.98718,     0.98718,     0.98718,     0.98718,\n",
              "            0.98718,     0.98718,     0.98718,     0.98718,     0.98718,     0.98718,     0.98718,     0.98718,     0.98718,     0.98718,     0.98718,     0.98718,     0.98718,     0.98718,     0.98718,     0.98718,     0.98718,     0.98718,     0.98718,     0.98718,     0.98718,     0.98718,     0.98718,\n",
              "            0.98718,     0.98718,     0.98718,     0.98718,     0.98718,     0.98718,     0.98718,     0.98718,     0.98718,     0.98718,     0.98718,     0.98718,     0.98718,     0.98718,     0.98718,     0.98718,     0.98718,     0.98718,     0.98718,     0.98718,     0.98718,     0.98718,     0.98718,\n",
              "            0.98718,     0.98718,     0.98718,     0.98718,     0.98718,     0.98718,     0.98718,     0.98718,     0.98718,     0.98718,     0.98718,     0.98718,     0.98718,     0.98718,     0.98718,     0.98718,     0.98718,     0.98718,     0.98718,     0.98718,     0.98718,     0.98718,     0.98718,\n",
              "            0.98718,     0.98718,     0.98718,     0.98718,     0.98718,     0.98718,     0.98718,     0.98718,     0.98718,     0.98718,     0.98718,     0.98718,     0.98718,     0.98718,     0.98718,     0.98718,     0.98718,     0.98718,     0.98718,     0.98718,     0.98718,     0.98718,     0.98718,\n",
              "            0.98718,     0.98718,     0.98718,     0.98718,     0.98718,     0.98718,     0.98718,     0.98718,     0.98718,     0.98718,     0.98718,     0.98718,     0.98718,     0.98718,     0.98718,     0.98718,     0.98718,     0.98718,     0.98718,     0.98718,     0.98718,     0.98718,     0.98718,\n",
              "            0.98718,     0.98718,     0.98718,     0.98718,     0.98718,     0.98718,     0.98718,     0.98718,     0.98718,     0.98718,     0.98718,     0.98718,     0.98718,     0.98718,     0.98718,     0.98718,     0.98718,     0.98718,     0.98718,     0.98718,     0.98718,     0.98718,     0.98718,\n",
              "            0.98718,     0.98718,     0.98718,     0.98718,     0.98718,     0.98718,     0.98718,     0.98718,     0.98718,     0.98718,     0.98718,     0.98718,     0.98718,     0.98718,     0.98718,     0.98718,     0.98718,     0.98718,     0.98718,     0.98718,     0.98718,     0.98718,     0.98718,\n",
              "            0.98718,     0.98718,     0.98718,     0.98718,     0.98718,     0.98718,     0.98718,     0.98718,     0.98718,     0.98718,     0.98718,     0.98718,     0.98718,     0.98718,     0.98718,     0.98718,     0.98718,     0.98718,     0.98718,     0.98718,     0.98718,     0.98718,     0.98718,\n",
              "            0.98718,     0.98718,     0.98718,     0.98718,     0.98718,     0.98718,     0.98718,     0.98718,     0.98718,     0.98718,     0.98718,     0.98718,     0.98718,     0.98718,     0.98718,     0.98718,     0.98718,     0.98718,     0.98718,     0.98718,     0.98718,     0.98718,     0.98718,\n",
              "            0.98718,     0.98718,     0.98718,     0.98718,     0.98718,     0.98718,     0.98718,     0.98718,     0.98718,     0.98718,     0.98718,     0.98718,     0.98718,     0.98718,     0.98718,     0.98718,     0.98718,     0.98718,     0.98718,     0.98718,     0.98718,     0.98718,     0.98718,\n",
              "            0.98718,     0.98718,     0.98718,     0.98718,     0.98718,     0.98718,     0.98718,     0.98718,     0.98718,     0.98718,     0.98718,     0.98718,     0.98718,     0.98718,     0.98718,     0.98718,     0.98718,     0.98718,     0.98718,     0.98718,     0.98718,     0.98718,     0.98718,\n",
              "            0.98718,     0.98718,     0.98718,     0.98718,     0.98718,     0.98718,     0.98718,     0.98718,     0.98718,     0.98718,     0.98718,     0.98718,     0.98718,     0.98718,     0.98718,     0.98718,     0.98718,     0.98718,     0.98718,     0.98718,     0.98718,     0.98718,     0.98718,\n",
              "            0.98718,     0.98718,     0.98718,     0.98718,     0.98718,     0.98718,     0.98718,     0.98718,     0.98718,     0.98718,     0.98718,     0.98718,     0.98718,     0.98718,     0.98718,     0.98718,     0.98718,     0.98718,     0.98718,     0.98718,     0.98718,     0.98718,     0.98718,\n",
              "            0.98718,     0.98718,     0.98718,     0.98718,     0.98718,     0.98718,     0.98718,     0.98718,     0.97561,     0.97561,     0.97561,     0.97561,     0.97561,     0.97561,     0.97561,     0.97561,     0.97561,     0.97561,     0.97561,     0.97561,     0.97561,     0.97561,     0.97561,\n",
              "            0.97561,     0.97561,     0.97561,     0.97561,     0.97561,     0.97561,     0.97561,     0.97561,     0.97561,     0.97561,     0.97561,     0.97561,     0.97561,     0.97561,     0.97561,     0.97561,     0.97561,     0.97561,     0.97561,     0.97561,     0.97561,     0.97561,     0.97561,\n",
              "            0.97561,     0.97561,     0.97561,     0.97561,     0.97561,     0.97561,     0.97561,     0.97561,     0.97561,     0.97561,     0.97561,     0.97561,     0.97561,     0.97561,     0.97561,     0.97561,     0.97561,     0.97561,     0.97561,     0.97561,     0.97561,     0.97561,     0.97561,\n",
              "            0.97561,     0.97561,     0.97561,     0.97561,     0.97561,     0.97561,     0.97561,     0.97561,     0.97561,     0.97561,     0.97561,     0.97561,     0.97561,     0.97561,     0.97561,     0.97561,     0.97561,     0.97561,     0.97561,     0.97561,     0.97561,     0.97561,     0.97561,\n",
              "            0.97561,     0.97561,     0.97561,     0.97561,     0.97561,     0.97561,     0.97561,     0.97561,     0.97561,     0.97561,     0.97561,     0.97561,     0.97561,     0.97561,     0.97561,     0.97561,     0.97561,     0.97561,     0.97561,     0.97561,     0.97561,     0.97561,     0.97561,\n",
              "            0.97561,     0.97561,     0.97561,     0.97561,     0.97561,     0.97561,     0.97561,     0.97561,     0.97561,     0.97561,     0.97561,     0.97561,     0.97561,     0.97561,     0.97561,     0.97561,     0.97561,     0.97561,     0.97561,     0.97561,     0.97561,     0.97561,     0.97561,\n",
              "            0.97561,     0.97561,     0.97561,     0.97561,     0.97561,     0.97561,     0.97561,     0.97561,     0.97561,     0.97561,     0.97561,     0.97561,     0.97561,     0.97561,     0.97561,     0.97561,     0.97561,     0.97561,     0.97561,     0.97561,     0.97561,     0.97561,     0.97561,\n",
              "            0.97561,     0.97561,     0.97561,     0.97561,     0.97561,     0.97561,     0.97561,     0.97561,     0.97561,     0.97561,     0.97561,     0.97561,     0.97561,     0.97561,     0.97561,     0.97561,     0.97561,     0.97561,     0.97561,     0.97561,     0.97561,     0.97561,     0.97561,\n",
              "            0.97561,     0.97561,     0.97561,     0.97561,     0.97561,     0.97561,     0.97561,     0.97561,     0.97561,     0.97561,     0.97561,     0.97561,     0.97561,     0.97561,     0.97561,     0.97561,     0.97561,     0.97561,     0.97561,     0.97561,     0.97561,     0.97561,     0.97561,\n",
              "            0.97561,     0.97561,     0.97561,     0.97561,     0.97561,     0.97561,     0.97561,     0.97561,     0.97561,     0.97561,     0.97561,     0.97561,     0.97561,     0.97561,     0.97561,     0.97561,     0.97561,     0.97561,     0.97561,     0.97561,     0.97561,     0.97561,     0.97561,\n",
              "            0.97561,     0.97561,     0.97561,     0.97561,     0.97561,     0.97561,     0.97561,     0.97561,     0.97561,     0.97561,     0.97561,     0.97561,     0.97561,     0.97561,     0.97561,     0.97561,     0.97561,     0.97561,     0.97561,     0.97561,     0.97561,     0.97561,     0.97561,\n",
              "            0.97561,     0.97561,     0.97561,     0.96875,     0.96875,     0.96875,     0.96875,     0.96875,     0.96875,     0.96875,     0.96875,     0.96875,     0.96875,     0.96875,     0.96875,     0.96875,     0.96875,     0.96875,     0.96875,     0.96875,     0.96875,     0.96875,     0.96875,\n",
              "            0.96875,     0.96875,     0.96875,     0.96875,     0.96296,     0.96296,     0.96296,     0.96296,     0.96296,     0.96296,     0.96296,     0.96296,     0.96296,     0.96296,     0.96296,     0.96296,     0.96296,     0.96296,     0.96296,     0.96296,     0.96296,     0.96296,     0.96296,\n",
              "            0.96296,     0.96296,     0.96296,     0.96296,     0.96296,     0.96296,     0.96296,     0.96296,     0.96296,     0.96296,     0.96296,     0.96296,     0.96296,     0.96296,     0.96296,     0.95172,     0.95172,     0.95172,     0.95172,     0.95172,     0.95172,     0.95172,     0.95172,\n",
              "            0.95172,     0.95172,     0.95172,     0.95172,     0.95172,     0.95172,     0.95172,     0.95172,     0.95172,     0.95172,     0.95172,     0.95172,     0.95172,     0.95172,     0.95172,     0.95172,     0.95172,     0.95172,     0.95172,     0.95172,     0.95172,     0.95172,     0.95172,\n",
              "            0.95172,     0.95172,     0.95172,     0.95172,     0.95172,     0.95172,     0.95172,     0.95172,     0.95172,     0.95172,     0.95172,     0.95172,     0.95172,     0.95172,     0.95172,     0.94558,     0.94558,     0.94558,     0.94558,     0.94558,     0.94558,        0.94,        0.94,\n",
              "               0.94,        0.94,        0.94,        0.94,        0.94,        0.94,        0.94,        0.94,        0.94,        0.94,     0.93421,     0.93421,     0.93421,     0.93421,     0.93421,     0.92258,     0.92258,     0.92258,     0.92258,     0.92258,     0.92258,     0.91875,     0.91875,\n",
              "            0.91875,     0.91875,     0.91875,     0.91875,     0.91875,     0.91875,     0.91875,     0.91875,     0.91875,     0.91875,     0.91875,     0.91875,     0.91875,     0.91875,     0.91875,     0.91875,     0.91875,     0.91875,     0.91875,     0.91875,     0.91875,     0.88095,     0.88095,\n",
              "            0.88095,     0.88095,     0.88095,     0.88095,     0.87647,     0.87647,     0.87647,     0.87647,     0.87647,     0.87647,     0.86705,     0.86705,     0.86705,     0.86705,     0.86705,     0.86705,     0.84831,     0.84831,     0.84831,     0.84831,     0.84831,     0.83978,     0.83978,\n",
              "            0.83978,     0.83978,     0.83978,     0.83978,     0.83607,     0.83607,     0.83607,     0.83607,     0.83607,     0.83607,     0.80628,     0.80628,     0.80628,     0.80628,     0.80628,     0.80628,     0.79487,     0.79487,     0.79487,     0.79487,     0.79487,     0.79487,     0.69955,\n",
              "            0.69955,     0.69955,     0.69955,     0.69955,     0.64344,     0.64344,     0.64344,     0.64344,     0.64344,     0.64344,     0.52843,     0.52843,     0.52843,     0.52843,     0.52843,     0.52843,     0.51456,     0.51456,     0.51456,     0.51456,     0.51456,     0.51456,     0.42667,\n",
              "            0.42667,     0.42667,     0.42667,     0.42667,     0.38902,     0.38902,     0.38902,     0.38902,     0.38902,     0.38902,     0.38902,     0.38902,     0.38902,     0.38902,     0.38902,     0.38902,     0.38902,     0.38902,     0.38902,     0.38902,     0.38902,     0.38902,     0.37963,\n",
              "            0.37963,     0.37963,     0.37963,     0.37963,     0.37963,     0.33199,     0.33199,     0.33199,     0.33199,     0.33199,      0.2867,      0.2867,      0.2867,      0.2867,      0.2867,      0.2867,     0.17432,     0.17432,     0.17432,     0.17432,     0.17432,     0.17432,     0.14737,\n",
              "            0.14737,     0.14737,     0.14737,     0.14737,     0.14737,     0.13542,     0.13542,     0.13542,     0.13542,     0.13542,    0.090522,    0.090522,    0.090522,    0.090522,    0.090522,    0.090522,    0.090142,    0.090142,    0.090142,    0.090142,    0.090142,    0.090142,    0.076615,\n",
              "           0.076615,    0.076615,    0.076615,    0.076615,    0.076615,    0.050335,    0.050335,    0.050335,    0.050335,    0.050335,           0]]), 'Recall', 'Precision'], [array([          0,    0.001001,    0.002002,    0.003003,    0.004004,    0.005005,    0.006006,    0.007007,    0.008008,    0.009009,     0.01001,    0.011011,    0.012012,    0.013013,    0.014014,    0.015015,    0.016016,    0.017017,    0.018018,    0.019019,     0.02002,    0.021021,    0.022022,    0.023023,\n",
              "          0.024024,    0.025025,    0.026026,    0.027027,    0.028028,    0.029029,     0.03003,    0.031031,    0.032032,    0.033033,    0.034034,    0.035035,    0.036036,    0.037037,    0.038038,    0.039039,     0.04004,    0.041041,    0.042042,    0.043043,    0.044044,    0.045045,    0.046046,    0.047047,\n",
              "          0.048048,    0.049049,     0.05005,    0.051051,    0.052052,    0.053053,    0.054054,    0.055055,    0.056056,    0.057057,    0.058058,    0.059059,     0.06006,    0.061061,    0.062062,    0.063063,    0.064064,    0.065065,    0.066066,    0.067067,    0.068068,    0.069069,     0.07007,    0.071071,\n",
              "          0.072072,    0.073073,    0.074074,    0.075075,    0.076076,    0.077077,    0.078078,    0.079079,     0.08008,    0.081081,    0.082082,    0.083083,    0.084084,    0.085085,    0.086086,    0.087087,    0.088088,    0.089089,     0.09009,    0.091091,    0.092092,    0.093093,    0.094094,    0.095095,\n",
              "          0.096096,    0.097097,    0.098098,    0.099099,      0.1001,      0.1011,      0.1021,      0.1031,      0.1041,     0.10511,     0.10611,     0.10711,     0.10811,     0.10911,     0.11011,     0.11111,     0.11211,     0.11311,     0.11411,     0.11512,     0.11612,     0.11712,     0.11812,     0.11912,\n",
              "           0.12012,     0.12112,     0.12212,     0.12312,     0.12412,     0.12513,     0.12613,     0.12713,     0.12813,     0.12913,     0.13013,     0.13113,     0.13213,     0.13313,     0.13413,     0.13514,     0.13614,     0.13714,     0.13814,     0.13914,     0.14014,     0.14114,     0.14214,     0.14314,\n",
              "           0.14414,     0.14515,     0.14615,     0.14715,     0.14815,     0.14915,     0.15015,     0.15115,     0.15215,     0.15315,     0.15415,     0.15516,     0.15616,     0.15716,     0.15816,     0.15916,     0.16016,     0.16116,     0.16216,     0.16316,     0.16416,     0.16517,     0.16617,     0.16717,\n",
              "           0.16817,     0.16917,     0.17017,     0.17117,     0.17217,     0.17317,     0.17417,     0.17518,     0.17618,     0.17718,     0.17818,     0.17918,     0.18018,     0.18118,     0.18218,     0.18318,     0.18418,     0.18519,     0.18619,     0.18719,     0.18819,     0.18919,     0.19019,     0.19119,\n",
              "           0.19219,     0.19319,     0.19419,      0.1952,      0.1962,      0.1972,      0.1982,      0.1992,      0.2002,      0.2012,      0.2022,      0.2032,      0.2042,     0.20521,     0.20621,     0.20721,     0.20821,     0.20921,     0.21021,     0.21121,     0.21221,     0.21321,     0.21421,     0.21522,\n",
              "           0.21622,     0.21722,     0.21822,     0.21922,     0.22022,     0.22122,     0.22222,     0.22322,     0.22422,     0.22523,     0.22623,     0.22723,     0.22823,     0.22923,     0.23023,     0.23123,     0.23223,     0.23323,     0.23423,     0.23524,     0.23624,     0.23724,     0.23824,     0.23924,\n",
              "           0.24024,     0.24124,     0.24224,     0.24324,     0.24424,     0.24525,     0.24625,     0.24725,     0.24825,     0.24925,     0.25025,     0.25125,     0.25225,     0.25325,     0.25425,     0.25526,     0.25626,     0.25726,     0.25826,     0.25926,     0.26026,     0.26126,     0.26226,     0.26326,\n",
              "           0.26426,     0.26527,     0.26627,     0.26727,     0.26827,     0.26927,     0.27027,     0.27127,     0.27227,     0.27327,     0.27427,     0.27528,     0.27628,     0.27728,     0.27828,     0.27928,     0.28028,     0.28128,     0.28228,     0.28328,     0.28428,     0.28529,     0.28629,     0.28729,\n",
              "           0.28829,     0.28929,     0.29029,     0.29129,     0.29229,     0.29329,     0.29429,      0.2953,      0.2963,      0.2973,      0.2983,      0.2993,      0.3003,      0.3013,      0.3023,      0.3033,      0.3043,     0.30531,     0.30631,     0.30731,     0.30831,     0.30931,     0.31031,     0.31131,\n",
              "           0.31231,     0.31331,     0.31431,     0.31532,     0.31632,     0.31732,     0.31832,     0.31932,     0.32032,     0.32132,     0.32232,     0.32332,     0.32432,     0.32533,     0.32633,     0.32733,     0.32833,     0.32933,     0.33033,     0.33133,     0.33233,     0.33333,     0.33433,     0.33534,\n",
              "           0.33634,     0.33734,     0.33834,     0.33934,     0.34034,     0.34134,     0.34234,     0.34334,     0.34434,     0.34535,     0.34635,     0.34735,     0.34835,     0.34935,     0.35035,     0.35135,     0.35235,     0.35335,     0.35435,     0.35536,     0.35636,     0.35736,     0.35836,     0.35936,\n",
              "           0.36036,     0.36136,     0.36236,     0.36336,     0.36436,     0.36537,     0.36637,     0.36737,     0.36837,     0.36937,     0.37037,     0.37137,     0.37237,     0.37337,     0.37437,     0.37538,     0.37638,     0.37738,     0.37838,     0.37938,     0.38038,     0.38138,     0.38238,     0.38338,\n",
              "           0.38438,     0.38539,     0.38639,     0.38739,     0.38839,     0.38939,     0.39039,     0.39139,     0.39239,     0.39339,     0.39439,      0.3954,      0.3964,      0.3974,      0.3984,      0.3994,      0.4004,      0.4014,      0.4024,      0.4034,      0.4044,     0.40541,     0.40641,     0.40741,\n",
              "           0.40841,     0.40941,     0.41041,     0.41141,     0.41241,     0.41341,     0.41441,     0.41542,     0.41642,     0.41742,     0.41842,     0.41942,     0.42042,     0.42142,     0.42242,     0.42342,     0.42442,     0.42543,     0.42643,     0.42743,     0.42843,     0.42943,     0.43043,     0.43143,\n",
              "           0.43243,     0.43343,     0.43443,     0.43544,     0.43644,     0.43744,     0.43844,     0.43944,     0.44044,     0.44144,     0.44244,     0.44344,     0.44444,     0.44545,     0.44645,     0.44745,     0.44845,     0.44945,     0.45045,     0.45145,     0.45245,     0.45345,     0.45445,     0.45546,\n",
              "           0.45646,     0.45746,     0.45846,     0.45946,     0.46046,     0.46146,     0.46246,     0.46346,     0.46446,     0.46547,     0.46647,     0.46747,     0.46847,     0.46947,     0.47047,     0.47147,     0.47247,     0.47347,     0.47447,     0.47548,     0.47648,     0.47748,     0.47848,     0.47948,\n",
              "           0.48048,     0.48148,     0.48248,     0.48348,     0.48448,     0.48549,     0.48649,     0.48749,     0.48849,     0.48949,     0.49049,     0.49149,     0.49249,     0.49349,     0.49449,      0.4955,      0.4965,      0.4975,      0.4985,      0.4995,      0.5005,      0.5015,      0.5025,      0.5035,\n",
              "            0.5045,     0.50551,     0.50651,     0.50751,     0.50851,     0.50951,     0.51051,     0.51151,     0.51251,     0.51351,     0.51451,     0.51552,     0.51652,     0.51752,     0.51852,     0.51952,     0.52052,     0.52152,     0.52252,     0.52352,     0.52452,     0.52553,     0.52653,     0.52753,\n",
              "           0.52853,     0.52953,     0.53053,     0.53153,     0.53253,     0.53353,     0.53453,     0.53554,     0.53654,     0.53754,     0.53854,     0.53954,     0.54054,     0.54154,     0.54254,     0.54354,     0.54454,     0.54555,     0.54655,     0.54755,     0.54855,     0.54955,     0.55055,     0.55155,\n",
              "           0.55255,     0.55355,     0.55455,     0.55556,     0.55656,     0.55756,     0.55856,     0.55956,     0.56056,     0.56156,     0.56256,     0.56356,     0.56456,     0.56557,     0.56657,     0.56757,     0.56857,     0.56957,     0.57057,     0.57157,     0.57257,     0.57357,     0.57457,     0.57558,\n",
              "           0.57658,     0.57758,     0.57858,     0.57958,     0.58058,     0.58158,     0.58258,     0.58358,     0.58458,     0.58559,     0.58659,     0.58759,     0.58859,     0.58959,     0.59059,     0.59159,     0.59259,     0.59359,     0.59459,      0.5956,      0.5966,      0.5976,      0.5986,      0.5996,\n",
              "            0.6006,      0.6016,      0.6026,      0.6036,      0.6046,     0.60561,     0.60661,     0.60761,     0.60861,     0.60961,     0.61061,     0.61161,     0.61261,     0.61361,     0.61461,     0.61562,     0.61662,     0.61762,     0.61862,     0.61962,     0.62062,     0.62162,     0.62262,     0.62362,\n",
              "           0.62462,     0.62563,     0.62663,     0.62763,     0.62863,     0.62963,     0.63063,     0.63163,     0.63263,     0.63363,     0.63463,     0.63564,     0.63664,     0.63764,     0.63864,     0.63964,     0.64064,     0.64164,     0.64264,     0.64364,     0.64464,     0.64565,     0.64665,     0.64765,\n",
              "           0.64865,     0.64965,     0.65065,     0.65165,     0.65265,     0.65365,     0.65465,     0.65566,     0.65666,     0.65766,     0.65866,     0.65966,     0.66066,     0.66166,     0.66266,     0.66366,     0.66466,     0.66567,     0.66667,     0.66767,     0.66867,     0.66967,     0.67067,     0.67167,\n",
              "           0.67267,     0.67367,     0.67467,     0.67568,     0.67668,     0.67768,     0.67868,     0.67968,     0.68068,     0.68168,     0.68268,     0.68368,     0.68468,     0.68569,     0.68669,     0.68769,     0.68869,     0.68969,     0.69069,     0.69169,     0.69269,     0.69369,     0.69469,      0.6957,\n",
              "            0.6967,      0.6977,      0.6987,      0.6997,      0.7007,      0.7017,      0.7027,      0.7037,      0.7047,     0.70571,     0.70671,     0.70771,     0.70871,     0.70971,     0.71071,     0.71171,     0.71271,     0.71371,     0.71471,     0.71572,     0.71672,     0.71772,     0.71872,     0.71972,\n",
              "           0.72072,     0.72172,     0.72272,     0.72372,     0.72472,     0.72573,     0.72673,     0.72773,     0.72873,     0.72973,     0.73073,     0.73173,     0.73273,     0.73373,     0.73473,     0.73574,     0.73674,     0.73774,     0.73874,     0.73974,     0.74074,     0.74174,     0.74274,     0.74374,\n",
              "           0.74474,     0.74575,     0.74675,     0.74775,     0.74875,     0.74975,     0.75075,     0.75175,     0.75275,     0.75375,     0.75475,     0.75576,     0.75676,     0.75776,     0.75876,     0.75976,     0.76076,     0.76176,     0.76276,     0.76376,     0.76476,     0.76577,     0.76677,     0.76777,\n",
              "           0.76877,     0.76977,     0.77077,     0.77177,     0.77277,     0.77377,     0.77477,     0.77578,     0.77678,     0.77778,     0.77878,     0.77978,     0.78078,     0.78178,     0.78278,     0.78378,     0.78478,     0.78579,     0.78679,     0.78779,     0.78879,     0.78979,     0.79079,     0.79179,\n",
              "           0.79279,     0.79379,     0.79479,      0.7958,      0.7968,      0.7978,      0.7988,      0.7998,      0.8008,      0.8018,      0.8028,      0.8038,      0.8048,     0.80581,     0.80681,     0.80781,     0.80881,     0.80981,     0.81081,     0.81181,     0.81281,     0.81381,     0.81481,     0.81582,\n",
              "           0.81682,     0.81782,     0.81882,     0.81982,     0.82082,     0.82182,     0.82282,     0.82382,     0.82482,     0.82583,     0.82683,     0.82783,     0.82883,     0.82983,     0.83083,     0.83183,     0.83283,     0.83383,     0.83483,     0.83584,     0.83684,     0.83784,     0.83884,     0.83984,\n",
              "           0.84084,     0.84184,     0.84284,     0.84384,     0.84484,     0.84585,     0.84685,     0.84785,     0.84885,     0.84985,     0.85085,     0.85185,     0.85285,     0.85385,     0.85485,     0.85586,     0.85686,     0.85786,     0.85886,     0.85986,     0.86086,     0.86186,     0.86286,     0.86386,\n",
              "           0.86486,     0.86587,     0.86687,     0.86787,     0.86887,     0.86987,     0.87087,     0.87187,     0.87287,     0.87387,     0.87487,     0.87588,     0.87688,     0.87788,     0.87888,     0.87988,     0.88088,     0.88188,     0.88288,     0.88388,     0.88488,     0.88589,     0.88689,     0.88789,\n",
              "           0.88889,     0.88989,     0.89089,     0.89189,     0.89289,     0.89389,     0.89489,      0.8959,      0.8969,      0.8979,      0.8989,      0.8999,      0.9009,      0.9019,      0.9029,      0.9039,      0.9049,     0.90591,     0.90691,     0.90791,     0.90891,     0.90991,     0.91091,     0.91191,\n",
              "           0.91291,     0.91391,     0.91491,     0.91592,     0.91692,     0.91792,     0.91892,     0.91992,     0.92092,     0.92192,     0.92292,     0.92392,     0.92492,     0.92593,     0.92693,     0.92793,     0.92893,     0.92993,     0.93093,     0.93193,     0.93293,     0.93393,     0.93493,     0.93594,\n",
              "           0.93694,     0.93794,     0.93894,     0.93994,     0.94094,     0.94194,     0.94294,     0.94394,     0.94494,     0.94595,     0.94695,     0.94795,     0.94895,     0.94995,     0.95095,     0.95195,     0.95295,     0.95395,     0.95495,     0.95596,     0.95696,     0.95796,     0.95896,     0.95996,\n",
              "           0.96096,     0.96196,     0.96296,     0.96396,     0.96496,     0.96597,     0.96697,     0.96797,     0.96897,     0.96997,     0.97097,     0.97197,     0.97297,     0.97397,     0.97497,     0.97598,     0.97698,     0.97798,     0.97898,     0.97998,     0.98098,     0.98198,     0.98298,     0.98398,\n",
              "           0.98498,     0.98599,     0.98699,     0.98799,     0.98899,     0.98999,     0.99099,     0.99199,     0.99299,     0.99399,     0.99499,       0.996,       0.997,       0.998,       0.999,           1]), array([[    0.06668,     0.06668,     0.13645,      0.1824,     0.21805,     0.24783,     0.27719,      0.2984,     0.31989,     0.33661,     0.35737,     0.37168,     0.38651,     0.40092,     0.41926,     0.43742,     0.44349,     0.45915,     0.47089,     0.47721,     0.48673,     0.49062,     0.49741,\n",
              "            0.50306,      0.5129,      0.5228,     0.52886,      0.5393,     0.54021,     0.54502,      0.5434,     0.54728,     0.55028,     0.55511,     0.55878,     0.56179,      0.5688,     0.57345,     0.57622,     0.57898,     0.58247,     0.58176,     0.58662,     0.59239,     0.59563,     0.60153,\n",
              "            0.60553,     0.60736,     0.61141,     0.61513,      0.6179,     0.62007,     0.62233,      0.6236,     0.62663,     0.63008,      0.6309,     0.63677,     0.64289,     0.64467,      0.6469,     0.64825,     0.65092,     0.65245,     0.65366,     0.65534,     0.65698,     0.65792,       0.657,\n",
              "            0.66031,     0.66555,     0.66851,     0.66995,     0.67289,     0.67634,     0.67849,     0.68167,     0.68291,     0.68737,     0.68844,     0.69076,     0.69167,     0.69314,     0.69502,     0.69643,      0.6981,     0.69854,     0.69898,     0.70128,     0.70594,     0.70782,     0.70884,\n",
              "            0.71009,      0.7113,     0.71438,     0.71616,     0.71786,     0.72409,     0.72647,     0.72777,     0.72883,     0.72979,     0.73227,      0.7332,     0.73385,     0.73424,     0.73463,     0.73503,     0.73633,     0.74105,     0.74198,     0.74254,     0.74289,     0.74323,     0.74358,\n",
              "            0.74393,     0.74469,     0.74577,     0.75013,      0.7524,     0.75128,     0.75247,     0.75444,      0.7554,       0.756,     0.75658,     0.75716,     0.75749,     0.75776,     0.75803,      0.7583,     0.75857,     0.75884,     0.75911,     0.76107,     0.76196,     0.76287,     0.76415,\n",
              "             0.7655,     0.76687,     0.76816,      0.7711,     0.77251,     0.77382,     0.77625,     0.77681,     0.77738,     0.77795,     0.77935,     0.78157,     0.78272,     0.78362,     0.78545,     0.78492,     0.78628,     0.78705,     0.78747,     0.78788,     0.78829,      0.7887,     0.78936,\n",
              "            0.79011,     0.79083,     0.79107,     0.79131,     0.79155,     0.79179,     0.79203,     0.79227,     0.79251,     0.79275,     0.79327,     0.79393,      0.7946,     0.79628,     0.79721,     0.79761,     0.79801,     0.79841,     0.79881,     0.79984,     0.80232,     0.80587,     0.80688,\n",
              "            0.80962,     0.81027,     0.81091,     0.81154,     0.81189,     0.81225,     0.81261,     0.81296,     0.81332,     0.81374,     0.81491,     0.81623,     0.81795,      0.8182,     0.81846,     0.81871,     0.81896,     0.81922,     0.81947,     0.81972,     0.81998,     0.82136,      0.8231,\n",
              "            0.82438,     0.82464,     0.82483,     0.82502,     0.82521,      0.8254,     0.82558,     0.82577,     0.82596,     0.82615,     0.82633,     0.82652,     0.82679,     0.82734,     0.82789,     0.82844,     0.82909,     0.83017,     0.83113,     0.83134,     0.83156,     0.83177,     0.83199,\n",
              "            0.83221,     0.83242,     0.83264,     0.83285,     0.83307,     0.83328,     0.83404,     0.83496,     0.83757,     0.84037,     0.84065,     0.84092,      0.8412,     0.84147,     0.84175,     0.84202,      0.8423,     0.84211,      0.8417,     0.84128,     0.84086,     0.84045,     0.84003,\n",
              "            0.83961,     0.83925,     0.83938,     0.83951,     0.83964,     0.83977,      0.8399,     0.84002,     0.84015,     0.84028,     0.84041,     0.84054,     0.84067,      0.8408,     0.84093,     0.84105,     0.84118,     0.84131,     0.84144,      0.8416,     0.84185,     0.84209,     0.84233,\n",
              "            0.84257,     0.84282,     0.84306,      0.8433,     0.84354,     0.84378,     0.84389,     0.84396,     0.84404,     0.84411,     0.84418,     0.84425,     0.84432,     0.84439,     0.84446,     0.84454,     0.84461,     0.84468,     0.84475,     0.84482,     0.84489,     0.84497,     0.84504,\n",
              "            0.84511,     0.84518,     0.84525,     0.84532,     0.84539,     0.84547,     0.84554,     0.84561,     0.84568,     0.84575,     0.84582,     0.84589,     0.84596,     0.84604,     0.84611,      0.8455,     0.84364,     0.84313,     0.84337,     0.84361,     0.84385,     0.84408,     0.84432,\n",
              "            0.84456,      0.8448,     0.84504,     0.84528,     0.84584,     0.84644,     0.84704,     0.84764,     0.84794,     0.84825,     0.84855,     0.84885,     0.84915,     0.84945,     0.84975,     0.85016,     0.85104,     0.85192,     0.85271,     0.85341,     0.85411,     0.85482,     0.85572,\n",
              "            0.85661,     0.85758,     0.85868,     0.85931,     0.85811,     0.85691,     0.85664,     0.85723,     0.85781,     0.85839,     0.85864,     0.85834,     0.85804,     0.85774,     0.85744,     0.85714,     0.85684,     0.85654,     0.85624,     0.85593,     0.85563,     0.85611,     0.85701,\n",
              "            0.85792,      0.8586,     0.85927,     0.85993,     0.86028,     0.85989,      0.8595,      0.8591,     0.85871,     0.85832,     0.85793,     0.85753,     0.86208,     0.86301,     0.86393,     0.86497,     0.86625,     0.86697,     0.86676,     0.86655,     0.86634,     0.86613,     0.86592,\n",
              "            0.86571,      0.8655,     0.86529,     0.86508,     0.86487,     0.86466,     0.86445,     0.86424,     0.86403,     0.86382,      0.8641,     0.86453,     0.86496,     0.86539,     0.86581,     0.86624,     0.86714,     0.86808,     0.86855,     0.86742,     0.86629,     0.86578,     0.86673,\n",
              "            0.86768,     0.86761,     0.86693,     0.86625,     0.86557,     0.86488,     0.86738,     0.86755,     0.86772,     0.86788,     0.86805,     0.86822,     0.86838,     0.86855,     0.86872,     0.86889,     0.86905,     0.86922,     0.86939,     0.86955,     0.86972,     0.87003,     0.87059,\n",
              "            0.87115,      0.8717,     0.87226,     0.87306,     0.87395,     0.87484,     0.87506,     0.87514,     0.87521,     0.87529,     0.87536,     0.87544,     0.87551,     0.87559,     0.87566,     0.87574,     0.87581,     0.87589,     0.87596,     0.87604,     0.87611,     0.87619,     0.87626,\n",
              "            0.87634,     0.87641,     0.87649,     0.87656,     0.87664,     0.87671,     0.87679,     0.87686,     0.87693,     0.87701,     0.87708,     0.87716,     0.87723,     0.87731,     0.87738,     0.87746,     0.87753,     0.87761,     0.87803,     0.87848,     0.87893,     0.87938,     0.87983,\n",
              "            0.88025,     0.88031,     0.88038,     0.88044,     0.88051,     0.88058,     0.88064,     0.88071,     0.88078,     0.88084,     0.88091,     0.88097,     0.88104,     0.88111,     0.88117,     0.88124,      0.8813,     0.88137,     0.88144,      0.8815,     0.88157,     0.88164,      0.8817,\n",
              "            0.88177,     0.88183,      0.8819,     0.88197,     0.88203,      0.8821,     0.88216,     0.88223,      0.8823,     0.88236,     0.88243,     0.88249,     0.88256,     0.88262,     0.88269,     0.88276,     0.88282,     0.88286,      0.8826,     0.88233,     0.88207,      0.8818,     0.88154,\n",
              "            0.88127,     0.88101,     0.88074,     0.88047,     0.88021,     0.87994,     0.87968,     0.87917,      0.8783,     0.87744,     0.87657,     0.87591,     0.87548,     0.87504,     0.87461,     0.87417,     0.87373,      0.8733,     0.87286,     0.87257,     0.87234,     0.87212,     0.87189,\n",
              "            0.87167,     0.87144,     0.87121,     0.87099,     0.87076,     0.87053,     0.87031,     0.87008,     0.86985,     0.86962,      0.8694,     0.86947,     0.86978,     0.87008,     0.87038,     0.87068,     0.87099,     0.87129,     0.87159,     0.87189,     0.87168,     0.87135,     0.87101,\n",
              "            0.87068,     0.87034,        0.87,     0.86967,     0.86933,     0.86899,     0.86865,     0.86926,     0.87062,     0.87199,     0.87336,     0.87308,     0.87189,      0.8707,     0.87137,     0.87275,     0.87215,     0.87095,     0.86975,      0.8687,     0.86767,     0.86663,     0.86836,\n",
              "            0.86745,     0.86654,     0.86563,     0.86536,     0.86565,     0.86595,     0.86624,     0.86654,     0.86683,     0.86712,     0.86741,     0.86771,     0.86412,      0.8632,     0.86228,     0.86135,      0.8601,     0.85825,     0.85681,     0.85598,     0.85515,     0.85432,      0.8535,\n",
              "            0.85335,      0.8532,     0.85305,      0.8529,     0.85275,      0.8526,     0.85245,      0.8523,     0.85215,       0.852,     0.85185,      0.8517,     0.85155,      0.8514,     0.85125,      0.8511,     0.85095,      0.8508,     0.85065,      0.8505,     0.85035,      0.8502,     0.85005,\n",
              "             0.8499,     0.84748,     0.84561,     0.84476,     0.84392,     0.84307,     0.84211,     0.84084,     0.83956,     0.83898,     0.83977,     0.84057,     0.84136,     0.84216,     0.84296,     0.84376,     0.84221,     0.84005,      0.8394,     0.83876,     0.83811,     0.83746,     0.83681,\n",
              "            0.83397,     0.82816,     0.82703,     0.82589,     0.82159,     0.82299,     0.82376,     0.82329,     0.82282,     0.82235,     0.82187,      0.8214,     0.82093,     0.82045,     0.81992,      0.8179,     0.81532,     0.81188,     0.81153,     0.81119,     0.81085,     0.81051,     0.81017,\n",
              "            0.80983,     0.80949,     0.80914,      0.8088,     0.80846,     0.80812,     0.80934,     0.81073,     0.80821,     0.80647,     0.80583,      0.8052,     0.80456,     0.80391,     0.80327,     0.79855,     0.79795,     0.79735,     0.79675,     0.79614,     0.79554,     0.79494,     0.79189,\n",
              "            0.78968,     0.78882,     0.78797,     0.78711,     0.78625,     0.77791,     0.77246,     0.77027,     0.76871,     0.76773,     0.76675,     0.76576,     0.75994,       0.756,     0.75487,     0.75374,     0.75261,     0.74939,     0.73929,     0.73743,     0.73626,      0.7351,     0.73393,\n",
              "             0.7284,     0.72746,     0.72651,     0.72557,     0.72458,     0.72141,     0.71426,     0.71233,     0.71006,     0.69973,     0.68928,     0.68625,     0.68457,     0.68289,     0.68076,     0.67738,     0.66758,     0.66043,     0.65694,     0.65189,     0.64658,     0.64287,     0.63846,\n",
              "            0.63041,     0.62672,     0.62452,      0.6112,     0.61245,     0.60756,     0.60374,     0.59864,     0.59579,     0.59434,     0.59288,     0.59142,     0.58928,     0.58693,     0.58457,     0.58221,     0.57984,     0.57781,     0.57582,     0.57383,     0.56202,     0.55427,     0.55251,\n",
              "            0.55074,      0.5482,     0.54509,     0.53709,     0.53595,      0.5348,     0.53365,      0.5325,      0.5283,     0.51664,     0.51339,     0.50923,      0.4952,     0.48765,     0.48291,     0.47739,     0.47278,     0.47082,     0.46885,     0.46666,     0.45986,     0.45519,      0.4512,\n",
              "            0.44766,     0.44457,     0.44171,     0.43843,     0.43363,     0.42314,     0.42021,     0.41588,     0.40593,     0.39494,     0.39114,     0.38837,     0.38709,     0.38581,     0.38453,     0.38325,     0.38197,     0.37853,     0.37238,     0.36142,     0.34843,     0.34109,     0.33838,\n",
              "            0.33567,     0.32291,     0.31664,     0.30947,     0.30525,     0.30053,     0.29484,     0.29245,     0.29054,     0.28863,     0.28671,     0.28404,     0.28056,     0.26786,      0.2511,     0.24884,     0.24658,     0.24432,     0.24182,     0.23817,      0.2345,     0.22226,     0.21414,\n",
              "            0.20943,     0.20519,     0.20203,     0.19885,     0.19607,     0.19393,      0.1918,     0.18965,     0.18751,     0.17791,       0.173,     0.16796,     0.16135,     0.15909,     0.15886,     0.15382,     0.13584,     0.12887,     0.12765,     0.12643,      0.1252,     0.12398,     0.12275,\n",
              "            0.12152,     0.12029,     0.11915,     0.11816,     0.11716,     0.11616,     0.11515,     0.11415,     0.11315,     0.11214,     0.11114,     0.11013,      0.1081,     0.10101,    0.095122,    0.089732,    0.086765,    0.084594,    0.082418,    0.080236,     0.07805,    0.075859,    0.073663,\n",
              "           0.071462,    0.069256,    0.067045,     0.05965,    0.052185,     0.04514,    0.044332,    0.043522,    0.042712,    0.041901,    0.041089,    0.040277,    0.039463,     0.03865,    0.037835,     0.03702,    0.036205,    0.035388,    0.034571,    0.033146,    0.030851,    0.028551,    0.026245,\n",
              "           0.023934,    0.021308,    0.018404,    0.015492,     0.01257,           0,           0,           0,           0,           0,           0,           0,           0,           0,           0,           0,           0,           0,           0,           0,           0,           0,           0,\n",
              "                  0,           0,           0,           0,           0,           0,           0,           0,           0,           0,           0,           0,           0,           0,           0,           0,           0,           0,           0,           0,           0,           0,           0,\n",
              "                  0,           0,           0,           0,           0,           0,           0,           0,           0,           0,           0,           0,           0,           0,           0,           0,           0,           0,           0,           0,           0,           0,           0,\n",
              "                  0,           0,           0,           0,           0,           0,           0,           0,           0,           0,           0]]), 'Confidence', 'F1'], [array([          0,    0.001001,    0.002002,    0.003003,    0.004004,    0.005005,    0.006006,    0.007007,    0.008008,    0.009009,     0.01001,    0.011011,    0.012012,    0.013013,    0.014014,    0.015015,    0.016016,    0.017017,    0.018018,    0.019019,     0.02002,    0.021021,    0.022022,    0.023023,\n",
              "          0.024024,    0.025025,    0.026026,    0.027027,    0.028028,    0.029029,     0.03003,    0.031031,    0.032032,    0.033033,    0.034034,    0.035035,    0.036036,    0.037037,    0.038038,    0.039039,     0.04004,    0.041041,    0.042042,    0.043043,    0.044044,    0.045045,    0.046046,    0.047047,\n",
              "          0.048048,    0.049049,     0.05005,    0.051051,    0.052052,    0.053053,    0.054054,    0.055055,    0.056056,    0.057057,    0.058058,    0.059059,     0.06006,    0.061061,    0.062062,    0.063063,    0.064064,    0.065065,    0.066066,    0.067067,    0.068068,    0.069069,     0.07007,    0.071071,\n",
              "          0.072072,    0.073073,    0.074074,    0.075075,    0.076076,    0.077077,    0.078078,    0.079079,     0.08008,    0.081081,    0.082082,    0.083083,    0.084084,    0.085085,    0.086086,    0.087087,    0.088088,    0.089089,     0.09009,    0.091091,    0.092092,    0.093093,    0.094094,    0.095095,\n",
              "          0.096096,    0.097097,    0.098098,    0.099099,      0.1001,      0.1011,      0.1021,      0.1031,      0.1041,     0.10511,     0.10611,     0.10711,     0.10811,     0.10911,     0.11011,     0.11111,     0.11211,     0.11311,     0.11411,     0.11512,     0.11612,     0.11712,     0.11812,     0.11912,\n",
              "           0.12012,     0.12112,     0.12212,     0.12312,     0.12412,     0.12513,     0.12613,     0.12713,     0.12813,     0.12913,     0.13013,     0.13113,     0.13213,     0.13313,     0.13413,     0.13514,     0.13614,     0.13714,     0.13814,     0.13914,     0.14014,     0.14114,     0.14214,     0.14314,\n",
              "           0.14414,     0.14515,     0.14615,     0.14715,     0.14815,     0.14915,     0.15015,     0.15115,     0.15215,     0.15315,     0.15415,     0.15516,     0.15616,     0.15716,     0.15816,     0.15916,     0.16016,     0.16116,     0.16216,     0.16316,     0.16416,     0.16517,     0.16617,     0.16717,\n",
              "           0.16817,     0.16917,     0.17017,     0.17117,     0.17217,     0.17317,     0.17417,     0.17518,     0.17618,     0.17718,     0.17818,     0.17918,     0.18018,     0.18118,     0.18218,     0.18318,     0.18418,     0.18519,     0.18619,     0.18719,     0.18819,     0.18919,     0.19019,     0.19119,\n",
              "           0.19219,     0.19319,     0.19419,      0.1952,      0.1962,      0.1972,      0.1982,      0.1992,      0.2002,      0.2012,      0.2022,      0.2032,      0.2042,     0.20521,     0.20621,     0.20721,     0.20821,     0.20921,     0.21021,     0.21121,     0.21221,     0.21321,     0.21421,     0.21522,\n",
              "           0.21622,     0.21722,     0.21822,     0.21922,     0.22022,     0.22122,     0.22222,     0.22322,     0.22422,     0.22523,     0.22623,     0.22723,     0.22823,     0.22923,     0.23023,     0.23123,     0.23223,     0.23323,     0.23423,     0.23524,     0.23624,     0.23724,     0.23824,     0.23924,\n",
              "           0.24024,     0.24124,     0.24224,     0.24324,     0.24424,     0.24525,     0.24625,     0.24725,     0.24825,     0.24925,     0.25025,     0.25125,     0.25225,     0.25325,     0.25425,     0.25526,     0.25626,     0.25726,     0.25826,     0.25926,     0.26026,     0.26126,     0.26226,     0.26326,\n",
              "           0.26426,     0.26527,     0.26627,     0.26727,     0.26827,     0.26927,     0.27027,     0.27127,     0.27227,     0.27327,     0.27427,     0.27528,     0.27628,     0.27728,     0.27828,     0.27928,     0.28028,     0.28128,     0.28228,     0.28328,     0.28428,     0.28529,     0.28629,     0.28729,\n",
              "           0.28829,     0.28929,     0.29029,     0.29129,     0.29229,     0.29329,     0.29429,      0.2953,      0.2963,      0.2973,      0.2983,      0.2993,      0.3003,      0.3013,      0.3023,      0.3033,      0.3043,     0.30531,     0.30631,     0.30731,     0.30831,     0.30931,     0.31031,     0.31131,\n",
              "           0.31231,     0.31331,     0.31431,     0.31532,     0.31632,     0.31732,     0.31832,     0.31932,     0.32032,     0.32132,     0.32232,     0.32332,     0.32432,     0.32533,     0.32633,     0.32733,     0.32833,     0.32933,     0.33033,     0.33133,     0.33233,     0.33333,     0.33433,     0.33534,\n",
              "           0.33634,     0.33734,     0.33834,     0.33934,     0.34034,     0.34134,     0.34234,     0.34334,     0.34434,     0.34535,     0.34635,     0.34735,     0.34835,     0.34935,     0.35035,     0.35135,     0.35235,     0.35335,     0.35435,     0.35536,     0.35636,     0.35736,     0.35836,     0.35936,\n",
              "           0.36036,     0.36136,     0.36236,     0.36336,     0.36436,     0.36537,     0.36637,     0.36737,     0.36837,     0.36937,     0.37037,     0.37137,     0.37237,     0.37337,     0.37437,     0.37538,     0.37638,     0.37738,     0.37838,     0.37938,     0.38038,     0.38138,     0.38238,     0.38338,\n",
              "           0.38438,     0.38539,     0.38639,     0.38739,     0.38839,     0.38939,     0.39039,     0.39139,     0.39239,     0.39339,     0.39439,      0.3954,      0.3964,      0.3974,      0.3984,      0.3994,      0.4004,      0.4014,      0.4024,      0.4034,      0.4044,     0.40541,     0.40641,     0.40741,\n",
              "           0.40841,     0.40941,     0.41041,     0.41141,     0.41241,     0.41341,     0.41441,     0.41542,     0.41642,     0.41742,     0.41842,     0.41942,     0.42042,     0.42142,     0.42242,     0.42342,     0.42442,     0.42543,     0.42643,     0.42743,     0.42843,     0.42943,     0.43043,     0.43143,\n",
              "           0.43243,     0.43343,     0.43443,     0.43544,     0.43644,     0.43744,     0.43844,     0.43944,     0.44044,     0.44144,     0.44244,     0.44344,     0.44444,     0.44545,     0.44645,     0.44745,     0.44845,     0.44945,     0.45045,     0.45145,     0.45245,     0.45345,     0.45445,     0.45546,\n",
              "           0.45646,     0.45746,     0.45846,     0.45946,     0.46046,     0.46146,     0.46246,     0.46346,     0.46446,     0.46547,     0.46647,     0.46747,     0.46847,     0.46947,     0.47047,     0.47147,     0.47247,     0.47347,     0.47447,     0.47548,     0.47648,     0.47748,     0.47848,     0.47948,\n",
              "           0.48048,     0.48148,     0.48248,     0.48348,     0.48448,     0.48549,     0.48649,     0.48749,     0.48849,     0.48949,     0.49049,     0.49149,     0.49249,     0.49349,     0.49449,      0.4955,      0.4965,      0.4975,      0.4985,      0.4995,      0.5005,      0.5015,      0.5025,      0.5035,\n",
              "            0.5045,     0.50551,     0.50651,     0.50751,     0.50851,     0.50951,     0.51051,     0.51151,     0.51251,     0.51351,     0.51451,     0.51552,     0.51652,     0.51752,     0.51852,     0.51952,     0.52052,     0.52152,     0.52252,     0.52352,     0.52452,     0.52553,     0.52653,     0.52753,\n",
              "           0.52853,     0.52953,     0.53053,     0.53153,     0.53253,     0.53353,     0.53453,     0.53554,     0.53654,     0.53754,     0.53854,     0.53954,     0.54054,     0.54154,     0.54254,     0.54354,     0.54454,     0.54555,     0.54655,     0.54755,     0.54855,     0.54955,     0.55055,     0.55155,\n",
              "           0.55255,     0.55355,     0.55455,     0.55556,     0.55656,     0.55756,     0.55856,     0.55956,     0.56056,     0.56156,     0.56256,     0.56356,     0.56456,     0.56557,     0.56657,     0.56757,     0.56857,     0.56957,     0.57057,     0.57157,     0.57257,     0.57357,     0.57457,     0.57558,\n",
              "           0.57658,     0.57758,     0.57858,     0.57958,     0.58058,     0.58158,     0.58258,     0.58358,     0.58458,     0.58559,     0.58659,     0.58759,     0.58859,     0.58959,     0.59059,     0.59159,     0.59259,     0.59359,     0.59459,      0.5956,      0.5966,      0.5976,      0.5986,      0.5996,\n",
              "            0.6006,      0.6016,      0.6026,      0.6036,      0.6046,     0.60561,     0.60661,     0.60761,     0.60861,     0.60961,     0.61061,     0.61161,     0.61261,     0.61361,     0.61461,     0.61562,     0.61662,     0.61762,     0.61862,     0.61962,     0.62062,     0.62162,     0.62262,     0.62362,\n",
              "           0.62462,     0.62563,     0.62663,     0.62763,     0.62863,     0.62963,     0.63063,     0.63163,     0.63263,     0.63363,     0.63463,     0.63564,     0.63664,     0.63764,     0.63864,     0.63964,     0.64064,     0.64164,     0.64264,     0.64364,     0.64464,     0.64565,     0.64665,     0.64765,\n",
              "           0.64865,     0.64965,     0.65065,     0.65165,     0.65265,     0.65365,     0.65465,     0.65566,     0.65666,     0.65766,     0.65866,     0.65966,     0.66066,     0.66166,     0.66266,     0.66366,     0.66466,     0.66567,     0.66667,     0.66767,     0.66867,     0.66967,     0.67067,     0.67167,\n",
              "           0.67267,     0.67367,     0.67467,     0.67568,     0.67668,     0.67768,     0.67868,     0.67968,     0.68068,     0.68168,     0.68268,     0.68368,     0.68468,     0.68569,     0.68669,     0.68769,     0.68869,     0.68969,     0.69069,     0.69169,     0.69269,     0.69369,     0.69469,      0.6957,\n",
              "            0.6967,      0.6977,      0.6987,      0.6997,      0.7007,      0.7017,      0.7027,      0.7037,      0.7047,     0.70571,     0.70671,     0.70771,     0.70871,     0.70971,     0.71071,     0.71171,     0.71271,     0.71371,     0.71471,     0.71572,     0.71672,     0.71772,     0.71872,     0.71972,\n",
              "           0.72072,     0.72172,     0.72272,     0.72372,     0.72472,     0.72573,     0.72673,     0.72773,     0.72873,     0.72973,     0.73073,     0.73173,     0.73273,     0.73373,     0.73473,     0.73574,     0.73674,     0.73774,     0.73874,     0.73974,     0.74074,     0.74174,     0.74274,     0.74374,\n",
              "           0.74474,     0.74575,     0.74675,     0.74775,     0.74875,     0.74975,     0.75075,     0.75175,     0.75275,     0.75375,     0.75475,     0.75576,     0.75676,     0.75776,     0.75876,     0.75976,     0.76076,     0.76176,     0.76276,     0.76376,     0.76476,     0.76577,     0.76677,     0.76777,\n",
              "           0.76877,     0.76977,     0.77077,     0.77177,     0.77277,     0.77377,     0.77477,     0.77578,     0.77678,     0.77778,     0.77878,     0.77978,     0.78078,     0.78178,     0.78278,     0.78378,     0.78478,     0.78579,     0.78679,     0.78779,     0.78879,     0.78979,     0.79079,     0.79179,\n",
              "           0.79279,     0.79379,     0.79479,      0.7958,      0.7968,      0.7978,      0.7988,      0.7998,      0.8008,      0.8018,      0.8028,      0.8038,      0.8048,     0.80581,     0.80681,     0.80781,     0.80881,     0.80981,     0.81081,     0.81181,     0.81281,     0.81381,     0.81481,     0.81582,\n",
              "           0.81682,     0.81782,     0.81882,     0.81982,     0.82082,     0.82182,     0.82282,     0.82382,     0.82482,     0.82583,     0.82683,     0.82783,     0.82883,     0.82983,     0.83083,     0.83183,     0.83283,     0.83383,     0.83483,     0.83584,     0.83684,     0.83784,     0.83884,     0.83984,\n",
              "           0.84084,     0.84184,     0.84284,     0.84384,     0.84484,     0.84585,     0.84685,     0.84785,     0.84885,     0.84985,     0.85085,     0.85185,     0.85285,     0.85385,     0.85485,     0.85586,     0.85686,     0.85786,     0.85886,     0.85986,     0.86086,     0.86186,     0.86286,     0.86386,\n",
              "           0.86486,     0.86587,     0.86687,     0.86787,     0.86887,     0.86987,     0.87087,     0.87187,     0.87287,     0.87387,     0.87487,     0.87588,     0.87688,     0.87788,     0.87888,     0.87988,     0.88088,     0.88188,     0.88288,     0.88388,     0.88488,     0.88589,     0.88689,     0.88789,\n",
              "           0.88889,     0.88989,     0.89089,     0.89189,     0.89289,     0.89389,     0.89489,      0.8959,      0.8969,      0.8979,      0.8989,      0.8999,      0.9009,      0.9019,      0.9029,      0.9039,      0.9049,     0.90591,     0.90691,     0.90791,     0.90891,     0.90991,     0.91091,     0.91191,\n",
              "           0.91291,     0.91391,     0.91491,     0.91592,     0.91692,     0.91792,     0.91892,     0.91992,     0.92092,     0.92192,     0.92292,     0.92392,     0.92492,     0.92593,     0.92693,     0.92793,     0.92893,     0.92993,     0.93093,     0.93193,     0.93293,     0.93393,     0.93493,     0.93594,\n",
              "           0.93694,     0.93794,     0.93894,     0.93994,     0.94094,     0.94194,     0.94294,     0.94394,     0.94494,     0.94595,     0.94695,     0.94795,     0.94895,     0.94995,     0.95095,     0.95195,     0.95295,     0.95395,     0.95495,     0.95596,     0.95696,     0.95796,     0.95896,     0.95996,\n",
              "           0.96096,     0.96196,     0.96296,     0.96396,     0.96496,     0.96597,     0.96697,     0.96797,     0.96897,     0.96997,     0.97097,     0.97197,     0.97297,     0.97397,     0.97497,     0.97598,     0.97698,     0.97798,     0.97898,     0.97998,     0.98098,     0.98198,     0.98298,     0.98398,\n",
              "           0.98498,     0.98599,     0.98699,     0.98799,     0.98899,     0.98999,     0.99099,     0.99199,     0.99299,     0.99399,     0.99499,       0.996,       0.997,       0.998,       0.999,           1]), array([[    0.03449,     0.03449,    0.073251,     0.10059,     0.12272,     0.14204,     0.16183,     0.17667,     0.19194,     0.20411,     0.21958,     0.23048,     0.24199,     0.25339,     0.26823,     0.28328,     0.28892,     0.30235,     0.31262,     0.31822,     0.32673,     0.33095,     0.33716,\n",
              "            0.34237,     0.35155,     0.36092,     0.36672,     0.37684,     0.37866,      0.3834,     0.38472,     0.38863,     0.39166,     0.39657,     0.40033,     0.40342,     0.41069,     0.41556,     0.41847,     0.42139,     0.42509,     0.42538,     0.43079,     0.43704,     0.44058,     0.44706,\n",
              "             0.4515,     0.45354,     0.45807,     0.46226,      0.4654,     0.46786,     0.47044,     0.47189,     0.47537,     0.47935,      0.4803,     0.48714,     0.49435,     0.49644,      0.4991,     0.50071,      0.5039,     0.50573,     0.50719,     0.50922,      0.5112,     0.51234,     0.51303,\n",
              "            0.51708,     0.52353,     0.52788,     0.53096,     0.53467,     0.53903,     0.54177,     0.54584,     0.54743,     0.55318,     0.55457,     0.55759,     0.55877,     0.56069,     0.56315,     0.56501,     0.56721,     0.56779,     0.56837,     0.57142,     0.57764,     0.58016,     0.58153,\n",
              "            0.58321,     0.58485,     0.58902,     0.59144,     0.59377,     0.60234,     0.60564,     0.60746,     0.60894,     0.61028,     0.61375,     0.61506,     0.61598,     0.61653,     0.61708,     0.61763,     0.61948,      0.6262,     0.62752,     0.62832,     0.62882,     0.62931,     0.62981,\n",
              "            0.63031,     0.63141,     0.63296,     0.63926,     0.64256,      0.6426,      0.6456,     0.64851,     0.64993,     0.65082,     0.65168,     0.65253,     0.65303,     0.65344,     0.65384,     0.65424,     0.65464,     0.65504,     0.65544,     0.65836,     0.65971,     0.66107,     0.66299,\n",
              "            0.66502,      0.6671,     0.66906,     0.67353,     0.67567,     0.67768,     0.68142,     0.68229,     0.68317,     0.68404,     0.68621,     0.68967,     0.69146,     0.69286,     0.69573,     0.69836,     0.70052,     0.70176,     0.70241,     0.70307,     0.70372,     0.70437,     0.70543,\n",
              "            0.70663,     0.70778,     0.70817,     0.70855,     0.70894,     0.70933,     0.70971,      0.7101,     0.71048,     0.71087,      0.7117,     0.71277,     0.71384,     0.71657,     0.71807,     0.71872,     0.71938,     0.72003,     0.72068,     0.72234,      0.7264,     0.73224,     0.73391,\n",
              "            0.73847,     0.73954,     0.74061,     0.74166,     0.74226,     0.74285,     0.74345,     0.74405,     0.74464,     0.74535,     0.74731,     0.74953,     0.75244,     0.75287,      0.7533,     0.75373,     0.75416,     0.75459,     0.75502,     0.75545,     0.75588,     0.75824,     0.76121,\n",
              "             0.7634,     0.76385,     0.76417,     0.76449,     0.76482,     0.76514,     0.76546,     0.76578,     0.76611,     0.76643,     0.76675,     0.76708,     0.76754,     0.76849,     0.76944,     0.77039,     0.77152,     0.77338,     0.77505,     0.77542,      0.7758,     0.77618,     0.77655,\n",
              "            0.77693,      0.7773,     0.77768,     0.77805,     0.77843,      0.7788,     0.78012,     0.78174,     0.78634,     0.79128,     0.79177,     0.79226,     0.79275,     0.79324,     0.79373,     0.79422,     0.79471,     0.79478,     0.79464,      0.7945,     0.79436,     0.79422,     0.79408,\n",
              "            0.79394,     0.79384,     0.79407,      0.7943,     0.79453,     0.79476,     0.79499,     0.79522,     0.79546,     0.79569,     0.79592,     0.79615,     0.79638,     0.79661,     0.79684,     0.79707,      0.7973,     0.79753,     0.79777,     0.79806,      0.7985,     0.79893,     0.79937,\n",
              "            0.79981,     0.80024,     0.80068,     0.80112,     0.80155,     0.80199,     0.80219,     0.80231,     0.80244,     0.80257,      0.8027,     0.80283,     0.80296,     0.80309,     0.80322,     0.80335,     0.80348,     0.80361,     0.80374,     0.80387,       0.804,     0.80413,     0.80426,\n",
              "            0.80439,     0.80452,     0.80464,     0.80477,      0.8049,     0.80503,     0.80516,     0.80529,     0.80542,     0.80555,     0.80568,     0.80581,     0.80594,     0.80607,      0.8062,     0.80607,     0.80548,     0.80554,     0.80598,     0.80642,     0.80685,     0.80729,     0.80773,\n",
              "            0.80816,      0.8086,     0.80904,     0.80947,      0.8105,      0.8116,     0.81271,     0.81381,     0.81438,     0.81494,     0.81549,     0.81605,     0.81661,     0.81717,     0.81772,     0.81848,     0.82011,     0.82175,     0.82323,     0.82453,     0.82583,     0.82716,     0.82884,\n",
              "            0.83051,     0.83235,     0.83442,       0.836,     0.83566,     0.83533,     0.83574,     0.83686,     0.83797,     0.83908,     0.83975,     0.83966,     0.83958,      0.8395,     0.83942,     0.83933,     0.83925,     0.83917,     0.83908,       0.839,     0.83892,     0.84001,     0.84176,\n",
              "            0.84351,     0.84482,     0.84611,     0.84741,     0.84828,     0.84818,     0.84808,     0.84797,     0.84787,     0.84777,     0.84766,     0.84756,     0.85716,       0.859,     0.86083,      0.8629,     0.86546,     0.86703,     0.86698,     0.86693,     0.86688,     0.86684,     0.86679,\n",
              "            0.86674,     0.86669,     0.86664,     0.86659,     0.86654,     0.86649,     0.86644,     0.86639,     0.86634,     0.86629,     0.86694,     0.86781,     0.86867,     0.86954,      0.8704,     0.87127,     0.87309,       0.875,     0.87641,     0.87616,     0.87591,     0.87633,     0.87827,\n",
              "            0.88021,     0.88086,     0.88072,     0.88057,     0.88042,     0.88028,      0.8858,     0.88615,      0.8865,     0.88685,      0.8872,     0.88755,      0.8879,     0.88825,      0.8886,     0.88894,     0.88929,     0.88964,     0.88999,     0.89034,     0.89069,     0.89135,     0.89252,\n",
              "            0.89369,     0.89487,     0.89604,     0.89774,     0.89962,     0.90149,     0.90197,     0.90213,     0.90229,     0.90245,     0.90261,     0.90277,     0.90293,     0.90309,     0.90325,     0.90341,     0.90357,     0.90373,     0.90389,     0.90405,     0.90421,     0.90436,     0.90452,\n",
              "            0.90468,     0.90484,       0.905,     0.90516,     0.90532,     0.90548,     0.90564,      0.9058,     0.90596,     0.90612,     0.90628,     0.90644,      0.9066,     0.90676,     0.90692,     0.90708,     0.90724,      0.9074,     0.90831,     0.90927,     0.91024,      0.9112,     0.91216,\n",
              "            0.91306,      0.9132,     0.91334,     0.91348,     0.91363,     0.91377,     0.91391,     0.91405,      0.9142,     0.91434,     0.91448,     0.91462,     0.91477,     0.91491,     0.91505,      0.9152,     0.91534,     0.91548,     0.91562,     0.91577,     0.91591,     0.91605,     0.91619,\n",
              "            0.91634,     0.91648,     0.91662,     0.91676,     0.91691,     0.91705,     0.91719,     0.91734,     0.91748,     0.91762,     0.91776,     0.91791,     0.91805,     0.91819,     0.91833,     0.91848,     0.91862,     0.91875,     0.91871,     0.91867,     0.91863,     0.91859,     0.91855,\n",
              "             0.9185,     0.91846,     0.91842,     0.91838,     0.91834,      0.9183,     0.91826,     0.91819,     0.91805,     0.91792,     0.91779,     0.91769,     0.91762,     0.91755,     0.91749,     0.91742,     0.91735,     0.91728,     0.91722,     0.91717,     0.91714,      0.9171,     0.91707,\n",
              "            0.91703,       0.917,     0.91696,     0.91693,     0.91689,     0.91686,     0.91682,     0.91679,     0.91675,     0.91672,     0.91668,     0.91705,     0.91773,      0.9184,     0.91907,     0.91975,     0.92042,      0.9211,     0.92177,     0.92244,     0.92254,     0.92249,     0.92244,\n",
              "            0.92239,     0.92235,      0.9223,     0.92225,      0.9222,     0.92215,      0.9221,     0.92378,     0.92687,     0.92998,     0.93311,     0.93411,     0.93397,     0.93382,     0.93608,     0.93927,     0.93989,     0.93976,     0.93962,      0.9395,     0.93938,     0.93926,     0.94554,\n",
              "            0.94544,     0.94535,     0.94525,     0.94558,     0.94628,     0.94698,     0.94769,     0.94839,     0.94909,      0.9498,      0.9505,      0.9512,     0.95137,     0.95128,     0.95119,     0.95111,     0.95099,     0.95081,     0.95067,     0.95059,     0.95051,     0.95043,     0.95035,\n",
              "            0.95034,     0.95033,     0.95031,      0.9503,     0.95028,     0.95027,     0.95025,     0.95024,     0.95022,     0.95021,     0.95019,     0.95018,     0.95017,     0.95015,     0.95014,     0.95012,     0.95011,     0.95009,     0.95008,     0.95006,     0.95005,     0.95003,     0.95002,\n",
              "            0.95001,     0.94977,     0.94959,      0.9495,     0.94942,     0.94934,     0.94924,     0.94912,     0.94899,     0.94959,     0.95163,     0.95367,     0.95572,     0.95779,     0.95986,     0.96193,     0.96282,     0.96266,     0.96261,     0.96257,     0.96252,     0.96247,     0.96242,\n",
              "            0.96221,     0.96177,     0.96169,      0.9616,     0.96234,     0.96618,     0.96874,     0.96871,     0.96868,     0.96865,     0.96862,     0.96859,     0.96856,     0.96853,      0.9685,     0.96837,     0.96821,     0.96799,     0.96796,     0.96794,     0.96792,      0.9679,     0.96788,\n",
              "            0.96785,     0.96783,     0.96781,     0.96779,     0.96777,     0.96774,     0.97135,     0.97538,     0.97548,     0.97539,     0.97536,     0.97533,      0.9753,     0.97527,     0.97523,       0.975,     0.97496,     0.97493,      0.9749,     0.97487,     0.97484,     0.97481,     0.97465,\n",
              "            0.97454,      0.9745,     0.97445,     0.97441,     0.97436,     0.97392,     0.97363,     0.97351,     0.97342,     0.97337,     0.97331,     0.97326,     0.97294,     0.97272,     0.97265,     0.97259,     0.97252,     0.97234,     0.97175,     0.97164,     0.97157,      0.9715,     0.97144,\n",
              "             0.9711,     0.97104,     0.97099,     0.97093,     0.97087,     0.97068,     0.97023,     0.97011,     0.96996,      0.9693,      0.9686,      0.9684,     0.96828,     0.96817,     0.96802,     0.96779,      0.9671,     0.96658,     0.96632,     0.96595,     0.96555,     0.96526,     0.96492,\n",
              "            0.96429,     0.96399,     0.97545,     0.97512,     0.98152,       0.987,     0.98688,     0.98672,     0.98664,     0.98659,     0.98654,      0.9865,     0.98643,     0.98635,     0.98628,      0.9862,     0.98612,     0.98605,     0.98598,     0.98592,     0.98551,     0.98523,     0.98517,\n",
              "             0.9851,     0.98501,     0.98489,     0.98459,     0.98454,      0.9845,     0.98445,     0.98441,     0.98424,     0.98377,     0.98363,     0.98345,     0.98283,     0.98249,     0.98226,       0.982,     0.98177,     0.98167,     0.98158,     0.98147,     0.98112,     0.98087,     0.98065,\n",
              "            0.98046,     0.98029,     0.98013,     0.97994,     0.97966,     0.97903,     0.97885,     0.97858,     0.97793,     0.97717,      0.9769,     0.97671,     0.97661,     0.97652,     0.97642,     0.97633,     0.97623,     0.97597,     0.97549,      0.9746,     0.97348,     0.97281,     0.97255,\n",
              "            0.97229,     0.97101,     0.97035,     0.96956,     0.96907,     0.96852,     0.96783,     0.96753,     0.96728,     0.96704,     0.96679,     0.96644,     0.96597,     0.96416,     0.96151,     0.96112,     0.96072,     0.96033,     0.95989,      0.9592,     0.95852,     0.95604,     0.95425,\n",
              "            0.95314,     0.95213,     0.95131,      0.9505,     0.94977,     0.94917,     0.94857,     0.94797,     0.94737,     0.94441,     0.94273,       0.941,     0.93849,      0.9634,           1,           1,           1,           1,           1,           1,           1,           1,           1,\n",
              "                  1,           1,           1,           1,           1,           1,           1,           1,           1,           1,           1,           1,           1,           1,           1,           1,           1,           1,           1,           1,           1,           1,           1,\n",
              "                  1,           1,           1,           1,           1,           1,           1,           1,           1,           1,           1,           1,           1,           1,           1,           1,           1,           1,           1,           1,           1,           1,           1,\n",
              "                  1,           1,           1,           1,           1,           1,           1,           1,           1,           1,           1,           1,           1,           1,           1,           1,           1,           1,           1,           1,           1,           1,           1,\n",
              "                  1,           1,           1,           1,           1,           1,           1,           1,           1,           1,           1,           1,           1,           1,           1,           1,           1,           1,           1,           1,           1,           1,           1,\n",
              "                  1,           1,           1,           1,           1,           1,           1,           1,           1,           1,           1,           1,           1,           1,           1,           1,           1,           1,           1,           1,           1,           1,           1,\n",
              "                  1,           1,           1,           1,           1,           1,           1,           1,           1,           1,           1]]), 'Confidence', 'Precision'], [array([          0,    0.001001,    0.002002,    0.003003,    0.004004,    0.005005,    0.006006,    0.007007,    0.008008,    0.009009,     0.01001,    0.011011,    0.012012,    0.013013,    0.014014,    0.015015,    0.016016,    0.017017,    0.018018,    0.019019,     0.02002,    0.021021,    0.022022,    0.023023,\n",
              "          0.024024,    0.025025,    0.026026,    0.027027,    0.028028,    0.029029,     0.03003,    0.031031,    0.032032,    0.033033,    0.034034,    0.035035,    0.036036,    0.037037,    0.038038,    0.039039,     0.04004,    0.041041,    0.042042,    0.043043,    0.044044,    0.045045,    0.046046,    0.047047,\n",
              "          0.048048,    0.049049,     0.05005,    0.051051,    0.052052,    0.053053,    0.054054,    0.055055,    0.056056,    0.057057,    0.058058,    0.059059,     0.06006,    0.061061,    0.062062,    0.063063,    0.064064,    0.065065,    0.066066,    0.067067,    0.068068,    0.069069,     0.07007,    0.071071,\n",
              "          0.072072,    0.073073,    0.074074,    0.075075,    0.076076,    0.077077,    0.078078,    0.079079,     0.08008,    0.081081,    0.082082,    0.083083,    0.084084,    0.085085,    0.086086,    0.087087,    0.088088,    0.089089,     0.09009,    0.091091,    0.092092,    0.093093,    0.094094,    0.095095,\n",
              "          0.096096,    0.097097,    0.098098,    0.099099,      0.1001,      0.1011,      0.1021,      0.1031,      0.1041,     0.10511,     0.10611,     0.10711,     0.10811,     0.10911,     0.11011,     0.11111,     0.11211,     0.11311,     0.11411,     0.11512,     0.11612,     0.11712,     0.11812,     0.11912,\n",
              "           0.12012,     0.12112,     0.12212,     0.12312,     0.12412,     0.12513,     0.12613,     0.12713,     0.12813,     0.12913,     0.13013,     0.13113,     0.13213,     0.13313,     0.13413,     0.13514,     0.13614,     0.13714,     0.13814,     0.13914,     0.14014,     0.14114,     0.14214,     0.14314,\n",
              "           0.14414,     0.14515,     0.14615,     0.14715,     0.14815,     0.14915,     0.15015,     0.15115,     0.15215,     0.15315,     0.15415,     0.15516,     0.15616,     0.15716,     0.15816,     0.15916,     0.16016,     0.16116,     0.16216,     0.16316,     0.16416,     0.16517,     0.16617,     0.16717,\n",
              "           0.16817,     0.16917,     0.17017,     0.17117,     0.17217,     0.17317,     0.17417,     0.17518,     0.17618,     0.17718,     0.17818,     0.17918,     0.18018,     0.18118,     0.18218,     0.18318,     0.18418,     0.18519,     0.18619,     0.18719,     0.18819,     0.18919,     0.19019,     0.19119,\n",
              "           0.19219,     0.19319,     0.19419,      0.1952,      0.1962,      0.1972,      0.1982,      0.1992,      0.2002,      0.2012,      0.2022,      0.2032,      0.2042,     0.20521,     0.20621,     0.20721,     0.20821,     0.20921,     0.21021,     0.21121,     0.21221,     0.21321,     0.21421,     0.21522,\n",
              "           0.21622,     0.21722,     0.21822,     0.21922,     0.22022,     0.22122,     0.22222,     0.22322,     0.22422,     0.22523,     0.22623,     0.22723,     0.22823,     0.22923,     0.23023,     0.23123,     0.23223,     0.23323,     0.23423,     0.23524,     0.23624,     0.23724,     0.23824,     0.23924,\n",
              "           0.24024,     0.24124,     0.24224,     0.24324,     0.24424,     0.24525,     0.24625,     0.24725,     0.24825,     0.24925,     0.25025,     0.25125,     0.25225,     0.25325,     0.25425,     0.25526,     0.25626,     0.25726,     0.25826,     0.25926,     0.26026,     0.26126,     0.26226,     0.26326,\n",
              "           0.26426,     0.26527,     0.26627,     0.26727,     0.26827,     0.26927,     0.27027,     0.27127,     0.27227,     0.27327,     0.27427,     0.27528,     0.27628,     0.27728,     0.27828,     0.27928,     0.28028,     0.28128,     0.28228,     0.28328,     0.28428,     0.28529,     0.28629,     0.28729,\n",
              "           0.28829,     0.28929,     0.29029,     0.29129,     0.29229,     0.29329,     0.29429,      0.2953,      0.2963,      0.2973,      0.2983,      0.2993,      0.3003,      0.3013,      0.3023,      0.3033,      0.3043,     0.30531,     0.30631,     0.30731,     0.30831,     0.30931,     0.31031,     0.31131,\n",
              "           0.31231,     0.31331,     0.31431,     0.31532,     0.31632,     0.31732,     0.31832,     0.31932,     0.32032,     0.32132,     0.32232,     0.32332,     0.32432,     0.32533,     0.32633,     0.32733,     0.32833,     0.32933,     0.33033,     0.33133,     0.33233,     0.33333,     0.33433,     0.33534,\n",
              "           0.33634,     0.33734,     0.33834,     0.33934,     0.34034,     0.34134,     0.34234,     0.34334,     0.34434,     0.34535,     0.34635,     0.34735,     0.34835,     0.34935,     0.35035,     0.35135,     0.35235,     0.35335,     0.35435,     0.35536,     0.35636,     0.35736,     0.35836,     0.35936,\n",
              "           0.36036,     0.36136,     0.36236,     0.36336,     0.36436,     0.36537,     0.36637,     0.36737,     0.36837,     0.36937,     0.37037,     0.37137,     0.37237,     0.37337,     0.37437,     0.37538,     0.37638,     0.37738,     0.37838,     0.37938,     0.38038,     0.38138,     0.38238,     0.38338,\n",
              "           0.38438,     0.38539,     0.38639,     0.38739,     0.38839,     0.38939,     0.39039,     0.39139,     0.39239,     0.39339,     0.39439,      0.3954,      0.3964,      0.3974,      0.3984,      0.3994,      0.4004,      0.4014,      0.4024,      0.4034,      0.4044,     0.40541,     0.40641,     0.40741,\n",
              "           0.40841,     0.40941,     0.41041,     0.41141,     0.41241,     0.41341,     0.41441,     0.41542,     0.41642,     0.41742,     0.41842,     0.41942,     0.42042,     0.42142,     0.42242,     0.42342,     0.42442,     0.42543,     0.42643,     0.42743,     0.42843,     0.42943,     0.43043,     0.43143,\n",
              "           0.43243,     0.43343,     0.43443,     0.43544,     0.43644,     0.43744,     0.43844,     0.43944,     0.44044,     0.44144,     0.44244,     0.44344,     0.44444,     0.44545,     0.44645,     0.44745,     0.44845,     0.44945,     0.45045,     0.45145,     0.45245,     0.45345,     0.45445,     0.45546,\n",
              "           0.45646,     0.45746,     0.45846,     0.45946,     0.46046,     0.46146,     0.46246,     0.46346,     0.46446,     0.46547,     0.46647,     0.46747,     0.46847,     0.46947,     0.47047,     0.47147,     0.47247,     0.47347,     0.47447,     0.47548,     0.47648,     0.47748,     0.47848,     0.47948,\n",
              "           0.48048,     0.48148,     0.48248,     0.48348,     0.48448,     0.48549,     0.48649,     0.48749,     0.48849,     0.48949,     0.49049,     0.49149,     0.49249,     0.49349,     0.49449,      0.4955,      0.4965,      0.4975,      0.4985,      0.4995,      0.5005,      0.5015,      0.5025,      0.5035,\n",
              "            0.5045,     0.50551,     0.50651,     0.50751,     0.50851,     0.50951,     0.51051,     0.51151,     0.51251,     0.51351,     0.51451,     0.51552,     0.51652,     0.51752,     0.51852,     0.51952,     0.52052,     0.52152,     0.52252,     0.52352,     0.52452,     0.52553,     0.52653,     0.52753,\n",
              "           0.52853,     0.52953,     0.53053,     0.53153,     0.53253,     0.53353,     0.53453,     0.53554,     0.53654,     0.53754,     0.53854,     0.53954,     0.54054,     0.54154,     0.54254,     0.54354,     0.54454,     0.54555,     0.54655,     0.54755,     0.54855,     0.54955,     0.55055,     0.55155,\n",
              "           0.55255,     0.55355,     0.55455,     0.55556,     0.55656,     0.55756,     0.55856,     0.55956,     0.56056,     0.56156,     0.56256,     0.56356,     0.56456,     0.56557,     0.56657,     0.56757,     0.56857,     0.56957,     0.57057,     0.57157,     0.57257,     0.57357,     0.57457,     0.57558,\n",
              "           0.57658,     0.57758,     0.57858,     0.57958,     0.58058,     0.58158,     0.58258,     0.58358,     0.58458,     0.58559,     0.58659,     0.58759,     0.58859,     0.58959,     0.59059,     0.59159,     0.59259,     0.59359,     0.59459,      0.5956,      0.5966,      0.5976,      0.5986,      0.5996,\n",
              "            0.6006,      0.6016,      0.6026,      0.6036,      0.6046,     0.60561,     0.60661,     0.60761,     0.60861,     0.60961,     0.61061,     0.61161,     0.61261,     0.61361,     0.61461,     0.61562,     0.61662,     0.61762,     0.61862,     0.61962,     0.62062,     0.62162,     0.62262,     0.62362,\n",
              "           0.62462,     0.62563,     0.62663,     0.62763,     0.62863,     0.62963,     0.63063,     0.63163,     0.63263,     0.63363,     0.63463,     0.63564,     0.63664,     0.63764,     0.63864,     0.63964,     0.64064,     0.64164,     0.64264,     0.64364,     0.64464,     0.64565,     0.64665,     0.64765,\n",
              "           0.64865,     0.64965,     0.65065,     0.65165,     0.65265,     0.65365,     0.65465,     0.65566,     0.65666,     0.65766,     0.65866,     0.65966,     0.66066,     0.66166,     0.66266,     0.66366,     0.66466,     0.66567,     0.66667,     0.66767,     0.66867,     0.66967,     0.67067,     0.67167,\n",
              "           0.67267,     0.67367,     0.67467,     0.67568,     0.67668,     0.67768,     0.67868,     0.67968,     0.68068,     0.68168,     0.68268,     0.68368,     0.68468,     0.68569,     0.68669,     0.68769,     0.68869,     0.68969,     0.69069,     0.69169,     0.69269,     0.69369,     0.69469,      0.6957,\n",
              "            0.6967,      0.6977,      0.6987,      0.6997,      0.7007,      0.7017,      0.7027,      0.7037,      0.7047,     0.70571,     0.70671,     0.70771,     0.70871,     0.70971,     0.71071,     0.71171,     0.71271,     0.71371,     0.71471,     0.71572,     0.71672,     0.71772,     0.71872,     0.71972,\n",
              "           0.72072,     0.72172,     0.72272,     0.72372,     0.72472,     0.72573,     0.72673,     0.72773,     0.72873,     0.72973,     0.73073,     0.73173,     0.73273,     0.73373,     0.73473,     0.73574,     0.73674,     0.73774,     0.73874,     0.73974,     0.74074,     0.74174,     0.74274,     0.74374,\n",
              "           0.74474,     0.74575,     0.74675,     0.74775,     0.74875,     0.74975,     0.75075,     0.75175,     0.75275,     0.75375,     0.75475,     0.75576,     0.75676,     0.75776,     0.75876,     0.75976,     0.76076,     0.76176,     0.76276,     0.76376,     0.76476,     0.76577,     0.76677,     0.76777,\n",
              "           0.76877,     0.76977,     0.77077,     0.77177,     0.77277,     0.77377,     0.77477,     0.77578,     0.77678,     0.77778,     0.77878,     0.77978,     0.78078,     0.78178,     0.78278,     0.78378,     0.78478,     0.78579,     0.78679,     0.78779,     0.78879,     0.78979,     0.79079,     0.79179,\n",
              "           0.79279,     0.79379,     0.79479,      0.7958,      0.7968,      0.7978,      0.7988,      0.7998,      0.8008,      0.8018,      0.8028,      0.8038,      0.8048,     0.80581,     0.80681,     0.80781,     0.80881,     0.80981,     0.81081,     0.81181,     0.81281,     0.81381,     0.81481,     0.81582,\n",
              "           0.81682,     0.81782,     0.81882,     0.81982,     0.82082,     0.82182,     0.82282,     0.82382,     0.82482,     0.82583,     0.82683,     0.82783,     0.82883,     0.82983,     0.83083,     0.83183,     0.83283,     0.83383,     0.83483,     0.83584,     0.83684,     0.83784,     0.83884,     0.83984,\n",
              "           0.84084,     0.84184,     0.84284,     0.84384,     0.84484,     0.84585,     0.84685,     0.84785,     0.84885,     0.84985,     0.85085,     0.85185,     0.85285,     0.85385,     0.85485,     0.85586,     0.85686,     0.85786,     0.85886,     0.85986,     0.86086,     0.86186,     0.86286,     0.86386,\n",
              "           0.86486,     0.86587,     0.86687,     0.86787,     0.86887,     0.86987,     0.87087,     0.87187,     0.87287,     0.87387,     0.87487,     0.87588,     0.87688,     0.87788,     0.87888,     0.87988,     0.88088,     0.88188,     0.88288,     0.88388,     0.88488,     0.88589,     0.88689,     0.88789,\n",
              "           0.88889,     0.88989,     0.89089,     0.89189,     0.89289,     0.89389,     0.89489,      0.8959,      0.8969,      0.8979,      0.8989,      0.8999,      0.9009,      0.9019,      0.9029,      0.9039,      0.9049,     0.90591,     0.90691,     0.90791,     0.90891,     0.90991,     0.91091,     0.91191,\n",
              "           0.91291,     0.91391,     0.91491,     0.91592,     0.91692,     0.91792,     0.91892,     0.91992,     0.92092,     0.92192,     0.92292,     0.92392,     0.92492,     0.92593,     0.92693,     0.92793,     0.92893,     0.92993,     0.93093,     0.93193,     0.93293,     0.93393,     0.93493,     0.93594,\n",
              "           0.93694,     0.93794,     0.93894,     0.93994,     0.94094,     0.94194,     0.94294,     0.94394,     0.94494,     0.94595,     0.94695,     0.94795,     0.94895,     0.94995,     0.95095,     0.95195,     0.95295,     0.95395,     0.95495,     0.95596,     0.95696,     0.95796,     0.95896,     0.95996,\n",
              "           0.96096,     0.96196,     0.96296,     0.96396,     0.96496,     0.96597,     0.96697,     0.96797,     0.96897,     0.96997,     0.97097,     0.97197,     0.97297,     0.97397,     0.97497,     0.97598,     0.97698,     0.97798,     0.97898,     0.97998,     0.98098,     0.98198,     0.98298,     0.98398,\n",
              "           0.98498,     0.98599,     0.98699,     0.98799,     0.98899,     0.98999,     0.99099,     0.99199,     0.99299,     0.99399,     0.99499,       0.996,       0.997,       0.998,       0.999,           1]), array([[          1,           1,     0.99422,     0.97688,     0.97688,      0.9711,     0.96532,     0.95954,     0.95954,     0.95954,     0.95954,     0.95954,     0.95954,     0.95954,     0.95954,     0.95954,     0.95376,     0.95376,     0.95376,     0.95376,     0.95376,     0.94798,     0.94798,\n",
              "            0.94798,     0.94798,     0.94798,     0.94798,     0.94798,      0.9422,      0.9422,     0.92486,     0.92486,     0.92486,     0.92486,     0.92486,     0.92486,     0.92486,     0.92486,     0.92486,     0.92486,     0.92486,     0.91999,     0.91908,     0.91908,     0.91908,     0.91908,\n",
              "            0.91908,     0.91908,     0.91908,     0.91908,     0.91908,     0.91908,     0.91908,     0.91908,     0.91908,     0.91908,     0.91908,     0.91908,     0.91908,     0.91908,     0.91908,     0.91908,     0.91908,     0.91908,     0.91908,     0.91908,     0.91908,     0.91908,     0.91329,\n",
              "            0.91329,     0.91329,     0.91129,     0.90751,     0.90751,     0.90751,     0.90751,     0.90751,     0.90751,     0.90751,     0.90751,     0.90751,     0.90751,     0.90751,     0.90751,     0.90751,     0.90751,     0.90751,     0.90751,     0.90751,     0.90751,     0.90751,     0.90751,\n",
              "            0.90751,     0.90751,     0.90751,     0.90751,     0.90751,     0.90751,     0.90751,     0.90751,     0.90751,     0.90751,     0.90751,     0.90751,     0.90751,     0.90751,     0.90751,     0.90751,     0.90751,     0.90751,     0.90751,     0.90751,     0.90751,     0.90751,     0.90751,\n",
              "            0.90751,     0.90751,     0.90751,     0.90751,     0.90751,      0.9042,     0.90173,     0.90173,     0.90173,     0.90173,     0.90173,     0.90173,     0.90173,     0.90173,     0.90173,     0.90173,     0.90173,     0.90173,     0.90173,     0.90173,     0.90173,     0.90173,     0.90173,\n",
              "            0.90173,     0.90173,     0.90173,     0.90173,     0.90173,     0.90173,     0.90173,     0.90173,     0.90173,     0.90173,     0.90173,     0.90173,     0.90173,     0.90173,     0.90173,     0.89595,     0.89595,     0.89595,     0.89595,     0.89595,     0.89595,     0.89595,     0.89595,\n",
              "            0.89595,     0.89595,     0.89595,     0.89595,     0.89595,     0.89595,     0.89595,     0.89595,     0.89595,     0.89595,     0.89595,     0.89595,     0.89595,     0.89595,     0.89595,     0.89595,     0.89595,     0.89595,     0.89595,     0.89595,     0.89595,     0.89595,     0.89595,\n",
              "            0.89595,     0.89595,     0.89595,     0.89595,     0.89595,     0.89595,     0.89595,     0.89595,     0.89595,     0.89595,     0.89595,     0.89595,     0.89595,     0.89595,     0.89595,     0.89595,     0.89595,     0.89595,     0.89595,     0.89595,     0.89595,     0.89595,     0.89595,\n",
              "            0.89595,     0.89595,     0.89595,     0.89595,     0.89595,     0.89595,     0.89595,     0.89595,     0.89595,     0.89595,     0.89595,     0.89595,     0.89595,     0.89595,     0.89595,     0.89595,     0.89595,     0.89595,     0.89595,     0.89595,     0.89595,     0.89595,     0.89595,\n",
              "            0.89595,     0.89595,     0.89595,     0.89595,     0.89595,     0.89595,     0.89595,     0.89595,     0.89595,     0.89595,     0.89595,     0.89595,     0.89595,     0.89595,     0.89595,     0.89595,     0.89595,     0.89545,     0.89468,     0.89392,     0.89315,     0.89239,     0.89162,\n",
              "            0.89086,     0.89017,     0.89017,     0.89017,     0.89017,     0.89017,     0.89017,     0.89017,     0.89017,     0.89017,     0.89017,     0.89017,     0.89017,     0.89017,     0.89017,     0.89017,     0.89017,     0.89017,     0.89017,     0.89017,     0.89017,     0.89017,     0.89017,\n",
              "            0.89017,     0.89017,     0.89017,     0.89017,     0.89017,     0.89017,     0.89017,     0.89017,     0.89017,     0.89017,     0.89017,     0.89017,     0.89017,     0.89017,     0.89017,     0.89017,     0.89017,     0.89017,     0.89017,     0.89017,     0.89017,     0.89017,     0.89017,\n",
              "            0.89017,     0.89017,     0.89017,     0.89017,     0.89017,     0.89017,     0.89017,     0.89017,     0.89017,     0.89017,     0.89017,     0.89017,     0.89017,     0.89017,     0.89017,     0.88899,     0.88561,     0.88439,     0.88439,     0.88439,     0.88439,     0.88439,     0.88439,\n",
              "            0.88439,     0.88439,     0.88439,     0.88439,     0.88439,     0.88439,     0.88439,     0.88439,     0.88439,     0.88439,     0.88439,     0.88439,     0.88439,     0.88439,     0.88439,     0.88439,     0.88439,     0.88439,     0.88439,     0.88439,     0.88439,     0.88439,     0.88439,\n",
              "            0.88439,     0.88439,     0.88439,     0.88395,      0.8818,     0.87965,     0.87861,     0.87861,     0.87861,     0.87861,     0.87841,     0.87787,     0.87733,      0.8768,     0.87626,     0.87572,     0.87518,     0.87464,      0.8741,     0.87356,     0.87302,     0.87283,     0.87283,\n",
              "            0.87283,     0.87283,     0.87283,     0.87283,     0.87262,     0.87192,     0.87123,     0.87053,     0.86983,     0.86914,     0.86844,     0.86774,     0.86705,     0.86705,     0.86705,     0.86705,     0.86705,     0.86691,     0.86654,     0.86617,      0.8658,     0.86543,     0.86506,\n",
              "            0.86469,     0.86432,     0.86395,     0.86358,     0.86321,     0.86284,     0.86247,      0.8621,     0.86173,     0.86136,     0.86127,     0.86127,     0.86127,     0.86127,     0.86127,     0.86127,     0.86127,     0.86127,     0.86082,     0.85884,     0.85687,     0.85549,     0.85549,\n",
              "            0.85549,     0.85476,     0.85357,     0.85239,      0.8512,     0.85002,     0.84971,     0.84971,     0.84971,     0.84971,     0.84971,     0.84971,     0.84971,     0.84971,     0.84971,     0.84971,     0.84971,     0.84971,     0.84971,     0.84971,     0.84971,     0.84971,     0.84971,\n",
              "            0.84971,     0.84971,     0.84971,     0.84971,     0.84971,     0.84971,     0.84971,     0.84971,     0.84971,     0.84971,     0.84971,     0.84971,     0.84971,     0.84971,     0.84971,     0.84971,     0.84971,     0.84971,     0.84971,     0.84971,     0.84971,     0.84971,     0.84971,\n",
              "            0.84971,     0.84971,     0.84971,     0.84971,     0.84971,     0.84971,     0.84971,     0.84971,     0.84971,     0.84971,     0.84971,     0.84971,     0.84971,     0.84971,     0.84971,     0.84971,     0.84971,     0.84971,     0.84971,     0.84971,     0.84971,     0.84971,     0.84971,\n",
              "            0.84971,     0.84971,     0.84971,     0.84971,     0.84971,     0.84971,     0.84971,     0.84971,     0.84971,     0.84971,     0.84971,     0.84971,     0.84971,     0.84971,     0.84971,     0.84971,     0.84971,     0.84971,     0.84971,     0.84971,     0.84971,     0.84971,     0.84971,\n",
              "            0.84971,     0.84971,     0.84971,     0.84971,     0.84971,     0.84971,     0.84971,     0.84971,     0.84971,     0.84971,     0.84971,     0.84971,     0.84971,     0.84971,     0.84971,     0.84971,     0.84971,     0.84967,     0.84922,     0.84876,      0.8483,     0.84785,     0.84739,\n",
              "            0.84694,     0.84648,     0.84603,     0.84557,     0.84511,     0.84466,      0.8442,     0.84333,     0.84185,     0.84037,     0.83889,     0.83778,     0.83704,      0.8363,     0.83556,     0.83482,     0.83408,     0.83334,     0.83259,      0.8321,     0.83172,     0.83134,     0.83096,\n",
              "            0.83057,     0.83019,     0.82981,     0.82943,     0.82905,     0.82866,     0.82828,      0.8279,     0.82752,     0.82713,     0.82675,     0.82659,     0.82659,     0.82659,     0.82659,     0.82659,     0.82659,     0.82659,     0.82659,     0.82659,     0.82614,     0.82558,     0.82501,\n",
              "            0.82445,     0.82388,     0.82332,     0.82276,     0.82219,     0.82163,     0.82106,     0.82081,     0.82081,     0.82081,     0.82081,     0.81953,     0.81755,     0.81558,     0.81503,     0.81503,     0.81351,     0.81153,     0.80956,     0.80782,     0.80613,     0.80443,     0.80283,\n",
              "            0.80135,     0.79987,     0.79839,     0.79769,     0.79769,     0.79769,     0.79769,     0.79769,     0.79769,     0.79769,     0.79769,     0.79769,     0.79152,     0.79004,     0.78856,     0.78708,     0.78507,     0.78211,     0.77981,      0.7785,     0.77718,     0.77586,     0.77456,\n",
              "            0.77433,     0.77409,     0.77385,     0.77361,     0.77338,     0.77314,      0.7729,     0.77267,     0.77243,     0.77219,     0.77196,     0.77172,     0.77148,     0.77124,     0.77101,     0.77077,     0.77053,      0.7703,     0.77006,     0.76982,     0.76959,     0.76935,     0.76911,\n",
              "            0.76887,     0.76508,     0.76215,     0.76083,     0.75952,      0.7582,     0.75671,     0.75474,     0.75276,     0.75145,     0.75145,     0.75145,     0.75145,     0.75145,     0.75145,     0.75145,     0.74846,     0.74514,     0.74416,     0.74317,     0.74218,     0.74119,     0.74021,\n",
              "            0.73589,     0.72714,     0.72545,     0.72375,     0.71676,     0.71676,     0.71653,     0.71583,     0.71514,     0.71444,     0.71374,     0.71305,     0.71235,     0.71165,     0.71086,      0.7079,     0.70414,     0.69912,     0.69863,     0.69814,     0.69764,     0.69715,     0.69666,\n",
              "            0.69616,     0.69567,     0.69517,     0.69468,     0.69419,     0.69369,     0.69364,     0.69364,     0.68991,     0.68742,     0.68651,      0.6856,     0.68469,     0.68378,     0.68287,     0.67618,     0.67534,     0.67449,     0.67364,      0.6728,     0.67195,      0.6711,     0.66685,\n",
              "            0.66377,     0.66258,      0.6614,     0.66021,     0.65903,     0.64758,     0.64019,     0.63723,     0.63514,     0.63382,     0.63251,     0.63119,     0.62345,     0.61825,     0.61677,     0.61529,     0.61381,     0.60962,     0.59657,     0.59419,     0.59271,     0.59123,     0.58975,\n",
              "            0.58275,     0.58157,     0.58038,      0.5792,     0.57796,     0.57401,     0.56516,     0.56279,     0.56001,     0.54747,       0.535,     0.53142,     0.52944,     0.52747,     0.52498,     0.52103,     0.50972,     0.50157,     0.49762,     0.49194,     0.48602,     0.48191,     0.47706,\n",
              "            0.46828,     0.46428,     0.45928,     0.44509,     0.44509,     0.43885,      0.4349,     0.42966,     0.42674,     0.42526,     0.42378,      0.4223,     0.42013,     0.41776,     0.41539,     0.41302,     0.41065,     0.40863,     0.40666,     0.40468,      0.3931,      0.3856,     0.38391,\n",
              "            0.38221,     0.37978,     0.37682,     0.36926,     0.36819,     0.36711,     0.36603,     0.36496,     0.36104,      0.3503,     0.34734,     0.34357,     0.33098,     0.32431,     0.32015,     0.31535,     0.31136,     0.30967,     0.30798,      0.3061,     0.30031,     0.29636,     0.29301,\n",
              "            0.29004,     0.28747,      0.2851,     0.28239,     0.27844,      0.2699,     0.26753,     0.26404,     0.25612,     0.24748,     0.24452,     0.24237,     0.24138,     0.24039,     0.23941,     0.23842,     0.23743,      0.2348,     0.23011,     0.22185,     0.21219,      0.2068,     0.20483,\n",
              "            0.20285,     0.19366,     0.18919,     0.18412,     0.18115,     0.17786,     0.17391,     0.17226,     0.17094,     0.16963,     0.16831,     0.16648,     0.16411,     0.15554,     0.14441,     0.14292,     0.14144,     0.13996,     0.13833,     0.13596,     0.13359,     0.12574,      0.1206,\n",
              "            0.11764,     0.11499,     0.11301,     0.11104,     0.10932,       0.108,     0.10668,     0.10537,     0.10405,    0.098204,    0.095241,     0.09221,     0.08826,    0.086705,    0.086281,    0.083319,    0.072871,    0.068873,    0.068176,    0.067479,    0.066782,    0.066085,    0.065388,\n",
              "           0.064691,    0.063994,    0.063352,    0.062787,    0.062223,    0.061659,    0.061094,     0.06053,    0.059966,    0.059402,    0.058837,    0.058273,     0.05714,     0.05319,    0.049936,    0.046973,     0.04535,    0.044165,     0.04298,    0.041795,     0.04061,    0.039425,     0.03824,\n",
              "           0.037055,     0.03587,    0.034685,    0.030742,    0.026792,    0.023091,    0.022668,    0.022245,    0.021822,    0.021399,    0.020975,    0.020552,    0.020129,    0.019706,    0.019282,    0.018859,    0.018436,    0.018013,     0.01759,    0.016852,    0.015667,    0.014482,    0.013297,\n",
              "           0.012112,    0.010769,   0.0092875,   0.0078062,    0.006325,           0,           0,           0,           0,           0,           0,           0,           0,           0,           0,           0,           0,           0,           0,           0,           0,           0,           0,\n",
              "                  0,           0,           0,           0,           0,           0,           0,           0,           0,           0,           0,           0,           0,           0,           0,           0,           0,           0,           0,           0,           0,           0,           0,\n",
              "                  0,           0,           0,           0,           0,           0,           0,           0,           0,           0,           0,           0,           0,           0,           0,           0,           0,           0,           0,           0,           0,           0,           0,\n",
              "                  0,           0,           0,           0,           0,           0,           0,           0,           0,           0,           0]]), 'Confidence', 'Recall']]\n",
              "fitness: 0.6472781579818738\n",
              "keys: ['metrics/precision(B)', 'metrics/recall(B)', 'metrics/mAP50(B)', 'metrics/mAP50-95(B)']\n",
              "maps: array([    0.61899])\n",
              "names: {0: 'crack'}\n",
              "plot: True\n",
              "results_dict: {'metrics/precision(B)': 0.9143395980816447, 'metrics/recall(B)': 0.8497109826589595, 'metrics/mAP50(B)': 0.9018383617050594, 'metrics/mAP50-95(B)': 0.6189936909015198, 'fitness': 0.6472781579818738}\n",
              "save_dir: PosixPath('runs/detect/train7')\n",
              "speed: {'preprocess': 0.5241976488356622, 'inference': 3.3614763477504654, 'loss': 0.00043203366682833475, 'postprocess': 5.039791132779729}\n",
              "task: 'detect'"
            ]
          },
          "metadata": {},
          "execution_count": 21
        }
      ]
    },
    {
      "cell_type": "code",
      "source": [
        "import zipfile\n",
        "import os\n",
        "\n",
        "# Replace 'yourfile.zip' with the name of your uploaded zip file\n",
        "zip_file_name = '/damage-detection.v5i.yolov11.zip'\n",
        "output_dir = 'unzipped_files'\n",
        "\n",
        "# Create a directory to extract the files\n",
        "os.makedirs(output_dir, exist_ok=True)\n",
        "\n",
        "# Unzip the file\n",
        "with zipfile.ZipFile(zip_file_name, 'r') as zip_ref:\n",
        "    zip_ref.extractall(output_dir)\n",
        "\n",
        "print(f'Files unzipped to {output_dir}')"
      ],
      "metadata": {
        "colab": {
          "base_uri": "https://localhost:8080/"
        },
        "id": "u_VODukssLlv",
        "outputId": "65907b44-6b33-44c8-d2f3-fcd8e02fdedd"
      },
      "execution_count": 17,
      "outputs": [
        {
          "output_type": "stream",
          "name": "stdout",
          "text": [
            "Files unzipped to unzipped_files\n"
          ]
        }
      ]
    },
    {
      "cell_type": "code",
      "source": [
        "metrics = model.val()\n",
        "print(metrics)\n"
      ],
      "metadata": {
        "colab": {
          "base_uri": "https://localhost:8080/"
        },
        "id": "AlSoYUFEf7N9",
        "outputId": "d048b81a-5480-414d-dd7b-5022602099f1"
      },
      "execution_count": null,
      "outputs": [
        {
          "output_type": "stream",
          "name": "stdout",
          "text": [
            "Ultralytics 8.3.74 🚀 Python-3.11.11 torch-2.5.1+cu124 CUDA:0 (Tesla T4, 15095MiB)\n",
            "Model summary (fused): 168 layers, 3,005,843 parameters, 0 gradients, 8.1 GFLOPs\n"
          ]
        },
        {
          "output_type": "stream",
          "name": "stderr",
          "text": [
            "\u001b[34m\u001b[1mval: \u001b[0mScanning /content/unzipped_files/valid/labels.cache... 149 images, 0 backgrounds, 0 corrupt: 100%|██████████| 149/149 [00:00<?, ?it/s]\n",
            "                 Class     Images  Instances      Box(P          R      mAP50  mAP50-95): 100%|██████████| 10/10 [00:04<00:00,  2.21it/s]\n"
          ]
        },
        {
          "output_type": "stream",
          "name": "stdout",
          "text": [
            "                   all        149        173      0.915       0.85      0.902      0.622\n",
            "Speed: 3.4ms preprocess, 10.4ms inference, 0.0ms loss, 2.7ms postprocess per image\n",
            "Results saved to \u001b[1mruns/detect/train72\u001b[0m\n",
            "ultralytics.utils.metrics.DetMetrics object with attributes:\n",
            "\n",
            "ap_class_index: array([0])\n",
            "box: ultralytics.utils.metrics.Metric object\n",
            "confusion_matrix: <ultralytics.utils.metrics.ConfusionMatrix object at 0x7a8e20f17d10>\n",
            "curves: ['Precision-Recall(B)', 'F1-Confidence(B)', 'Precision-Confidence(B)', 'Recall-Confidence(B)']\n",
            "curves_results: [[array([          0,    0.001001,    0.002002,    0.003003,    0.004004,    0.005005,    0.006006,    0.007007,    0.008008,    0.009009,     0.01001,    0.011011,    0.012012,    0.013013,    0.014014,    0.015015,    0.016016,    0.017017,    0.018018,    0.019019,     0.02002,    0.021021,    0.022022,    0.023023,\n",
            "          0.024024,    0.025025,    0.026026,    0.027027,    0.028028,    0.029029,     0.03003,    0.031031,    0.032032,    0.033033,    0.034034,    0.035035,    0.036036,    0.037037,    0.038038,    0.039039,     0.04004,    0.041041,    0.042042,    0.043043,    0.044044,    0.045045,    0.046046,    0.047047,\n",
            "          0.048048,    0.049049,     0.05005,    0.051051,    0.052052,    0.053053,    0.054054,    0.055055,    0.056056,    0.057057,    0.058058,    0.059059,     0.06006,    0.061061,    0.062062,    0.063063,    0.064064,    0.065065,    0.066066,    0.067067,    0.068068,    0.069069,     0.07007,    0.071071,\n",
            "          0.072072,    0.073073,    0.074074,    0.075075,    0.076076,    0.077077,    0.078078,    0.079079,     0.08008,    0.081081,    0.082082,    0.083083,    0.084084,    0.085085,    0.086086,    0.087087,    0.088088,    0.089089,     0.09009,    0.091091,    0.092092,    0.093093,    0.094094,    0.095095,\n",
            "          0.096096,    0.097097,    0.098098,    0.099099,      0.1001,      0.1011,      0.1021,      0.1031,      0.1041,     0.10511,     0.10611,     0.10711,     0.10811,     0.10911,     0.11011,     0.11111,     0.11211,     0.11311,     0.11411,     0.11512,     0.11612,     0.11712,     0.11812,     0.11912,\n",
            "           0.12012,     0.12112,     0.12212,     0.12312,     0.12412,     0.12513,     0.12613,     0.12713,     0.12813,     0.12913,     0.13013,     0.13113,     0.13213,     0.13313,     0.13413,     0.13514,     0.13614,     0.13714,     0.13814,     0.13914,     0.14014,     0.14114,     0.14214,     0.14314,\n",
            "           0.14414,     0.14515,     0.14615,     0.14715,     0.14815,     0.14915,     0.15015,     0.15115,     0.15215,     0.15315,     0.15415,     0.15516,     0.15616,     0.15716,     0.15816,     0.15916,     0.16016,     0.16116,     0.16216,     0.16316,     0.16416,     0.16517,     0.16617,     0.16717,\n",
            "           0.16817,     0.16917,     0.17017,     0.17117,     0.17217,     0.17317,     0.17417,     0.17518,     0.17618,     0.17718,     0.17818,     0.17918,     0.18018,     0.18118,     0.18218,     0.18318,     0.18418,     0.18519,     0.18619,     0.18719,     0.18819,     0.18919,     0.19019,     0.19119,\n",
            "           0.19219,     0.19319,     0.19419,      0.1952,      0.1962,      0.1972,      0.1982,      0.1992,      0.2002,      0.2012,      0.2022,      0.2032,      0.2042,     0.20521,     0.20621,     0.20721,     0.20821,     0.20921,     0.21021,     0.21121,     0.21221,     0.21321,     0.21421,     0.21522,\n",
            "           0.21622,     0.21722,     0.21822,     0.21922,     0.22022,     0.22122,     0.22222,     0.22322,     0.22422,     0.22523,     0.22623,     0.22723,     0.22823,     0.22923,     0.23023,     0.23123,     0.23223,     0.23323,     0.23423,     0.23524,     0.23624,     0.23724,     0.23824,     0.23924,\n",
            "           0.24024,     0.24124,     0.24224,     0.24324,     0.24424,     0.24525,     0.24625,     0.24725,     0.24825,     0.24925,     0.25025,     0.25125,     0.25225,     0.25325,     0.25425,     0.25526,     0.25626,     0.25726,     0.25826,     0.25926,     0.26026,     0.26126,     0.26226,     0.26326,\n",
            "           0.26426,     0.26527,     0.26627,     0.26727,     0.26827,     0.26927,     0.27027,     0.27127,     0.27227,     0.27327,     0.27427,     0.27528,     0.27628,     0.27728,     0.27828,     0.27928,     0.28028,     0.28128,     0.28228,     0.28328,     0.28428,     0.28529,     0.28629,     0.28729,\n",
            "           0.28829,     0.28929,     0.29029,     0.29129,     0.29229,     0.29329,     0.29429,      0.2953,      0.2963,      0.2973,      0.2983,      0.2993,      0.3003,      0.3013,      0.3023,      0.3033,      0.3043,     0.30531,     0.30631,     0.30731,     0.30831,     0.30931,     0.31031,     0.31131,\n",
            "           0.31231,     0.31331,     0.31431,     0.31532,     0.31632,     0.31732,     0.31832,     0.31932,     0.32032,     0.32132,     0.32232,     0.32332,     0.32432,     0.32533,     0.32633,     0.32733,     0.32833,     0.32933,     0.33033,     0.33133,     0.33233,     0.33333,     0.33433,     0.33534,\n",
            "           0.33634,     0.33734,     0.33834,     0.33934,     0.34034,     0.34134,     0.34234,     0.34334,     0.34434,     0.34535,     0.34635,     0.34735,     0.34835,     0.34935,     0.35035,     0.35135,     0.35235,     0.35335,     0.35435,     0.35536,     0.35636,     0.35736,     0.35836,     0.35936,\n",
            "           0.36036,     0.36136,     0.36236,     0.36336,     0.36436,     0.36537,     0.36637,     0.36737,     0.36837,     0.36937,     0.37037,     0.37137,     0.37237,     0.37337,     0.37437,     0.37538,     0.37638,     0.37738,     0.37838,     0.37938,     0.38038,     0.38138,     0.38238,     0.38338,\n",
            "           0.38438,     0.38539,     0.38639,     0.38739,     0.38839,     0.38939,     0.39039,     0.39139,     0.39239,     0.39339,     0.39439,      0.3954,      0.3964,      0.3974,      0.3984,      0.3994,      0.4004,      0.4014,      0.4024,      0.4034,      0.4044,     0.40541,     0.40641,     0.40741,\n",
            "           0.40841,     0.40941,     0.41041,     0.41141,     0.41241,     0.41341,     0.41441,     0.41542,     0.41642,     0.41742,     0.41842,     0.41942,     0.42042,     0.42142,     0.42242,     0.42342,     0.42442,     0.42543,     0.42643,     0.42743,     0.42843,     0.42943,     0.43043,     0.43143,\n",
            "           0.43243,     0.43343,     0.43443,     0.43544,     0.43644,     0.43744,     0.43844,     0.43944,     0.44044,     0.44144,     0.44244,     0.44344,     0.44444,     0.44545,     0.44645,     0.44745,     0.44845,     0.44945,     0.45045,     0.45145,     0.45245,     0.45345,     0.45445,     0.45546,\n",
            "           0.45646,     0.45746,     0.45846,     0.45946,     0.46046,     0.46146,     0.46246,     0.46346,     0.46446,     0.46547,     0.46647,     0.46747,     0.46847,     0.46947,     0.47047,     0.47147,     0.47247,     0.47347,     0.47447,     0.47548,     0.47648,     0.47748,     0.47848,     0.47948,\n",
            "           0.48048,     0.48148,     0.48248,     0.48348,     0.48448,     0.48549,     0.48649,     0.48749,     0.48849,     0.48949,     0.49049,     0.49149,     0.49249,     0.49349,     0.49449,      0.4955,      0.4965,      0.4975,      0.4985,      0.4995,      0.5005,      0.5015,      0.5025,      0.5035,\n",
            "            0.5045,     0.50551,     0.50651,     0.50751,     0.50851,     0.50951,     0.51051,     0.51151,     0.51251,     0.51351,     0.51451,     0.51552,     0.51652,     0.51752,     0.51852,     0.51952,     0.52052,     0.52152,     0.52252,     0.52352,     0.52452,     0.52553,     0.52653,     0.52753,\n",
            "           0.52853,     0.52953,     0.53053,     0.53153,     0.53253,     0.53353,     0.53453,     0.53554,     0.53654,     0.53754,     0.53854,     0.53954,     0.54054,     0.54154,     0.54254,     0.54354,     0.54454,     0.54555,     0.54655,     0.54755,     0.54855,     0.54955,     0.55055,     0.55155,\n",
            "           0.55255,     0.55355,     0.55455,     0.55556,     0.55656,     0.55756,     0.55856,     0.55956,     0.56056,     0.56156,     0.56256,     0.56356,     0.56456,     0.56557,     0.56657,     0.56757,     0.56857,     0.56957,     0.57057,     0.57157,     0.57257,     0.57357,     0.57457,     0.57558,\n",
            "           0.57658,     0.57758,     0.57858,     0.57958,     0.58058,     0.58158,     0.58258,     0.58358,     0.58458,     0.58559,     0.58659,     0.58759,     0.58859,     0.58959,     0.59059,     0.59159,     0.59259,     0.59359,     0.59459,      0.5956,      0.5966,      0.5976,      0.5986,      0.5996,\n",
            "            0.6006,      0.6016,      0.6026,      0.6036,      0.6046,     0.60561,     0.60661,     0.60761,     0.60861,     0.60961,     0.61061,     0.61161,     0.61261,     0.61361,     0.61461,     0.61562,     0.61662,     0.61762,     0.61862,     0.61962,     0.62062,     0.62162,     0.62262,     0.62362,\n",
            "           0.62462,     0.62563,     0.62663,     0.62763,     0.62863,     0.62963,     0.63063,     0.63163,     0.63263,     0.63363,     0.63463,     0.63564,     0.63664,     0.63764,     0.63864,     0.63964,     0.64064,     0.64164,     0.64264,     0.64364,     0.64464,     0.64565,     0.64665,     0.64765,\n",
            "           0.64865,     0.64965,     0.65065,     0.65165,     0.65265,     0.65365,     0.65465,     0.65566,     0.65666,     0.65766,     0.65866,     0.65966,     0.66066,     0.66166,     0.66266,     0.66366,     0.66466,     0.66567,     0.66667,     0.66767,     0.66867,     0.66967,     0.67067,     0.67167,\n",
            "           0.67267,     0.67367,     0.67467,     0.67568,     0.67668,     0.67768,     0.67868,     0.67968,     0.68068,     0.68168,     0.68268,     0.68368,     0.68468,     0.68569,     0.68669,     0.68769,     0.68869,     0.68969,     0.69069,     0.69169,     0.69269,     0.69369,     0.69469,      0.6957,\n",
            "            0.6967,      0.6977,      0.6987,      0.6997,      0.7007,      0.7017,      0.7027,      0.7037,      0.7047,     0.70571,     0.70671,     0.70771,     0.70871,     0.70971,     0.71071,     0.71171,     0.71271,     0.71371,     0.71471,     0.71572,     0.71672,     0.71772,     0.71872,     0.71972,\n",
            "           0.72072,     0.72172,     0.72272,     0.72372,     0.72472,     0.72573,     0.72673,     0.72773,     0.72873,     0.72973,     0.73073,     0.73173,     0.73273,     0.73373,     0.73473,     0.73574,     0.73674,     0.73774,     0.73874,     0.73974,     0.74074,     0.74174,     0.74274,     0.74374,\n",
            "           0.74474,     0.74575,     0.74675,     0.74775,     0.74875,     0.74975,     0.75075,     0.75175,     0.75275,     0.75375,     0.75475,     0.75576,     0.75676,     0.75776,     0.75876,     0.75976,     0.76076,     0.76176,     0.76276,     0.76376,     0.76476,     0.76577,     0.76677,     0.76777,\n",
            "           0.76877,     0.76977,     0.77077,     0.77177,     0.77277,     0.77377,     0.77477,     0.77578,     0.77678,     0.77778,     0.77878,     0.77978,     0.78078,     0.78178,     0.78278,     0.78378,     0.78478,     0.78579,     0.78679,     0.78779,     0.78879,     0.78979,     0.79079,     0.79179,\n",
            "           0.79279,     0.79379,     0.79479,      0.7958,      0.7968,      0.7978,      0.7988,      0.7998,      0.8008,      0.8018,      0.8028,      0.8038,      0.8048,     0.80581,     0.80681,     0.80781,     0.80881,     0.80981,     0.81081,     0.81181,     0.81281,     0.81381,     0.81481,     0.81582,\n",
            "           0.81682,     0.81782,     0.81882,     0.81982,     0.82082,     0.82182,     0.82282,     0.82382,     0.82482,     0.82583,     0.82683,     0.82783,     0.82883,     0.82983,     0.83083,     0.83183,     0.83283,     0.83383,     0.83483,     0.83584,     0.83684,     0.83784,     0.83884,     0.83984,\n",
            "           0.84084,     0.84184,     0.84284,     0.84384,     0.84484,     0.84585,     0.84685,     0.84785,     0.84885,     0.84985,     0.85085,     0.85185,     0.85285,     0.85385,     0.85485,     0.85586,     0.85686,     0.85786,     0.85886,     0.85986,     0.86086,     0.86186,     0.86286,     0.86386,\n",
            "           0.86486,     0.86587,     0.86687,     0.86787,     0.86887,     0.86987,     0.87087,     0.87187,     0.87287,     0.87387,     0.87487,     0.87588,     0.87688,     0.87788,     0.87888,     0.87988,     0.88088,     0.88188,     0.88288,     0.88388,     0.88488,     0.88589,     0.88689,     0.88789,\n",
            "           0.88889,     0.88989,     0.89089,     0.89189,     0.89289,     0.89389,     0.89489,      0.8959,      0.8969,      0.8979,      0.8989,      0.8999,      0.9009,      0.9019,      0.9029,      0.9039,      0.9049,     0.90591,     0.90691,     0.90791,     0.90891,     0.90991,     0.91091,     0.91191,\n",
            "           0.91291,     0.91391,     0.91491,     0.91592,     0.91692,     0.91792,     0.91892,     0.91992,     0.92092,     0.92192,     0.92292,     0.92392,     0.92492,     0.92593,     0.92693,     0.92793,     0.92893,     0.92993,     0.93093,     0.93193,     0.93293,     0.93393,     0.93493,     0.93594,\n",
            "           0.93694,     0.93794,     0.93894,     0.93994,     0.94094,     0.94194,     0.94294,     0.94394,     0.94494,     0.94595,     0.94695,     0.94795,     0.94895,     0.94995,     0.95095,     0.95195,     0.95295,     0.95395,     0.95495,     0.95596,     0.95696,     0.95796,     0.95896,     0.95996,\n",
            "           0.96096,     0.96196,     0.96296,     0.96396,     0.96496,     0.96597,     0.96697,     0.96797,     0.96897,     0.96997,     0.97097,     0.97197,     0.97297,     0.97397,     0.97497,     0.97598,     0.97698,     0.97798,     0.97898,     0.97998,     0.98098,     0.98198,     0.98298,     0.98398,\n",
            "           0.98498,     0.98599,     0.98699,     0.98799,     0.98899,     0.98999,     0.99099,     0.99199,     0.99299,     0.99399,     0.99499,       0.996,       0.997,       0.998,       0.999,           1]), array([[          1,           1,           1,           1,           1,           1,           1,           1,           1,           1,           1,           1,           1,           1,           1,           1,           1,           1,           1,           1,           1,           1,           1,\n",
            "                  1,           1,           1,           1,           1,           1,           1,           1,           1,           1,           1,           1,           1,           1,           1,           1,           1,           1,           1,           1,           1,           1,           1,\n",
            "                  1,           1,           1,           1,           1,           1,           1,           1,           1,           1,           1,           1,           1,           1,           1,           1,           1,           1,           1,           1,           1,           1,           1,\n",
            "                  1,           1,           1,           1,           1,           1,           1,           1,           1,           1,           1,           1,           1,           1,           1,           1,           1,           1,     0.98718,     0.98718,     0.98718,     0.98718,     0.98718,\n",
            "            0.98718,     0.98718,     0.98718,     0.98718,     0.98718,     0.98718,     0.98718,     0.98718,     0.98718,     0.98718,     0.98718,     0.98718,     0.98718,     0.98718,     0.98718,     0.98718,     0.98718,     0.98718,     0.98718,     0.98718,     0.98718,     0.98718,     0.98718,\n",
            "            0.98718,     0.98718,     0.98718,     0.98718,     0.98718,     0.98718,     0.98718,     0.98718,     0.98718,     0.98718,     0.98718,     0.98718,     0.98718,     0.98718,     0.98718,     0.98718,     0.98718,     0.98718,     0.98718,     0.98718,     0.98718,     0.98718,     0.98718,\n",
            "            0.98718,     0.98718,     0.98718,     0.98718,     0.98718,     0.98718,     0.98718,     0.98718,     0.98718,     0.98718,     0.98718,     0.98718,     0.98718,     0.98718,     0.98718,     0.98718,     0.98718,     0.98718,     0.98718,     0.98718,     0.98718,     0.98718,     0.98718,\n",
            "            0.98718,     0.98718,     0.98718,     0.98718,     0.98718,     0.98718,     0.98718,     0.98718,     0.98718,     0.98718,     0.98718,     0.98718,     0.98718,     0.98718,     0.98718,     0.98718,     0.98718,     0.98718,     0.98718,     0.98718,     0.98718,     0.98718,     0.98718,\n",
            "            0.98718,     0.98718,     0.98718,     0.98718,     0.98718,     0.98718,     0.98718,     0.98718,     0.98718,     0.98718,     0.98718,     0.98718,     0.98718,     0.98718,     0.98718,     0.98718,     0.98718,     0.98718,     0.98718,     0.98718,     0.98718,     0.98718,     0.98718,\n",
            "            0.98718,     0.98718,     0.98718,     0.98718,     0.98718,     0.98718,     0.98718,     0.98718,     0.98718,     0.98718,     0.98718,     0.98718,     0.98718,     0.98718,     0.98718,     0.98718,     0.98718,     0.98718,     0.98718,     0.98718,     0.98718,     0.98718,     0.98718,\n",
            "            0.98718,     0.98718,     0.98718,     0.98718,     0.98718,     0.98718,     0.98718,     0.98718,     0.98718,     0.98718,     0.98718,     0.98718,     0.98718,     0.98718,     0.98718,     0.98718,     0.98718,     0.98718,     0.98718,     0.98718,     0.98718,     0.98718,     0.98718,\n",
            "            0.98718,     0.98718,     0.98718,     0.98718,     0.98718,     0.98718,     0.98718,     0.98718,     0.98718,     0.98718,     0.98718,     0.98718,     0.98718,     0.98718,     0.98718,     0.98718,     0.98718,     0.98718,     0.98718,     0.98718,     0.98718,     0.98718,     0.98718,\n",
            "            0.98718,     0.98718,     0.98718,     0.98718,     0.98718,     0.98718,     0.98718,     0.98718,     0.98718,     0.98718,     0.98718,     0.98718,     0.98718,     0.98718,     0.98718,     0.98718,     0.98718,     0.98718,     0.98718,     0.98718,     0.98718,     0.98718,     0.98718,\n",
            "            0.98718,     0.98718,     0.98718,     0.98718,     0.98718,     0.98718,     0.98718,     0.98718,     0.98718,     0.98718,     0.98718,     0.98718,     0.98718,     0.98718,     0.98718,     0.98718,     0.98718,     0.98718,     0.98718,     0.98718,     0.98718,     0.98718,     0.98718,\n",
            "            0.98718,     0.98718,     0.98718,     0.98718,     0.98718,     0.98718,     0.98718,     0.98718,     0.98718,     0.98718,     0.98718,     0.98718,     0.98718,     0.98718,     0.98718,     0.98718,     0.98718,     0.98718,     0.98718,     0.98718,     0.98718,     0.98718,     0.98718,\n",
            "            0.98718,     0.98718,     0.98718,     0.98718,     0.98718,     0.98718,     0.98718,     0.98718,     0.98718,     0.98718,     0.98718,     0.98718,     0.98718,     0.98718,     0.98718,     0.98718,     0.98718,     0.98718,     0.98718,     0.98718,     0.98718,     0.98718,     0.98718,\n",
            "            0.98718,     0.98718,     0.98718,     0.98718,     0.98718,     0.98718,     0.98718,     0.98718,     0.98718,     0.98718,     0.98718,     0.98718,     0.98718,     0.98718,     0.98718,     0.98718,     0.98718,     0.98718,     0.98718,     0.98718,     0.98718,     0.98718,     0.98718,\n",
            "            0.98718,     0.98718,     0.98718,     0.98718,     0.98718,     0.98718,     0.98718,     0.98718,     0.98718,     0.98718,     0.98718,     0.98718,     0.98718,     0.98718,     0.98718,     0.98718,     0.98718,     0.98718,     0.98718,     0.98718,     0.98718,     0.98718,     0.98718,\n",
            "            0.98718,     0.98718,     0.98718,     0.98718,     0.98718,     0.98718,     0.98718,     0.98718,     0.98718,     0.98718,     0.98718,     0.98718,     0.98718,     0.98718,     0.98718,     0.98718,     0.98718,     0.98718,     0.98718,     0.98718,     0.98718,     0.98718,     0.98718,\n",
            "            0.98718,     0.98718,     0.98718,     0.98718,     0.98718,     0.98718,     0.98718,     0.98718,     0.97561,     0.97561,     0.97561,     0.97561,     0.97561,     0.97561,     0.97561,     0.97561,     0.97561,     0.97561,     0.97561,     0.97561,     0.97561,     0.97561,     0.97561,\n",
            "            0.97561,     0.97561,     0.97561,     0.97561,     0.97561,     0.97561,     0.97561,     0.97561,     0.97561,     0.97561,     0.97561,     0.97561,     0.97561,     0.97561,     0.97561,     0.97561,     0.97561,     0.97561,     0.97561,     0.97561,     0.97561,     0.97561,     0.97561,\n",
            "            0.97561,     0.97561,     0.97561,     0.97561,     0.97561,     0.97561,     0.97561,     0.97561,     0.97561,     0.97561,     0.97561,     0.97561,     0.97561,     0.97561,     0.97561,     0.97561,     0.97561,     0.97561,     0.97561,     0.97561,     0.97561,     0.97561,     0.97561,\n",
            "            0.97561,     0.97561,     0.97561,     0.97561,     0.97561,     0.97561,     0.97561,     0.97561,     0.97561,     0.97561,     0.97561,     0.97561,     0.97561,     0.97561,     0.97561,     0.97561,     0.97561,     0.97561,     0.97561,     0.97561,     0.97561,     0.97561,     0.97561,\n",
            "            0.97561,     0.97561,     0.97561,     0.97561,     0.97561,     0.97561,     0.97561,     0.97561,     0.97561,     0.97561,     0.97561,     0.97561,     0.97561,     0.97561,     0.97561,     0.97561,     0.97561,     0.97561,     0.97561,     0.97561,     0.97561,     0.97561,     0.97561,\n",
            "            0.97561,     0.97561,     0.97561,     0.97561,     0.97561,     0.97561,     0.97561,     0.97561,     0.97561,     0.97561,     0.97561,     0.97561,     0.97561,     0.97561,     0.97561,     0.97561,     0.97561,     0.97561,     0.97561,     0.97561,     0.97561,     0.97561,     0.97561,\n",
            "            0.97561,     0.97561,     0.97561,     0.97561,     0.97561,     0.97561,     0.97561,     0.97561,     0.97561,     0.97561,     0.97561,     0.97561,     0.97561,     0.97561,     0.97561,     0.97561,     0.97561,     0.97561,     0.97561,     0.97561,     0.97561,     0.97561,     0.97561,\n",
            "            0.97561,     0.97561,     0.97561,     0.97561,     0.97561,     0.97561,     0.97561,     0.97561,     0.97561,     0.97561,     0.97561,     0.97561,     0.97561,     0.97561,     0.97561,     0.97561,     0.97561,     0.97561,     0.97561,     0.97561,     0.97561,     0.97561,     0.97561,\n",
            "            0.97561,     0.97561,     0.97561,     0.97561,     0.97561,     0.97561,     0.97561,     0.97561,     0.97561,     0.97561,     0.97561,     0.97561,     0.97561,     0.97561,     0.97561,     0.97561,     0.97561,     0.97561,     0.97561,     0.97561,     0.97561,     0.97561,     0.97561,\n",
            "            0.97561,     0.97561,     0.97561,     0.97561,     0.97561,     0.97561,     0.97561,     0.97561,     0.97561,     0.97561,     0.97561,     0.97561,     0.97561,     0.97561,     0.97561,     0.97561,     0.97561,     0.97561,     0.97561,     0.97561,     0.97561,     0.97561,     0.97561,\n",
            "            0.97561,     0.97561,     0.97561,     0.97561,     0.97561,     0.97561,     0.97561,     0.97561,     0.97561,     0.97561,     0.97561,     0.97561,     0.97561,     0.97561,     0.97561,     0.97561,     0.97561,     0.97561,     0.97561,     0.97561,     0.97561,     0.97561,     0.97561,\n",
            "            0.97561,     0.97561,     0.97561,      0.9685,      0.9685,      0.9685,      0.9685,      0.9685,      0.9685,      0.9685,      0.9685,      0.9685,      0.9685,      0.9685,      0.9685,      0.9685,      0.9685,      0.9685,      0.9685,      0.9685,      0.9685,     0.96296,     0.96296,\n",
            "            0.96296,     0.96296,     0.96296,     0.96296,     0.96296,     0.96296,     0.96296,     0.96296,     0.96296,     0.96296,     0.96296,     0.96296,     0.96296,     0.96296,     0.96296,     0.96296,     0.96296,     0.96296,     0.96296,     0.96296,     0.96296,     0.96296,     0.96296,\n",
            "            0.96296,     0.96296,     0.96296,     0.96296,     0.96296,     0.96296,     0.96296,     0.96296,     0.96296,     0.96296,     0.96296,     0.96296,     0.96296,     0.96296,     0.96296,     0.95172,     0.95172,     0.95172,     0.95172,     0.95172,     0.95172,     0.95172,     0.95172,\n",
            "            0.95172,     0.95172,     0.95172,     0.95172,     0.95172,     0.95172,     0.95172,     0.95172,     0.95172,     0.95172,     0.95172,     0.95172,     0.95172,     0.95172,     0.95172,     0.95172,     0.95172,     0.95172,     0.95172,     0.95172,     0.95172,     0.95172,     0.95172,\n",
            "            0.95172,     0.95172,     0.95172,     0.95172,     0.95172,     0.95172,     0.95172,     0.95172,     0.95172,     0.95172,     0.95172,     0.95172,     0.95172,     0.95172,     0.95172,     0.94558,     0.94558,     0.94558,     0.94558,     0.94558,     0.94558,        0.94,        0.94,\n",
            "               0.94,        0.94,        0.94,        0.94,        0.94,        0.94,        0.94,        0.94,        0.94,        0.94,     0.93421,     0.93421,     0.93421,     0.93421,     0.93421,     0.92258,     0.92258,     0.92258,     0.92258,     0.92258,     0.92258,     0.91875,     0.91875,\n",
            "            0.91875,     0.91875,     0.91875,     0.91875,     0.91875,     0.91875,     0.91875,     0.91875,     0.91875,     0.91875,     0.91875,     0.91875,     0.91875,     0.91875,     0.91875,     0.91875,     0.91875,     0.91875,     0.91875,     0.91875,     0.91875,     0.89157,     0.89157,\n",
            "            0.89157,     0.89157,     0.89157,     0.89157,     0.87647,     0.87647,     0.87647,     0.87647,     0.87647,     0.87647,     0.86207,     0.86207,     0.86207,     0.86207,     0.86207,     0.86207,     0.84831,     0.84831,     0.84831,     0.84831,     0.84831,     0.83607,     0.83607,\n",
            "            0.83607,     0.83607,     0.83607,     0.83607,     0.83607,     0.83607,     0.83607,     0.83607,     0.83607,     0.83607,     0.81053,     0.81053,     0.81053,     0.81053,     0.81053,     0.81053,     0.79487,     0.79487,     0.79487,     0.79487,     0.79487,     0.79487,     0.68722,\n",
            "            0.68722,     0.68722,     0.68722,     0.68722,     0.64344,     0.64344,     0.64344,     0.64344,     0.64344,     0.64344,     0.51961,     0.51961,     0.51961,     0.51961,     0.51961,     0.51961,     0.51961,     0.51961,     0.51961,     0.51961,     0.51961,     0.51961,     0.43127,\n",
            "            0.43127,     0.43127,     0.43127,     0.43127,     0.38983,     0.38983,     0.38983,     0.38983,     0.38983,     0.38983,     0.38663,     0.38663,     0.38663,     0.38663,     0.38663,     0.38663,     0.38626,     0.38626,     0.38626,     0.38626,     0.38626,     0.38626,     0.37875,\n",
            "            0.37875,     0.37875,     0.37875,     0.37875,     0.37875,     0.33401,     0.33401,     0.33401,     0.33401,     0.33401,      0.2887,      0.2887,      0.2887,      0.2887,      0.2887,      0.2887,     0.17128,     0.17128,     0.17128,     0.17128,     0.17128,     0.17128,     0.14583,\n",
            "            0.14583,     0.14583,     0.14583,     0.14583,     0.14583,     0.13477,     0.13477,     0.13477,     0.13477,     0.13477,      0.0899,      0.0899,      0.0899,      0.0899,      0.0899,      0.0899,    0.089248,    0.089248,    0.089248,    0.089248,    0.089248,    0.089248,    0.077026,\n",
            "           0.077026,    0.077026,    0.077026,    0.077026,    0.077026,    0.050189,    0.050189,    0.050189,    0.050189,    0.050189,           0]]), 'Recall', 'Precision'], [array([          0,    0.001001,    0.002002,    0.003003,    0.004004,    0.005005,    0.006006,    0.007007,    0.008008,    0.009009,     0.01001,    0.011011,    0.012012,    0.013013,    0.014014,    0.015015,    0.016016,    0.017017,    0.018018,    0.019019,     0.02002,    0.021021,    0.022022,    0.023023,\n",
            "          0.024024,    0.025025,    0.026026,    0.027027,    0.028028,    0.029029,     0.03003,    0.031031,    0.032032,    0.033033,    0.034034,    0.035035,    0.036036,    0.037037,    0.038038,    0.039039,     0.04004,    0.041041,    0.042042,    0.043043,    0.044044,    0.045045,    0.046046,    0.047047,\n",
            "          0.048048,    0.049049,     0.05005,    0.051051,    0.052052,    0.053053,    0.054054,    0.055055,    0.056056,    0.057057,    0.058058,    0.059059,     0.06006,    0.061061,    0.062062,    0.063063,    0.064064,    0.065065,    0.066066,    0.067067,    0.068068,    0.069069,     0.07007,    0.071071,\n",
            "          0.072072,    0.073073,    0.074074,    0.075075,    0.076076,    0.077077,    0.078078,    0.079079,     0.08008,    0.081081,    0.082082,    0.083083,    0.084084,    0.085085,    0.086086,    0.087087,    0.088088,    0.089089,     0.09009,    0.091091,    0.092092,    0.093093,    0.094094,    0.095095,\n",
            "          0.096096,    0.097097,    0.098098,    0.099099,      0.1001,      0.1011,      0.1021,      0.1031,      0.1041,     0.10511,     0.10611,     0.10711,     0.10811,     0.10911,     0.11011,     0.11111,     0.11211,     0.11311,     0.11411,     0.11512,     0.11612,     0.11712,     0.11812,     0.11912,\n",
            "           0.12012,     0.12112,     0.12212,     0.12312,     0.12412,     0.12513,     0.12613,     0.12713,     0.12813,     0.12913,     0.13013,     0.13113,     0.13213,     0.13313,     0.13413,     0.13514,     0.13614,     0.13714,     0.13814,     0.13914,     0.14014,     0.14114,     0.14214,     0.14314,\n",
            "           0.14414,     0.14515,     0.14615,     0.14715,     0.14815,     0.14915,     0.15015,     0.15115,     0.15215,     0.15315,     0.15415,     0.15516,     0.15616,     0.15716,     0.15816,     0.15916,     0.16016,     0.16116,     0.16216,     0.16316,     0.16416,     0.16517,     0.16617,     0.16717,\n",
            "           0.16817,     0.16917,     0.17017,     0.17117,     0.17217,     0.17317,     0.17417,     0.17518,     0.17618,     0.17718,     0.17818,     0.17918,     0.18018,     0.18118,     0.18218,     0.18318,     0.18418,     0.18519,     0.18619,     0.18719,     0.18819,     0.18919,     0.19019,     0.19119,\n",
            "           0.19219,     0.19319,     0.19419,      0.1952,      0.1962,      0.1972,      0.1982,      0.1992,      0.2002,      0.2012,      0.2022,      0.2032,      0.2042,     0.20521,     0.20621,     0.20721,     0.20821,     0.20921,     0.21021,     0.21121,     0.21221,     0.21321,     0.21421,     0.21522,\n",
            "           0.21622,     0.21722,     0.21822,     0.21922,     0.22022,     0.22122,     0.22222,     0.22322,     0.22422,     0.22523,     0.22623,     0.22723,     0.22823,     0.22923,     0.23023,     0.23123,     0.23223,     0.23323,     0.23423,     0.23524,     0.23624,     0.23724,     0.23824,     0.23924,\n",
            "           0.24024,     0.24124,     0.24224,     0.24324,     0.24424,     0.24525,     0.24625,     0.24725,     0.24825,     0.24925,     0.25025,     0.25125,     0.25225,     0.25325,     0.25425,     0.25526,     0.25626,     0.25726,     0.25826,     0.25926,     0.26026,     0.26126,     0.26226,     0.26326,\n",
            "           0.26426,     0.26527,     0.26627,     0.26727,     0.26827,     0.26927,     0.27027,     0.27127,     0.27227,     0.27327,     0.27427,     0.27528,     0.27628,     0.27728,     0.27828,     0.27928,     0.28028,     0.28128,     0.28228,     0.28328,     0.28428,     0.28529,     0.28629,     0.28729,\n",
            "           0.28829,     0.28929,     0.29029,     0.29129,     0.29229,     0.29329,     0.29429,      0.2953,      0.2963,      0.2973,      0.2983,      0.2993,      0.3003,      0.3013,      0.3023,      0.3033,      0.3043,     0.30531,     0.30631,     0.30731,     0.30831,     0.30931,     0.31031,     0.31131,\n",
            "           0.31231,     0.31331,     0.31431,     0.31532,     0.31632,     0.31732,     0.31832,     0.31932,     0.32032,     0.32132,     0.32232,     0.32332,     0.32432,     0.32533,     0.32633,     0.32733,     0.32833,     0.32933,     0.33033,     0.33133,     0.33233,     0.33333,     0.33433,     0.33534,\n",
            "           0.33634,     0.33734,     0.33834,     0.33934,     0.34034,     0.34134,     0.34234,     0.34334,     0.34434,     0.34535,     0.34635,     0.34735,     0.34835,     0.34935,     0.35035,     0.35135,     0.35235,     0.35335,     0.35435,     0.35536,     0.35636,     0.35736,     0.35836,     0.35936,\n",
            "           0.36036,     0.36136,     0.36236,     0.36336,     0.36436,     0.36537,     0.36637,     0.36737,     0.36837,     0.36937,     0.37037,     0.37137,     0.37237,     0.37337,     0.37437,     0.37538,     0.37638,     0.37738,     0.37838,     0.37938,     0.38038,     0.38138,     0.38238,     0.38338,\n",
            "           0.38438,     0.38539,     0.38639,     0.38739,     0.38839,     0.38939,     0.39039,     0.39139,     0.39239,     0.39339,     0.39439,      0.3954,      0.3964,      0.3974,      0.3984,      0.3994,      0.4004,      0.4014,      0.4024,      0.4034,      0.4044,     0.40541,     0.40641,     0.40741,\n",
            "           0.40841,     0.40941,     0.41041,     0.41141,     0.41241,     0.41341,     0.41441,     0.41542,     0.41642,     0.41742,     0.41842,     0.41942,     0.42042,     0.42142,     0.42242,     0.42342,     0.42442,     0.42543,     0.42643,     0.42743,     0.42843,     0.42943,     0.43043,     0.43143,\n",
            "           0.43243,     0.43343,     0.43443,     0.43544,     0.43644,     0.43744,     0.43844,     0.43944,     0.44044,     0.44144,     0.44244,     0.44344,     0.44444,     0.44545,     0.44645,     0.44745,     0.44845,     0.44945,     0.45045,     0.45145,     0.45245,     0.45345,     0.45445,     0.45546,\n",
            "           0.45646,     0.45746,     0.45846,     0.45946,     0.46046,     0.46146,     0.46246,     0.46346,     0.46446,     0.46547,     0.46647,     0.46747,     0.46847,     0.46947,     0.47047,     0.47147,     0.47247,     0.47347,     0.47447,     0.47548,     0.47648,     0.47748,     0.47848,     0.47948,\n",
            "           0.48048,     0.48148,     0.48248,     0.48348,     0.48448,     0.48549,     0.48649,     0.48749,     0.48849,     0.48949,     0.49049,     0.49149,     0.49249,     0.49349,     0.49449,      0.4955,      0.4965,      0.4975,      0.4985,      0.4995,      0.5005,      0.5015,      0.5025,      0.5035,\n",
            "            0.5045,     0.50551,     0.50651,     0.50751,     0.50851,     0.50951,     0.51051,     0.51151,     0.51251,     0.51351,     0.51451,     0.51552,     0.51652,     0.51752,     0.51852,     0.51952,     0.52052,     0.52152,     0.52252,     0.52352,     0.52452,     0.52553,     0.52653,     0.52753,\n",
            "           0.52853,     0.52953,     0.53053,     0.53153,     0.53253,     0.53353,     0.53453,     0.53554,     0.53654,     0.53754,     0.53854,     0.53954,     0.54054,     0.54154,     0.54254,     0.54354,     0.54454,     0.54555,     0.54655,     0.54755,     0.54855,     0.54955,     0.55055,     0.55155,\n",
            "           0.55255,     0.55355,     0.55455,     0.55556,     0.55656,     0.55756,     0.55856,     0.55956,     0.56056,     0.56156,     0.56256,     0.56356,     0.56456,     0.56557,     0.56657,     0.56757,     0.56857,     0.56957,     0.57057,     0.57157,     0.57257,     0.57357,     0.57457,     0.57558,\n",
            "           0.57658,     0.57758,     0.57858,     0.57958,     0.58058,     0.58158,     0.58258,     0.58358,     0.58458,     0.58559,     0.58659,     0.58759,     0.58859,     0.58959,     0.59059,     0.59159,     0.59259,     0.59359,     0.59459,      0.5956,      0.5966,      0.5976,      0.5986,      0.5996,\n",
            "            0.6006,      0.6016,      0.6026,      0.6036,      0.6046,     0.60561,     0.60661,     0.60761,     0.60861,     0.60961,     0.61061,     0.61161,     0.61261,     0.61361,     0.61461,     0.61562,     0.61662,     0.61762,     0.61862,     0.61962,     0.62062,     0.62162,     0.62262,     0.62362,\n",
            "           0.62462,     0.62563,     0.62663,     0.62763,     0.62863,     0.62963,     0.63063,     0.63163,     0.63263,     0.63363,     0.63463,     0.63564,     0.63664,     0.63764,     0.63864,     0.63964,     0.64064,     0.64164,     0.64264,     0.64364,     0.64464,     0.64565,     0.64665,     0.64765,\n",
            "           0.64865,     0.64965,     0.65065,     0.65165,     0.65265,     0.65365,     0.65465,     0.65566,     0.65666,     0.65766,     0.65866,     0.65966,     0.66066,     0.66166,     0.66266,     0.66366,     0.66466,     0.66567,     0.66667,     0.66767,     0.66867,     0.66967,     0.67067,     0.67167,\n",
            "           0.67267,     0.67367,     0.67467,     0.67568,     0.67668,     0.67768,     0.67868,     0.67968,     0.68068,     0.68168,     0.68268,     0.68368,     0.68468,     0.68569,     0.68669,     0.68769,     0.68869,     0.68969,     0.69069,     0.69169,     0.69269,     0.69369,     0.69469,      0.6957,\n",
            "            0.6967,      0.6977,      0.6987,      0.6997,      0.7007,      0.7017,      0.7027,      0.7037,      0.7047,     0.70571,     0.70671,     0.70771,     0.70871,     0.70971,     0.71071,     0.71171,     0.71271,     0.71371,     0.71471,     0.71572,     0.71672,     0.71772,     0.71872,     0.71972,\n",
            "           0.72072,     0.72172,     0.72272,     0.72372,     0.72472,     0.72573,     0.72673,     0.72773,     0.72873,     0.72973,     0.73073,     0.73173,     0.73273,     0.73373,     0.73473,     0.73574,     0.73674,     0.73774,     0.73874,     0.73974,     0.74074,     0.74174,     0.74274,     0.74374,\n",
            "           0.74474,     0.74575,     0.74675,     0.74775,     0.74875,     0.74975,     0.75075,     0.75175,     0.75275,     0.75375,     0.75475,     0.75576,     0.75676,     0.75776,     0.75876,     0.75976,     0.76076,     0.76176,     0.76276,     0.76376,     0.76476,     0.76577,     0.76677,     0.76777,\n",
            "           0.76877,     0.76977,     0.77077,     0.77177,     0.77277,     0.77377,     0.77477,     0.77578,     0.77678,     0.77778,     0.77878,     0.77978,     0.78078,     0.78178,     0.78278,     0.78378,     0.78478,     0.78579,     0.78679,     0.78779,     0.78879,     0.78979,     0.79079,     0.79179,\n",
            "           0.79279,     0.79379,     0.79479,      0.7958,      0.7968,      0.7978,      0.7988,      0.7998,      0.8008,      0.8018,      0.8028,      0.8038,      0.8048,     0.80581,     0.80681,     0.80781,     0.80881,     0.80981,     0.81081,     0.81181,     0.81281,     0.81381,     0.81481,     0.81582,\n",
            "           0.81682,     0.81782,     0.81882,     0.81982,     0.82082,     0.82182,     0.82282,     0.82382,     0.82482,     0.82583,     0.82683,     0.82783,     0.82883,     0.82983,     0.83083,     0.83183,     0.83283,     0.83383,     0.83483,     0.83584,     0.83684,     0.83784,     0.83884,     0.83984,\n",
            "           0.84084,     0.84184,     0.84284,     0.84384,     0.84484,     0.84585,     0.84685,     0.84785,     0.84885,     0.84985,     0.85085,     0.85185,     0.85285,     0.85385,     0.85485,     0.85586,     0.85686,     0.85786,     0.85886,     0.85986,     0.86086,     0.86186,     0.86286,     0.86386,\n",
            "           0.86486,     0.86587,     0.86687,     0.86787,     0.86887,     0.86987,     0.87087,     0.87187,     0.87287,     0.87387,     0.87487,     0.87588,     0.87688,     0.87788,     0.87888,     0.87988,     0.88088,     0.88188,     0.88288,     0.88388,     0.88488,     0.88589,     0.88689,     0.88789,\n",
            "           0.88889,     0.88989,     0.89089,     0.89189,     0.89289,     0.89389,     0.89489,      0.8959,      0.8969,      0.8979,      0.8989,      0.8999,      0.9009,      0.9019,      0.9029,      0.9039,      0.9049,     0.90591,     0.90691,     0.90791,     0.90891,     0.90991,     0.91091,     0.91191,\n",
            "           0.91291,     0.91391,     0.91491,     0.91592,     0.91692,     0.91792,     0.91892,     0.91992,     0.92092,     0.92192,     0.92292,     0.92392,     0.92492,     0.92593,     0.92693,     0.92793,     0.92893,     0.92993,     0.93093,     0.93193,     0.93293,     0.93393,     0.93493,     0.93594,\n",
            "           0.93694,     0.93794,     0.93894,     0.93994,     0.94094,     0.94194,     0.94294,     0.94394,     0.94494,     0.94595,     0.94695,     0.94795,     0.94895,     0.94995,     0.95095,     0.95195,     0.95295,     0.95395,     0.95495,     0.95596,     0.95696,     0.95796,     0.95896,     0.95996,\n",
            "           0.96096,     0.96196,     0.96296,     0.96396,     0.96496,     0.96597,     0.96697,     0.96797,     0.96897,     0.96997,     0.97097,     0.97197,     0.97297,     0.97397,     0.97497,     0.97598,     0.97698,     0.97798,     0.97898,     0.97998,     0.98098,     0.98198,     0.98298,     0.98398,\n",
            "           0.98498,     0.98599,     0.98699,     0.98799,     0.98899,     0.98999,     0.99099,     0.99199,     0.99299,     0.99399,     0.99499,       0.996,       0.997,       0.998,       0.999,           1]), array([[   0.066334,    0.066553,     0.13707,     0.18223,     0.21755,     0.24783,     0.27753,     0.29833,     0.31998,     0.33855,     0.35835,     0.37388,     0.38493,     0.40282,     0.42354,     0.43687,     0.44502,     0.45897,     0.47014,      0.4794,     0.48788,     0.49368,     0.49882,\n",
            "              0.502,     0.51336,     0.52256,     0.53121,     0.53989,     0.54074,     0.54522,     0.54695,     0.54782,     0.54938,     0.55412,     0.56001,     0.56177,     0.56941,       0.573,     0.57832,     0.58143,     0.58524,     0.58586,     0.59151,     0.59494,     0.59972,     0.60477,\n",
            "            0.60907,     0.61125,     0.61568,     0.61904,     0.62149,     0.62367,     0.62514,     0.62633,     0.63115,     0.63402,     0.63774,     0.64354,     0.64755,     0.64845,     0.65048,     0.65282,     0.65477,     0.65597,     0.65782,        0.66,       0.661,     0.66326,     0.66125,\n",
            "            0.66268,     0.66374,       0.667,     0.66995,      0.6742,     0.67859,     0.68109,     0.68405,     0.68492,     0.68723,      0.6888,     0.69223,     0.69332,      0.6941,     0.69575,     0.69801,     0.69841,     0.69882,     0.69922,     0.70063,     0.70753,     0.70835,     0.70928,\n",
            "            0.71036,     0.71159,     0.71391,     0.71465,     0.71761,     0.72449,     0.72615,     0.72747,     0.72882,     0.72957,     0.73103,     0.73222,     0.73255,     0.73288,     0.73321,     0.73354,     0.73423,     0.73508,     0.73742,     0.73881,     0.73958,     0.74035,     0.74146,\n",
            "            0.74587,     0.74654,     0.74721,     0.74981,     0.75263,     0.75128,      0.7507,     0.75239,     0.75376,     0.75457,     0.75538,     0.75688,     0.75747,     0.75773,     0.75799,     0.75825,     0.75851,     0.75877,     0.75903,      0.7615,     0.76237,      0.7632,     0.76397,\n",
            "             0.7648,     0.76668,     0.76842,     0.77028,     0.77429,     0.77646,     0.77702,     0.77758,     0.77841,     0.77922,     0.77694,     0.77766,     0.77837,     0.77915,      0.7801,     0.78166,     0.78725,     0.78833,     0.78911,     0.78965,     0.79018,     0.79072,     0.79096,\n",
            "            0.79114,     0.79132,      0.7915,     0.79168,     0.79185,     0.79203,     0.79221,     0.79239,     0.79257,     0.79275,     0.79313,     0.79374,     0.79436,     0.79526,     0.79759,     0.79916,     0.79976,     0.80036,     0.80096,     0.80225,     0.80343,     0.80429,     0.80514,\n",
            "            0.80882,      0.8097,     0.81002,     0.81034,     0.81067,     0.81099,     0.81132,     0.81187,     0.81279,     0.81373,     0.81473,     0.81574,     0.81707,     0.81804,     0.81832,     0.81861,     0.81889,     0.81917,     0.81945,     0.81974,     0.82002,      0.8212,     0.82449,\n",
            "            0.82465,     0.82481,     0.82497,     0.82513,     0.82529,     0.82545,      0.8256,     0.82576,     0.82592,     0.82608,     0.82624,      0.8264,     0.82656,     0.82687,     0.82748,     0.82808,     0.82868,     0.82899,     0.82915,     0.82932,     0.82949,     0.82965,     0.82982,\n",
            "            0.82998,     0.83015,     0.83031,     0.83048,     0.83064,     0.83081,     0.83097,     0.83147,     0.83305,     0.83468,     0.83812,     0.83908,     0.84003,     0.84049,      0.8409,     0.84131,     0.84172,     0.84213,     0.84224,     0.84183,     0.84143,     0.84102,     0.84061,\n",
            "            0.84021,      0.8398,     0.83939,     0.83934,     0.83951,     0.83968,     0.83985,     0.84002,     0.84019,     0.84036,     0.84053,     0.84069,     0.84086,     0.84103,      0.8412,     0.84137,     0.84154,     0.84171,     0.84189,     0.84207,     0.84225,     0.84242,      0.8426,\n",
            "            0.84278,     0.84295,     0.84313,     0.84331,     0.84348,     0.84366,     0.84384,     0.84392,       0.844,     0.84408,     0.84416,     0.84425,     0.84433,     0.84441,     0.84449,     0.84458,     0.84466,     0.84474,     0.84482,      0.8449,     0.84499,     0.84507,     0.84515,\n",
            "            0.84523,     0.84531,      0.8454,     0.84548,     0.84556,     0.84564,     0.84573,     0.84581,     0.84589,     0.84597,     0.84605,     0.84613,     0.84652,       0.847,     0.84747,     0.84795,     0.84842,     0.84822,     0.84793,     0.84763,     0.84733,     0.84703,     0.84673,\n",
            "            0.84643,     0.84613,     0.84584,     0.84554,     0.84547,     0.84624,       0.847,     0.84768,     0.84793,     0.84818,     0.84843,     0.84868,     0.84893,     0.84918,     0.84943,     0.84968,     0.84992,     0.85032,     0.85077,     0.85123,     0.85168,     0.85214,     0.85508,\n",
            "            0.85623,     0.85772,     0.85885,     0.85682,     0.85322,     0.85339,     0.85356,     0.85373,      0.8539,     0.85408,     0.85425,     0.85442,     0.85459,     0.85476,     0.85493,     0.85511,     0.85528,     0.85545,     0.85574,     0.85614,     0.85654,     0.85693,     0.85733,\n",
            "            0.85772,     0.85832,     0.85923,     0.86014,     0.85992,     0.85924,     0.85856,     0.85789,     0.85721,     0.85823,     0.85942,     0.86075,     0.86209,     0.86321,     0.86432,     0.86298,     0.86129,     0.86145,     0.86161,     0.86177,     0.86192,     0.86208,     0.86224,\n",
            "            0.86239,     0.86255,     0.86271,     0.86286,     0.86302,     0.86318,     0.86333,     0.86349,     0.86365,     0.86388,     0.86441,     0.86493,     0.86546,     0.86598,     0.86643,      0.8668,     0.86717,     0.86754,     0.86791,     0.86827,     0.86864,     0.86633,     0.86581,\n",
            "            0.86618,     0.86656,     0.86694,     0.86732,     0.86769,     0.86842,     0.87082,     0.87129,     0.87177,     0.87224,     0.87272,     0.87312,     0.87262,     0.87212,     0.87161,     0.87111,     0.87061,     0.87011,     0.86996,     0.87027,     0.87057,     0.87088,     0.87119,\n",
            "             0.8715,     0.87181,     0.87211,     0.87243,       0.873,     0.87357,     0.87413,     0.87469,     0.87504,     0.87512,      0.8752,     0.87529,     0.87537,     0.87545,     0.87554,     0.87562,      0.8757,     0.87579,     0.87587,     0.87595,     0.87603,     0.87612,      0.8762,\n",
            "            0.87628,     0.87637,     0.87645,     0.87653,     0.87662,      0.8767,     0.87678,     0.87686,     0.87695,     0.87703,     0.87711,     0.87719,     0.87728,     0.87736,     0.87744,     0.87753,     0.87761,     0.87782,     0.87803,     0.87825,     0.87846,     0.87868,     0.87889,\n",
            "            0.87911,     0.87932,     0.87953,     0.87975,     0.87996,     0.88018,     0.88029,     0.88037,     0.88045,     0.88053,     0.88061,     0.88069,     0.88077,     0.88084,     0.88092,       0.881,     0.88108,     0.88116,     0.88124,     0.88132,     0.88139,     0.88147,     0.88155,\n",
            "            0.88163,     0.88171,     0.88179,     0.88186,     0.88194,     0.88202,      0.8821,     0.88218,     0.88225,     0.88233,     0.88241,     0.88249,     0.88257,     0.88265,     0.88272,      0.8828,     0.88288,     0.88265,      0.8824,     0.88216,     0.88191,     0.88167,     0.88143,\n",
            "            0.88118,     0.88094,     0.88069,     0.88045,      0.8802,     0.87996,     0.87971,     0.87945,     0.87915,     0.87886,     0.87856,     0.87826,     0.87796,     0.87766,     0.87736,     0.87706,     0.87676,     0.87646,     0.87616,     0.87315,     0.87255,     0.87236,     0.87216,\n",
            "            0.87196,     0.87176,     0.87156,     0.87137,     0.87117,     0.87097,     0.87077,     0.87057,     0.87037,     0.87017,     0.86997,     0.86978,     0.86958,     0.86938,     0.86959,     0.87005,     0.87052,     0.87098,     0.87145,     0.87191,     0.87162,     0.87125,     0.87089,\n",
            "            0.87052,     0.87016,     0.86979,     0.86943,     0.86906,     0.86869,     0.86891,     0.86976,      0.8706,     0.87215,     0.87346,     0.87255,     0.87164,     0.87072,     0.87068,      0.8712,     0.87171,     0.87222,     0.87273,     0.87218,     0.86959,     0.86882,     0.86806,\n",
            "            0.86731,     0.86655,     0.86849,     0.86578,     0.86546,     0.86578,      0.8661,     0.86642,     0.86674,     0.86707,     0.86739,     0.86771,     0.86559,     0.86366,     0.86282,     0.86198,     0.86114,     0.85863,     0.85627,     0.85485,      0.8535,     0.85335,     0.85321,\n",
            "            0.85307,     0.85292,     0.85278,     0.85264,      0.8525,     0.85235,     0.85221,     0.85207,     0.85193,     0.85178,     0.85164,      0.8515,     0.85135,     0.85121,     0.85107,     0.85092,     0.85078,     0.85064,     0.85049,     0.85035,     0.85021,     0.85006,     0.84992,\n",
            "            0.84955,     0.84888,     0.84821,     0.84754,     0.84687,      0.8462,     0.84527,      0.8443,     0.84334,      0.8419,     0.83903,     0.83955,     0.84007,     0.84059,      0.8411,     0.84189,     0.84312,     0.84394,     0.84255,     0.84116,     0.83953,     0.83762,     0.83502,\n",
            "            0.82889,     0.82817,     0.82745,     0.82673,     0.82601,     0.82529,     0.82165,     0.82024,     0.81919,     0.81814,     0.81736,     0.81784,     0.81832,     0.81879,     0.81927,     0.81974,     0.81872,     0.81563,     0.81191,     0.81158,     0.81125,     0.81091,     0.81058,\n",
            "            0.81025,     0.80991,     0.80958,     0.80925,     0.80891,     0.80858,     0.80825,     0.81023,     0.80841,      0.8065,     0.80581,     0.80513,     0.80444,     0.80376,     0.80307,     0.80045,      0.7982,     0.79748,     0.79677,     0.79605,     0.79533,     0.79461,     0.79074,\n",
            "            0.78948,     0.78849,      0.7875,     0.78651,     0.78333,     0.77585,     0.77193,     0.76913,      0.7683,     0.76747,     0.76664,     0.76581,     0.76498,     0.75739,     0.75533,     0.75428,     0.75323,     0.75218,     0.74094,     0.73783,     0.73659,     0.73535,     0.73411,\n",
            "            0.72887,      0.7279,     0.72693,     0.72596,     0.72499,      0.7221,     0.71461,     0.70897,     0.70616,     0.69863,      0.6895,     0.68635,     0.68506,     0.68377,     0.68247,     0.67683,      0.6682,      0.6599,     0.65401,     0.64755,     0.64488,     0.64317,     0.64145,\n",
            "            0.63525,     0.62886,     0.62501,     0.61597,     0.61312,     0.61042,     0.60667,     0.60282,     0.59594,     0.59431,     0.59268,     0.59099,     0.58716,     0.58449,     0.58286,     0.58122,     0.57957,     0.57758,     0.57558,     0.57087,     0.55837,     0.55496,     0.55252,\n",
            "            0.55007,     0.54801,     0.54596,     0.54373,     0.53703,     0.53565,     0.53427,     0.53288,     0.53085,     0.52299,     0.51555,     0.50982,     0.49701,     0.48649,     0.48338,     0.47365,     0.47168,     0.46971,     0.46773,     0.46436,      0.4601,     0.45611,     0.45204,\n",
            "            0.44782,      0.4446,     0.44186,     0.43865,     0.43136,     0.42186,     0.41685,     0.40939,     0.39671,      0.3939,     0.39147,     0.38903,     0.38761,     0.38624,     0.38488,     0.38351,     0.38215,     0.37889,     0.37275,     0.36075,     0.35037,     0.34103,     0.33767,\n",
            "            0.33031,     0.32343,     0.31937,     0.30785,     0.30141,     0.29808,     0.29475,     0.29242,     0.29032,     0.28821,      0.2861,     0.28225,     0.27798,     0.25871,     0.25061,     0.24831,     0.24601,      0.2437,     0.24093,     0.23759,     0.23423,     0.21749,     0.21218,\n",
            "            0.20845,     0.20502,     0.20207,     0.19911,     0.19633,     0.19408,     0.19183,     0.18958,     0.18698,     0.18043,     0.17484,      0.1698,     0.16349,     0.15891,     0.15949,     0.15043,     0.12964,     0.12854,     0.12744,     0.12633,     0.12523,     0.12412,     0.12301,\n",
            "             0.1219,     0.12079,     0.11968,     0.11861,     0.11755,     0.11649,     0.11543,     0.11436,      0.1133,     0.11223,     0.11117,      0.1101,     0.10747,     0.10002,    0.095213,    0.090858,    0.087431,    0.085217,    0.082998,    0.080773,    0.078544,    0.076269,    0.073969,\n",
            "           0.071663,    0.069352,    0.067031,    0.061714,    0.056368,    0.047191,    0.044553,    0.043734,    0.042914,    0.042093,    0.041272,    0.040449,    0.039627,    0.038803,    0.037979,    0.037154,    0.036328,    0.035502,    0.034675,    0.033402,    0.031057,    0.028707,     0.02635,\n",
            "           0.023988,    0.021474,    0.018819,    0.016157,    0.013488,           0,           0,           0,           0,           0,           0,           0,           0,           0,           0,           0,           0,           0,           0,           0,           0,           0,           0,\n",
            "                  0,           0,           0,           0,           0,           0,           0,           0,           0,           0,           0,           0,           0,           0,           0,           0,           0,           0,           0,           0,           0,           0,           0,\n",
            "                  0,           0,           0,           0,           0,           0,           0,           0,           0,           0,           0,           0,           0,           0,           0,           0,           0,           0,           0,           0,           0,           0,           0,\n",
            "                  0,           0,           0,           0,           0,           0,           0,           0,           0,           0,           0]]), 'Confidence', 'F1'], [array([          0,    0.001001,    0.002002,    0.003003,    0.004004,    0.005005,    0.006006,    0.007007,    0.008008,    0.009009,     0.01001,    0.011011,    0.012012,    0.013013,    0.014014,    0.015015,    0.016016,    0.017017,    0.018018,    0.019019,     0.02002,    0.021021,    0.022022,    0.023023,\n",
            "          0.024024,    0.025025,    0.026026,    0.027027,    0.028028,    0.029029,     0.03003,    0.031031,    0.032032,    0.033033,    0.034034,    0.035035,    0.036036,    0.037037,    0.038038,    0.039039,     0.04004,    0.041041,    0.042042,    0.043043,    0.044044,    0.045045,    0.046046,    0.047047,\n",
            "          0.048048,    0.049049,     0.05005,    0.051051,    0.052052,    0.053053,    0.054054,    0.055055,    0.056056,    0.057057,    0.058058,    0.059059,     0.06006,    0.061061,    0.062062,    0.063063,    0.064064,    0.065065,    0.066066,    0.067067,    0.068068,    0.069069,     0.07007,    0.071071,\n",
            "          0.072072,    0.073073,    0.074074,    0.075075,    0.076076,    0.077077,    0.078078,    0.079079,     0.08008,    0.081081,    0.082082,    0.083083,    0.084084,    0.085085,    0.086086,    0.087087,    0.088088,    0.089089,     0.09009,    0.091091,    0.092092,    0.093093,    0.094094,    0.095095,\n",
            "          0.096096,    0.097097,    0.098098,    0.099099,      0.1001,      0.1011,      0.1021,      0.1031,      0.1041,     0.10511,     0.10611,     0.10711,     0.10811,     0.10911,     0.11011,     0.11111,     0.11211,     0.11311,     0.11411,     0.11512,     0.11612,     0.11712,     0.11812,     0.11912,\n",
            "           0.12012,     0.12112,     0.12212,     0.12312,     0.12412,     0.12513,     0.12613,     0.12713,     0.12813,     0.12913,     0.13013,     0.13113,     0.13213,     0.13313,     0.13413,     0.13514,     0.13614,     0.13714,     0.13814,     0.13914,     0.14014,     0.14114,     0.14214,     0.14314,\n",
            "           0.14414,     0.14515,     0.14615,     0.14715,     0.14815,     0.14915,     0.15015,     0.15115,     0.15215,     0.15315,     0.15415,     0.15516,     0.15616,     0.15716,     0.15816,     0.15916,     0.16016,     0.16116,     0.16216,     0.16316,     0.16416,     0.16517,     0.16617,     0.16717,\n",
            "           0.16817,     0.16917,     0.17017,     0.17117,     0.17217,     0.17317,     0.17417,     0.17518,     0.17618,     0.17718,     0.17818,     0.17918,     0.18018,     0.18118,     0.18218,     0.18318,     0.18418,     0.18519,     0.18619,     0.18719,     0.18819,     0.18919,     0.19019,     0.19119,\n",
            "           0.19219,     0.19319,     0.19419,      0.1952,      0.1962,      0.1972,      0.1982,      0.1992,      0.2002,      0.2012,      0.2022,      0.2032,      0.2042,     0.20521,     0.20621,     0.20721,     0.20821,     0.20921,     0.21021,     0.21121,     0.21221,     0.21321,     0.21421,     0.21522,\n",
            "           0.21622,     0.21722,     0.21822,     0.21922,     0.22022,     0.22122,     0.22222,     0.22322,     0.22422,     0.22523,     0.22623,     0.22723,     0.22823,     0.22923,     0.23023,     0.23123,     0.23223,     0.23323,     0.23423,     0.23524,     0.23624,     0.23724,     0.23824,     0.23924,\n",
            "           0.24024,     0.24124,     0.24224,     0.24324,     0.24424,     0.24525,     0.24625,     0.24725,     0.24825,     0.24925,     0.25025,     0.25125,     0.25225,     0.25325,     0.25425,     0.25526,     0.25626,     0.25726,     0.25826,     0.25926,     0.26026,     0.26126,     0.26226,     0.26326,\n",
            "           0.26426,     0.26527,     0.26627,     0.26727,     0.26827,     0.26927,     0.27027,     0.27127,     0.27227,     0.27327,     0.27427,     0.27528,     0.27628,     0.27728,     0.27828,     0.27928,     0.28028,     0.28128,     0.28228,     0.28328,     0.28428,     0.28529,     0.28629,     0.28729,\n",
            "           0.28829,     0.28929,     0.29029,     0.29129,     0.29229,     0.29329,     0.29429,      0.2953,      0.2963,      0.2973,      0.2983,      0.2993,      0.3003,      0.3013,      0.3023,      0.3033,      0.3043,     0.30531,     0.30631,     0.30731,     0.30831,     0.30931,     0.31031,     0.31131,\n",
            "           0.31231,     0.31331,     0.31431,     0.31532,     0.31632,     0.31732,     0.31832,     0.31932,     0.32032,     0.32132,     0.32232,     0.32332,     0.32432,     0.32533,     0.32633,     0.32733,     0.32833,     0.32933,     0.33033,     0.33133,     0.33233,     0.33333,     0.33433,     0.33534,\n",
            "           0.33634,     0.33734,     0.33834,     0.33934,     0.34034,     0.34134,     0.34234,     0.34334,     0.34434,     0.34535,     0.34635,     0.34735,     0.34835,     0.34935,     0.35035,     0.35135,     0.35235,     0.35335,     0.35435,     0.35536,     0.35636,     0.35736,     0.35836,     0.35936,\n",
            "           0.36036,     0.36136,     0.36236,     0.36336,     0.36436,     0.36537,     0.36637,     0.36737,     0.36837,     0.36937,     0.37037,     0.37137,     0.37237,     0.37337,     0.37437,     0.37538,     0.37638,     0.37738,     0.37838,     0.37938,     0.38038,     0.38138,     0.38238,     0.38338,\n",
            "           0.38438,     0.38539,     0.38639,     0.38739,     0.38839,     0.38939,     0.39039,     0.39139,     0.39239,     0.39339,     0.39439,      0.3954,      0.3964,      0.3974,      0.3984,      0.3994,      0.4004,      0.4014,      0.4024,      0.4034,      0.4044,     0.40541,     0.40641,     0.40741,\n",
            "           0.40841,     0.40941,     0.41041,     0.41141,     0.41241,     0.41341,     0.41441,     0.41542,     0.41642,     0.41742,     0.41842,     0.41942,     0.42042,     0.42142,     0.42242,     0.42342,     0.42442,     0.42543,     0.42643,     0.42743,     0.42843,     0.42943,     0.43043,     0.43143,\n",
            "           0.43243,     0.43343,     0.43443,     0.43544,     0.43644,     0.43744,     0.43844,     0.43944,     0.44044,     0.44144,     0.44244,     0.44344,     0.44444,     0.44545,     0.44645,     0.44745,     0.44845,     0.44945,     0.45045,     0.45145,     0.45245,     0.45345,     0.45445,     0.45546,\n",
            "           0.45646,     0.45746,     0.45846,     0.45946,     0.46046,     0.46146,     0.46246,     0.46346,     0.46446,     0.46547,     0.46647,     0.46747,     0.46847,     0.46947,     0.47047,     0.47147,     0.47247,     0.47347,     0.47447,     0.47548,     0.47648,     0.47748,     0.47848,     0.47948,\n",
            "           0.48048,     0.48148,     0.48248,     0.48348,     0.48448,     0.48549,     0.48649,     0.48749,     0.48849,     0.48949,     0.49049,     0.49149,     0.49249,     0.49349,     0.49449,      0.4955,      0.4965,      0.4975,      0.4985,      0.4995,      0.5005,      0.5015,      0.5025,      0.5035,\n",
            "            0.5045,     0.50551,     0.50651,     0.50751,     0.50851,     0.50951,     0.51051,     0.51151,     0.51251,     0.51351,     0.51451,     0.51552,     0.51652,     0.51752,     0.51852,     0.51952,     0.52052,     0.52152,     0.52252,     0.52352,     0.52452,     0.52553,     0.52653,     0.52753,\n",
            "           0.52853,     0.52953,     0.53053,     0.53153,     0.53253,     0.53353,     0.53453,     0.53554,     0.53654,     0.53754,     0.53854,     0.53954,     0.54054,     0.54154,     0.54254,     0.54354,     0.54454,     0.54555,     0.54655,     0.54755,     0.54855,     0.54955,     0.55055,     0.55155,\n",
            "           0.55255,     0.55355,     0.55455,     0.55556,     0.55656,     0.55756,     0.55856,     0.55956,     0.56056,     0.56156,     0.56256,     0.56356,     0.56456,     0.56557,     0.56657,     0.56757,     0.56857,     0.56957,     0.57057,     0.57157,     0.57257,     0.57357,     0.57457,     0.57558,\n",
            "           0.57658,     0.57758,     0.57858,     0.57958,     0.58058,     0.58158,     0.58258,     0.58358,     0.58458,     0.58559,     0.58659,     0.58759,     0.58859,     0.58959,     0.59059,     0.59159,     0.59259,     0.59359,     0.59459,      0.5956,      0.5966,      0.5976,      0.5986,      0.5996,\n",
            "            0.6006,      0.6016,      0.6026,      0.6036,      0.6046,     0.60561,     0.60661,     0.60761,     0.60861,     0.60961,     0.61061,     0.61161,     0.61261,     0.61361,     0.61461,     0.61562,     0.61662,     0.61762,     0.61862,     0.61962,     0.62062,     0.62162,     0.62262,     0.62362,\n",
            "           0.62462,     0.62563,     0.62663,     0.62763,     0.62863,     0.62963,     0.63063,     0.63163,     0.63263,     0.63363,     0.63463,     0.63564,     0.63664,     0.63764,     0.63864,     0.63964,     0.64064,     0.64164,     0.64264,     0.64364,     0.64464,     0.64565,     0.64665,     0.64765,\n",
            "           0.64865,     0.64965,     0.65065,     0.65165,     0.65265,     0.65365,     0.65465,     0.65566,     0.65666,     0.65766,     0.65866,     0.65966,     0.66066,     0.66166,     0.66266,     0.66366,     0.66466,     0.66567,     0.66667,     0.66767,     0.66867,     0.66967,     0.67067,     0.67167,\n",
            "           0.67267,     0.67367,     0.67467,     0.67568,     0.67668,     0.67768,     0.67868,     0.67968,     0.68068,     0.68168,     0.68268,     0.68368,     0.68468,     0.68569,     0.68669,     0.68769,     0.68869,     0.68969,     0.69069,     0.69169,     0.69269,     0.69369,     0.69469,      0.6957,\n",
            "            0.6967,      0.6977,      0.6987,      0.6997,      0.7007,      0.7017,      0.7027,      0.7037,      0.7047,     0.70571,     0.70671,     0.70771,     0.70871,     0.70971,     0.71071,     0.71171,     0.71271,     0.71371,     0.71471,     0.71572,     0.71672,     0.71772,     0.71872,     0.71972,\n",
            "           0.72072,     0.72172,     0.72272,     0.72372,     0.72472,     0.72573,     0.72673,     0.72773,     0.72873,     0.72973,     0.73073,     0.73173,     0.73273,     0.73373,     0.73473,     0.73574,     0.73674,     0.73774,     0.73874,     0.73974,     0.74074,     0.74174,     0.74274,     0.74374,\n",
            "           0.74474,     0.74575,     0.74675,     0.74775,     0.74875,     0.74975,     0.75075,     0.75175,     0.75275,     0.75375,     0.75475,     0.75576,     0.75676,     0.75776,     0.75876,     0.75976,     0.76076,     0.76176,     0.76276,     0.76376,     0.76476,     0.76577,     0.76677,     0.76777,\n",
            "           0.76877,     0.76977,     0.77077,     0.77177,     0.77277,     0.77377,     0.77477,     0.77578,     0.77678,     0.77778,     0.77878,     0.77978,     0.78078,     0.78178,     0.78278,     0.78378,     0.78478,     0.78579,     0.78679,     0.78779,     0.78879,     0.78979,     0.79079,     0.79179,\n",
            "           0.79279,     0.79379,     0.79479,      0.7958,      0.7968,      0.7978,      0.7988,      0.7998,      0.8008,      0.8018,      0.8028,      0.8038,      0.8048,     0.80581,     0.80681,     0.80781,     0.80881,     0.80981,     0.81081,     0.81181,     0.81281,     0.81381,     0.81481,     0.81582,\n",
            "           0.81682,     0.81782,     0.81882,     0.81982,     0.82082,     0.82182,     0.82282,     0.82382,     0.82482,     0.82583,     0.82683,     0.82783,     0.82883,     0.82983,     0.83083,     0.83183,     0.83283,     0.83383,     0.83483,     0.83584,     0.83684,     0.83784,     0.83884,     0.83984,\n",
            "           0.84084,     0.84184,     0.84284,     0.84384,     0.84484,     0.84585,     0.84685,     0.84785,     0.84885,     0.84985,     0.85085,     0.85185,     0.85285,     0.85385,     0.85485,     0.85586,     0.85686,     0.85786,     0.85886,     0.85986,     0.86086,     0.86186,     0.86286,     0.86386,\n",
            "           0.86486,     0.86587,     0.86687,     0.86787,     0.86887,     0.86987,     0.87087,     0.87187,     0.87287,     0.87387,     0.87487,     0.87588,     0.87688,     0.87788,     0.87888,     0.87988,     0.88088,     0.88188,     0.88288,     0.88388,     0.88488,     0.88589,     0.88689,     0.88789,\n",
            "           0.88889,     0.88989,     0.89089,     0.89189,     0.89289,     0.89389,     0.89489,      0.8959,      0.8969,      0.8979,      0.8989,      0.8999,      0.9009,      0.9019,      0.9029,      0.9039,      0.9049,     0.90591,     0.90691,     0.90791,     0.90891,     0.90991,     0.91091,     0.91191,\n",
            "           0.91291,     0.91391,     0.91491,     0.91592,     0.91692,     0.91792,     0.91892,     0.91992,     0.92092,     0.92192,     0.92292,     0.92392,     0.92492,     0.92593,     0.92693,     0.92793,     0.92893,     0.92993,     0.93093,     0.93193,     0.93293,     0.93393,     0.93493,     0.93594,\n",
            "           0.93694,     0.93794,     0.93894,     0.93994,     0.94094,     0.94194,     0.94294,     0.94394,     0.94494,     0.94595,     0.94695,     0.94795,     0.94895,     0.94995,     0.95095,     0.95195,     0.95295,     0.95395,     0.95495,     0.95596,     0.95696,     0.95796,     0.95896,     0.95996,\n",
            "           0.96096,     0.96196,     0.96296,     0.96396,     0.96496,     0.96597,     0.96697,     0.96797,     0.96897,     0.96997,     0.97097,     0.97197,     0.97297,     0.97397,     0.97497,     0.97598,     0.97698,     0.97798,     0.97898,     0.97998,     0.98098,     0.98198,     0.98298,     0.98398,\n",
            "           0.98498,     0.98599,     0.98699,     0.98799,     0.98899,     0.98999,     0.99099,     0.99199,     0.99299,     0.99399,     0.99499,       0.996,       0.997,       0.998,       0.999,           1]), array([[   0.034305,    0.034422,    0.073612,     0.10049,      0.1224,     0.14204,     0.16206,     0.17662,       0.192,     0.20553,     0.22032,     0.23217,     0.24076,     0.25492,     0.27174,     0.28282,     0.29022,      0.3022,     0.31196,     0.32016,     0.32778,     0.33303,     0.33846,\n",
            "            0.34139,     0.35198,      0.3607,     0.36899,     0.37742,     0.37918,      0.3836,     0.38728,     0.38916,     0.39075,     0.39556,     0.40159,      0.4034,     0.41133,     0.41509,     0.42069,     0.42399,     0.42805,     0.42998,     0.43609,     0.43982,     0.44507,     0.45065,\n",
            "            0.45545,     0.45789,     0.46288,     0.46669,     0.46948,     0.47198,     0.47365,     0.47502,     0.48059,     0.48393,     0.48827,      0.4951,     0.49987,     0.50095,     0.50337,     0.50618,     0.50853,     0.50998,     0.51222,     0.51487,     0.51608,     0.51884,     0.51812,\n",
            "            0.52189,     0.52319,     0.52726,     0.53095,     0.53632,     0.54189,      0.5451,     0.54889,     0.55001,       0.553,     0.55503,      0.5595,     0.56093,     0.56194,     0.56411,     0.56709,     0.56763,     0.56816,      0.5687,     0.57056,     0.57977,     0.58087,     0.58213,\n",
            "            0.58358,     0.58524,     0.58838,     0.58939,     0.59343,      0.6029,     0.60521,     0.60704,     0.60891,     0.60997,     0.61201,     0.61368,     0.61414,     0.61461,     0.61508,     0.61554,     0.61651,      0.6177,     0.62102,     0.62299,     0.62409,     0.62518,     0.62677,\n",
            "            0.63311,     0.63407,     0.63504,     0.63881,     0.64291,      0.6426,       0.643,     0.64548,      0.6475,      0.6487,      0.6499,     0.65212,     0.65301,     0.65339,     0.65378,     0.65416,     0.65455,     0.65494,     0.65532,     0.65901,     0.66032,     0.66156,     0.66273,\n",
            "            0.66397,     0.66681,     0.66945,     0.67228,     0.67841,     0.68174,     0.68261,     0.68347,     0.68476,     0.68687,     0.68584,     0.68696,     0.68807,     0.68929,     0.69078,     0.69323,     0.70208,      0.7038,     0.70503,     0.70589,     0.70675,     0.70761,       0.708,\n",
            "            0.70828,     0.70857,     0.70886,     0.70914,     0.70943,     0.70971,        0.71,     0.71029,     0.71057,     0.71086,     0.71148,     0.71246,     0.71345,     0.71491,     0.71869,     0.72124,     0.72222,      0.7232,     0.72418,     0.72629,     0.72823,     0.72964,     0.73105,\n",
            "            0.73713,     0.73859,     0.73913,     0.73967,     0.74021,     0.74075,     0.74129,     0.74221,     0.74376,     0.74532,     0.74702,     0.74871,     0.75096,      0.7526,     0.75308,     0.75355,     0.75403,     0.75451,     0.75499,     0.75547,     0.75595,     0.75797,     0.76358,\n",
            "            0.76385,     0.76413,      0.7644,     0.76468,     0.76495,     0.76522,      0.7655,     0.76577,     0.76605,     0.76632,      0.7666,     0.76687,     0.76715,     0.76768,     0.76872,     0.76977,     0.77081,     0.77134,     0.77163,     0.77191,      0.7722,     0.77249,     0.77277,\n",
            "            0.77306,     0.77335,     0.77363,     0.77392,     0.77421,     0.77449,     0.77478,     0.77565,      0.7784,     0.78125,     0.78731,     0.78899,     0.79067,     0.79148,     0.79222,     0.79295,     0.79368,     0.79441,     0.79482,     0.79468,     0.79455,     0.79441,     0.79427,\n",
            "            0.79414,       0.794,     0.79387,       0.794,     0.79431,     0.79461,     0.79491,     0.79521,     0.79552,     0.79582,     0.79612,     0.79643,     0.79673,     0.79703,     0.79733,     0.79764,     0.79794,     0.79826,     0.79858,      0.7989,     0.79922,     0.79953,     0.79985,\n",
            "            0.80017,     0.80049,     0.80081,     0.80113,     0.80145,     0.80176,     0.80208,     0.80223,     0.80238,     0.80253,     0.80268,     0.80283,     0.80298,     0.80312,     0.80327,     0.80342,     0.80357,     0.80372,     0.80387,     0.80402,     0.80417,     0.80431,     0.80446,\n",
            "            0.80461,     0.80476,     0.80491,     0.80506,     0.80521,     0.80536,      0.8055,     0.80565,      0.8058,     0.80595,      0.8061,     0.80625,     0.80695,     0.80782,     0.80868,     0.80955,     0.81042,     0.81044,     0.81035,     0.81026,     0.81016,     0.81007,     0.80997,\n",
            "            0.80988,     0.80979,     0.80969,      0.8096,     0.80984,     0.81124,     0.81264,      0.8139,     0.81436,     0.81482,     0.81528,     0.81574,      0.8162,     0.81666,     0.81712,     0.81758,     0.81804,     0.81877,     0.81961,     0.82046,      0.8213,     0.82215,     0.82766,\n",
            "            0.82981,     0.83261,     0.83587,      0.8353,     0.83446,     0.83479,     0.83512,     0.83545,     0.83578,     0.83611,     0.83644,     0.83677,      0.8371,     0.83743,     0.83775,     0.83808,     0.83841,     0.83874,     0.83931,     0.84007,     0.84084,      0.8416,     0.84236,\n",
            "            0.84312,     0.84429,     0.84605,      0.8478,     0.84819,     0.84801,     0.84783,     0.84765,     0.84747,     0.84958,     0.85192,     0.85453,     0.85719,     0.85939,      0.8616,     0.86169,     0.86132,     0.86163,     0.86195,     0.86226,     0.86257,     0.86289,      0.8632,\n",
            "            0.86352,     0.86383,     0.86415,     0.86446,     0.86478,     0.86509,     0.86541,     0.86572,     0.86603,     0.86651,     0.86757,     0.86862,     0.86968,     0.87073,     0.87166,     0.87241,     0.87315,      0.8739,     0.87465,     0.87539,     0.87614,     0.87592,     0.87637,\n",
            "            0.87715,     0.87792,      0.8787,     0.87947,     0.88025,     0.88174,      0.8867,     0.88769,     0.88868,     0.88966,     0.89065,     0.89156,     0.89146,     0.89136,     0.89126,     0.89116,     0.89106,     0.89096,     0.89119,     0.89184,     0.89249,     0.89314,     0.89378,\n",
            "            0.89443,     0.89508,     0.89573,      0.8964,      0.8976,      0.8988,     0.89999,     0.90119,     0.90192,      0.9021,     0.90227,     0.90245,     0.90263,      0.9028,     0.90298,     0.90316,     0.90333,     0.90351,     0.90369,     0.90387,     0.90404,     0.90422,      0.9044,\n",
            "            0.90457,     0.90475,     0.90493,      0.9051,     0.90528,     0.90546,     0.90563,     0.90581,     0.90599,     0.90616,     0.90634,     0.90652,     0.90669,     0.90687,     0.90705,     0.90722,      0.9074,     0.90785,     0.90831,     0.90877,     0.90923,     0.90969,     0.91015,\n",
            "            0.91061,     0.91107,     0.91153,     0.91199,     0.91245,     0.91291,     0.91316,     0.91333,      0.9135,     0.91367,     0.91384,     0.91401,     0.91418,     0.91435,     0.91452,     0.91468,     0.91485,     0.91502,     0.91519,     0.91536,     0.91553,      0.9157,     0.91587,\n",
            "            0.91604,     0.91621,     0.91638,     0.91655,     0.91671,     0.91688,     0.91705,     0.91722,     0.91739,     0.91756,     0.91773,      0.9179,     0.91807,     0.91824,     0.91841,     0.91857,     0.91874,     0.91871,     0.91868,     0.91864,      0.9186,     0.91857,     0.91853,\n",
            "            0.91849,     0.91845,     0.91842,     0.91838,     0.91834,     0.91831,     0.91827,     0.91823,     0.91818,     0.91814,     0.91809,     0.91805,       0.918,     0.91795,     0.91791,     0.91786,     0.91782,     0.91777,     0.91773,     0.91726,     0.91717,     0.91714,     0.91711,\n",
            "            0.91708,     0.91705,     0.91702,     0.91699,     0.91696,     0.91692,     0.91689,     0.91686,     0.91683,      0.9168,     0.91677,     0.91674,     0.91671,     0.91668,     0.91731,     0.91834,     0.91938,     0.92041,     0.92145,     0.92249,     0.92253,     0.92248,     0.92243,\n",
            "            0.92237,     0.92232,     0.92227,     0.92221,     0.92216,     0.92211,       0.923,     0.92491,     0.92682,     0.93034,     0.93416,     0.93405,     0.93393,     0.93382,      0.9345,     0.93568,     0.93686,     0.93804,     0.93922,      0.9399,      0.9396,     0.93951,     0.93942,\n",
            "            0.93934,     0.93925,     0.94555,     0.94527,     0.94581,     0.94658,     0.94735,     0.94812,     0.94889,     0.94966,     0.95043,      0.9512,     0.95151,     0.95132,     0.95124,     0.95116,     0.95109,     0.95085,     0.95062,     0.95048,     0.95035,     0.95034,     0.95033,\n",
            "            0.95031,      0.9503,     0.95028,     0.95027,     0.95026,     0.95024,     0.95023,     0.95022,      0.9502,     0.95019,     0.95017,     0.95016,     0.95015,     0.95013,     0.95012,      0.9501,     0.95009,     0.95008,     0.95006,     0.95005,     0.95004,     0.95002,     0.95001,\n",
            "            0.94997,     0.94991,     0.94984,     0.94978,     0.94971,     0.94965,     0.94955,     0.94946,     0.94936,     0.94922,     0.94971,     0.95105,     0.95238,     0.95372,     0.95506,     0.95709,     0.96028,     0.96295,     0.96284,     0.96274,     0.96262,     0.96248,     0.96229,\n",
            "            0.96183,     0.96177,     0.96172,     0.96166,     0.96161,     0.96155,     0.96128,     0.96117,     0.96109,       0.961,     0.96118,      0.9625,     0.96382,     0.96514,     0.96646,     0.96778,     0.96842,     0.96823,     0.96799,     0.96797,     0.96795,     0.96792,      0.9679,\n",
            "            0.96788,     0.96786,     0.96784,     0.96782,      0.9678,     0.96777,     0.96775,     0.97392,     0.97549,      0.9754,     0.97536,     0.97533,     0.97529,     0.97526,     0.97522,     0.97509,     0.97498,     0.97494,      0.9749,     0.97487,     0.97483,     0.97479,      0.9746,\n",
            "            0.97453,     0.97448,     0.97443,     0.97437,     0.97421,     0.97381,      0.9736,     0.97345,      0.9734,     0.97335,     0.97331,     0.97326,     0.97322,     0.97279,     0.97268,     0.97262,     0.97256,      0.9725,     0.97185,     0.97167,     0.97159,     0.97152,     0.97145,\n",
            "            0.97113,     0.97107,     0.97101,     0.97095,     0.97089,     0.97072,     0.97025,     0.96989,     0.96971,     0.96923,     0.96862,     0.96841,     0.96832,     0.96823,     0.96814,     0.96775,     0.96714,     0.96654,     0.96611,     0.96562,     0.96542,     0.96529,     0.96516,\n",
            "            0.96467,     0.96417,     0.96386,     0.97496,       0.985,     0.98709,     0.98697,     0.98685,     0.98664,     0.98659,     0.98654,     0.98648,     0.98636,     0.98627,     0.98622,     0.98616,     0.98611,     0.98604,     0.98598,     0.98582,     0.98538,     0.98526,     0.98517,\n",
            "            0.98508,       0.985,     0.98492,     0.98484,     0.98458,     0.98453,     0.98448,     0.98442,     0.98434,     0.98403,     0.98372,     0.98348,     0.98292,     0.98243,     0.98229,     0.98182,     0.98172,     0.98162,     0.98152,     0.98135,     0.98113,     0.98092,      0.9807,\n",
            "            0.98047,     0.98029,     0.98013,     0.97995,     0.97953,     0.97895,     0.97864,     0.97816,      0.9773,      0.9771,     0.97693,     0.97675,     0.97665,     0.97655,     0.97645,     0.97635,     0.97625,       0.976,     0.97552,     0.97455,     0.97365,      0.9728,     0.97248,\n",
            "            0.97176,     0.97106,     0.97064,     0.96937,     0.96862,     0.96822,     0.96782,     0.96752,     0.96725,     0.96699,     0.96672,      0.9662,     0.96562,     0.96275,     0.96142,     0.96102,     0.96062,     0.96022,     0.95972,     0.95909,     0.95847,       0.955,     0.95379,\n",
            "            0.95291,     0.95208,     0.95132,     0.95057,     0.94984,     0.94921,     0.94858,     0.94795,     0.94721,     0.94519,     0.94336,     0.94164,      0.9393,     0.95039,     0.99303,           1,           1,           1,           1,           1,           1,           1,           1,\n",
            "                  1,           1,           1,           1,           1,           1,           1,           1,           1,           1,           1,           1,           1,           1,           1,           1,           1,           1,           1,           1,           1,           1,           1,\n",
            "                  1,           1,           1,           1,           1,           1,           1,           1,           1,           1,           1,           1,           1,           1,           1,           1,           1,           1,           1,           1,           1,           1,           1,\n",
            "                  1,           1,           1,           1,           1,           1,           1,           1,           1,           1,           1,           1,           1,           1,           1,           1,           1,           1,           1,           1,           1,           1,           1,\n",
            "                  1,           1,           1,           1,           1,           1,           1,           1,           1,           1,           1,           1,           1,           1,           1,           1,           1,           1,           1,           1,           1,           1,           1,\n",
            "                  1,           1,           1,           1,           1,           1,           1,           1,           1,           1,           1,           1,           1,           1,           1,           1,           1,           1,           1,           1,           1,           1,           1,\n",
            "                  1,           1,           1,           1,           1,           1,           1,           1,           1,           1,           1]]), 'Confidence', 'Precision'], [array([          0,    0.001001,    0.002002,    0.003003,    0.004004,    0.005005,    0.006006,    0.007007,    0.008008,    0.009009,     0.01001,    0.011011,    0.012012,    0.013013,    0.014014,    0.015015,    0.016016,    0.017017,    0.018018,    0.019019,     0.02002,    0.021021,    0.022022,    0.023023,\n",
            "          0.024024,    0.025025,    0.026026,    0.027027,    0.028028,    0.029029,     0.03003,    0.031031,    0.032032,    0.033033,    0.034034,    0.035035,    0.036036,    0.037037,    0.038038,    0.039039,     0.04004,    0.041041,    0.042042,    0.043043,    0.044044,    0.045045,    0.046046,    0.047047,\n",
            "          0.048048,    0.049049,     0.05005,    0.051051,    0.052052,    0.053053,    0.054054,    0.055055,    0.056056,    0.057057,    0.058058,    0.059059,     0.06006,    0.061061,    0.062062,    0.063063,    0.064064,    0.065065,    0.066066,    0.067067,    0.068068,    0.069069,     0.07007,    0.071071,\n",
            "          0.072072,    0.073073,    0.074074,    0.075075,    0.076076,    0.077077,    0.078078,    0.079079,     0.08008,    0.081081,    0.082082,    0.083083,    0.084084,    0.085085,    0.086086,    0.087087,    0.088088,    0.089089,     0.09009,    0.091091,    0.092092,    0.093093,    0.094094,    0.095095,\n",
            "          0.096096,    0.097097,    0.098098,    0.099099,      0.1001,      0.1011,      0.1021,      0.1031,      0.1041,     0.10511,     0.10611,     0.10711,     0.10811,     0.10911,     0.11011,     0.11111,     0.11211,     0.11311,     0.11411,     0.11512,     0.11612,     0.11712,     0.11812,     0.11912,\n",
            "           0.12012,     0.12112,     0.12212,     0.12312,     0.12412,     0.12513,     0.12613,     0.12713,     0.12813,     0.12913,     0.13013,     0.13113,     0.13213,     0.13313,     0.13413,     0.13514,     0.13614,     0.13714,     0.13814,     0.13914,     0.14014,     0.14114,     0.14214,     0.14314,\n",
            "           0.14414,     0.14515,     0.14615,     0.14715,     0.14815,     0.14915,     0.15015,     0.15115,     0.15215,     0.15315,     0.15415,     0.15516,     0.15616,     0.15716,     0.15816,     0.15916,     0.16016,     0.16116,     0.16216,     0.16316,     0.16416,     0.16517,     0.16617,     0.16717,\n",
            "           0.16817,     0.16917,     0.17017,     0.17117,     0.17217,     0.17317,     0.17417,     0.17518,     0.17618,     0.17718,     0.17818,     0.17918,     0.18018,     0.18118,     0.18218,     0.18318,     0.18418,     0.18519,     0.18619,     0.18719,     0.18819,     0.18919,     0.19019,     0.19119,\n",
            "           0.19219,     0.19319,     0.19419,      0.1952,      0.1962,      0.1972,      0.1982,      0.1992,      0.2002,      0.2012,      0.2022,      0.2032,      0.2042,     0.20521,     0.20621,     0.20721,     0.20821,     0.20921,     0.21021,     0.21121,     0.21221,     0.21321,     0.21421,     0.21522,\n",
            "           0.21622,     0.21722,     0.21822,     0.21922,     0.22022,     0.22122,     0.22222,     0.22322,     0.22422,     0.22523,     0.22623,     0.22723,     0.22823,     0.22923,     0.23023,     0.23123,     0.23223,     0.23323,     0.23423,     0.23524,     0.23624,     0.23724,     0.23824,     0.23924,\n",
            "           0.24024,     0.24124,     0.24224,     0.24324,     0.24424,     0.24525,     0.24625,     0.24725,     0.24825,     0.24925,     0.25025,     0.25125,     0.25225,     0.25325,     0.25425,     0.25526,     0.25626,     0.25726,     0.25826,     0.25926,     0.26026,     0.26126,     0.26226,     0.26326,\n",
            "           0.26426,     0.26527,     0.26627,     0.26727,     0.26827,     0.26927,     0.27027,     0.27127,     0.27227,     0.27327,     0.27427,     0.27528,     0.27628,     0.27728,     0.27828,     0.27928,     0.28028,     0.28128,     0.28228,     0.28328,     0.28428,     0.28529,     0.28629,     0.28729,\n",
            "           0.28829,     0.28929,     0.29029,     0.29129,     0.29229,     0.29329,     0.29429,      0.2953,      0.2963,      0.2973,      0.2983,      0.2993,      0.3003,      0.3013,      0.3023,      0.3033,      0.3043,     0.30531,     0.30631,     0.30731,     0.30831,     0.30931,     0.31031,     0.31131,\n",
            "           0.31231,     0.31331,     0.31431,     0.31532,     0.31632,     0.31732,     0.31832,     0.31932,     0.32032,     0.32132,     0.32232,     0.32332,     0.32432,     0.32533,     0.32633,     0.32733,     0.32833,     0.32933,     0.33033,     0.33133,     0.33233,     0.33333,     0.33433,     0.33534,\n",
            "           0.33634,     0.33734,     0.33834,     0.33934,     0.34034,     0.34134,     0.34234,     0.34334,     0.34434,     0.34535,     0.34635,     0.34735,     0.34835,     0.34935,     0.35035,     0.35135,     0.35235,     0.35335,     0.35435,     0.35536,     0.35636,     0.35736,     0.35836,     0.35936,\n",
            "           0.36036,     0.36136,     0.36236,     0.36336,     0.36436,     0.36537,     0.36637,     0.36737,     0.36837,     0.36937,     0.37037,     0.37137,     0.37237,     0.37337,     0.37437,     0.37538,     0.37638,     0.37738,     0.37838,     0.37938,     0.38038,     0.38138,     0.38238,     0.38338,\n",
            "           0.38438,     0.38539,     0.38639,     0.38739,     0.38839,     0.38939,     0.39039,     0.39139,     0.39239,     0.39339,     0.39439,      0.3954,      0.3964,      0.3974,      0.3984,      0.3994,      0.4004,      0.4014,      0.4024,      0.4034,      0.4044,     0.40541,     0.40641,     0.40741,\n",
            "           0.40841,     0.40941,     0.41041,     0.41141,     0.41241,     0.41341,     0.41441,     0.41542,     0.41642,     0.41742,     0.41842,     0.41942,     0.42042,     0.42142,     0.42242,     0.42342,     0.42442,     0.42543,     0.42643,     0.42743,     0.42843,     0.42943,     0.43043,     0.43143,\n",
            "           0.43243,     0.43343,     0.43443,     0.43544,     0.43644,     0.43744,     0.43844,     0.43944,     0.44044,     0.44144,     0.44244,     0.44344,     0.44444,     0.44545,     0.44645,     0.44745,     0.44845,     0.44945,     0.45045,     0.45145,     0.45245,     0.45345,     0.45445,     0.45546,\n",
            "           0.45646,     0.45746,     0.45846,     0.45946,     0.46046,     0.46146,     0.46246,     0.46346,     0.46446,     0.46547,     0.46647,     0.46747,     0.46847,     0.46947,     0.47047,     0.47147,     0.47247,     0.47347,     0.47447,     0.47548,     0.47648,     0.47748,     0.47848,     0.47948,\n",
            "           0.48048,     0.48148,     0.48248,     0.48348,     0.48448,     0.48549,     0.48649,     0.48749,     0.48849,     0.48949,     0.49049,     0.49149,     0.49249,     0.49349,     0.49449,      0.4955,      0.4965,      0.4975,      0.4985,      0.4995,      0.5005,      0.5015,      0.5025,      0.5035,\n",
            "            0.5045,     0.50551,     0.50651,     0.50751,     0.50851,     0.50951,     0.51051,     0.51151,     0.51251,     0.51351,     0.51451,     0.51552,     0.51652,     0.51752,     0.51852,     0.51952,     0.52052,     0.52152,     0.52252,     0.52352,     0.52452,     0.52553,     0.52653,     0.52753,\n",
            "           0.52853,     0.52953,     0.53053,     0.53153,     0.53253,     0.53353,     0.53453,     0.53554,     0.53654,     0.53754,     0.53854,     0.53954,     0.54054,     0.54154,     0.54254,     0.54354,     0.54454,     0.54555,     0.54655,     0.54755,     0.54855,     0.54955,     0.55055,     0.55155,\n",
            "           0.55255,     0.55355,     0.55455,     0.55556,     0.55656,     0.55756,     0.55856,     0.55956,     0.56056,     0.56156,     0.56256,     0.56356,     0.56456,     0.56557,     0.56657,     0.56757,     0.56857,     0.56957,     0.57057,     0.57157,     0.57257,     0.57357,     0.57457,     0.57558,\n",
            "           0.57658,     0.57758,     0.57858,     0.57958,     0.58058,     0.58158,     0.58258,     0.58358,     0.58458,     0.58559,     0.58659,     0.58759,     0.58859,     0.58959,     0.59059,     0.59159,     0.59259,     0.59359,     0.59459,      0.5956,      0.5966,      0.5976,      0.5986,      0.5996,\n",
            "            0.6006,      0.6016,      0.6026,      0.6036,      0.6046,     0.60561,     0.60661,     0.60761,     0.60861,     0.60961,     0.61061,     0.61161,     0.61261,     0.61361,     0.61461,     0.61562,     0.61662,     0.61762,     0.61862,     0.61962,     0.62062,     0.62162,     0.62262,     0.62362,\n",
            "           0.62462,     0.62563,     0.62663,     0.62763,     0.62863,     0.62963,     0.63063,     0.63163,     0.63263,     0.63363,     0.63463,     0.63564,     0.63664,     0.63764,     0.63864,     0.63964,     0.64064,     0.64164,     0.64264,     0.64364,     0.64464,     0.64565,     0.64665,     0.64765,\n",
            "           0.64865,     0.64965,     0.65065,     0.65165,     0.65265,     0.65365,     0.65465,     0.65566,     0.65666,     0.65766,     0.65866,     0.65966,     0.66066,     0.66166,     0.66266,     0.66366,     0.66466,     0.66567,     0.66667,     0.66767,     0.66867,     0.66967,     0.67067,     0.67167,\n",
            "           0.67267,     0.67367,     0.67467,     0.67568,     0.67668,     0.67768,     0.67868,     0.67968,     0.68068,     0.68168,     0.68268,     0.68368,     0.68468,     0.68569,     0.68669,     0.68769,     0.68869,     0.68969,     0.69069,     0.69169,     0.69269,     0.69369,     0.69469,      0.6957,\n",
            "            0.6967,      0.6977,      0.6987,      0.6997,      0.7007,      0.7017,      0.7027,      0.7037,      0.7047,     0.70571,     0.70671,     0.70771,     0.70871,     0.70971,     0.71071,     0.71171,     0.71271,     0.71371,     0.71471,     0.71572,     0.71672,     0.71772,     0.71872,     0.71972,\n",
            "           0.72072,     0.72172,     0.72272,     0.72372,     0.72472,     0.72573,     0.72673,     0.72773,     0.72873,     0.72973,     0.73073,     0.73173,     0.73273,     0.73373,     0.73473,     0.73574,     0.73674,     0.73774,     0.73874,     0.73974,     0.74074,     0.74174,     0.74274,     0.74374,\n",
            "           0.74474,     0.74575,     0.74675,     0.74775,     0.74875,     0.74975,     0.75075,     0.75175,     0.75275,     0.75375,     0.75475,     0.75576,     0.75676,     0.75776,     0.75876,     0.75976,     0.76076,     0.76176,     0.76276,     0.76376,     0.76476,     0.76577,     0.76677,     0.76777,\n",
            "           0.76877,     0.76977,     0.77077,     0.77177,     0.77277,     0.77377,     0.77477,     0.77578,     0.77678,     0.77778,     0.77878,     0.77978,     0.78078,     0.78178,     0.78278,     0.78378,     0.78478,     0.78579,     0.78679,     0.78779,     0.78879,     0.78979,     0.79079,     0.79179,\n",
            "           0.79279,     0.79379,     0.79479,      0.7958,      0.7968,      0.7978,      0.7988,      0.7998,      0.8008,      0.8018,      0.8028,      0.8038,      0.8048,     0.80581,     0.80681,     0.80781,     0.80881,     0.80981,     0.81081,     0.81181,     0.81281,     0.81381,     0.81481,     0.81582,\n",
            "           0.81682,     0.81782,     0.81882,     0.81982,     0.82082,     0.82182,     0.82282,     0.82382,     0.82482,     0.82583,     0.82683,     0.82783,     0.82883,     0.82983,     0.83083,     0.83183,     0.83283,     0.83383,     0.83483,     0.83584,     0.83684,     0.83784,     0.83884,     0.83984,\n",
            "           0.84084,     0.84184,     0.84284,     0.84384,     0.84484,     0.84585,     0.84685,     0.84785,     0.84885,     0.84985,     0.85085,     0.85185,     0.85285,     0.85385,     0.85485,     0.85586,     0.85686,     0.85786,     0.85886,     0.85986,     0.86086,     0.86186,     0.86286,     0.86386,\n",
            "           0.86486,     0.86587,     0.86687,     0.86787,     0.86887,     0.86987,     0.87087,     0.87187,     0.87287,     0.87387,     0.87487,     0.87588,     0.87688,     0.87788,     0.87888,     0.87988,     0.88088,     0.88188,     0.88288,     0.88388,     0.88488,     0.88589,     0.88689,     0.88789,\n",
            "           0.88889,     0.88989,     0.89089,     0.89189,     0.89289,     0.89389,     0.89489,      0.8959,      0.8969,      0.8979,      0.8989,      0.8999,      0.9009,      0.9019,      0.9029,      0.9039,      0.9049,     0.90591,     0.90691,     0.90791,     0.90891,     0.90991,     0.91091,     0.91191,\n",
            "           0.91291,     0.91391,     0.91491,     0.91592,     0.91692,     0.91792,     0.91892,     0.91992,     0.92092,     0.92192,     0.92292,     0.92392,     0.92492,     0.92593,     0.92693,     0.92793,     0.92893,     0.92993,     0.93093,     0.93193,     0.93293,     0.93393,     0.93493,     0.93594,\n",
            "           0.93694,     0.93794,     0.93894,     0.93994,     0.94094,     0.94194,     0.94294,     0.94394,     0.94494,     0.94595,     0.94695,     0.94795,     0.94895,     0.94995,     0.95095,     0.95195,     0.95295,     0.95395,     0.95495,     0.95596,     0.95696,     0.95796,     0.95896,     0.95996,\n",
            "           0.96096,     0.96196,     0.96296,     0.96396,     0.96496,     0.96597,     0.96697,     0.96797,     0.96897,     0.96997,     0.97097,     0.97197,     0.97297,     0.97397,     0.97497,     0.97598,     0.97698,     0.97798,     0.97898,     0.97998,     0.98098,     0.98198,     0.98298,     0.98398,\n",
            "           0.98498,     0.98599,     0.98699,     0.98799,     0.98899,     0.98999,     0.99099,     0.99199,     0.99299,     0.99399,     0.99499,       0.996,       0.997,       0.998,       0.999,           1]), array([[          1,           1,     0.99422,     0.97688,     0.97688,      0.9711,     0.96532,     0.95954,     0.95954,     0.95954,     0.95954,     0.95954,     0.95954,     0.95954,     0.95954,     0.95954,     0.95376,     0.95376,     0.95376,     0.95376,     0.95376,     0.95376,     0.94798,\n",
            "            0.94798,     0.94798,     0.94798,     0.94798,     0.94798,      0.9422,      0.9422,     0.93064,     0.92486,     0.92486,     0.92486,     0.92486,     0.92486,     0.92486,     0.92486,     0.92486,     0.92486,     0.92486,     0.91908,     0.91908,     0.91908,     0.91908,     0.91908,\n",
            "            0.91908,     0.91908,     0.91908,     0.91908,     0.91908,     0.91908,     0.91908,     0.91908,     0.91908,     0.91908,     0.91908,     0.91908,     0.91908,     0.91908,     0.91908,     0.91908,     0.91908,     0.91908,     0.91908,     0.91908,     0.91908,     0.91908,     0.91362,\n",
            "            0.90751,     0.90751,     0.90751,     0.90751,     0.90751,     0.90751,     0.90751,     0.90751,     0.90751,     0.90751,     0.90751,     0.90751,     0.90751,     0.90751,     0.90751,     0.90751,     0.90751,     0.90751,     0.90751,     0.90751,     0.90751,     0.90751,     0.90751,\n",
            "            0.90751,     0.90751,     0.90751,     0.90751,     0.90751,     0.90751,     0.90751,     0.90751,     0.90751,     0.90751,     0.90751,     0.90751,     0.90751,     0.90751,     0.90751,     0.90751,     0.90751,     0.90751,     0.90751,     0.90751,     0.90751,     0.90751,     0.90751,\n",
            "            0.90751,     0.90751,     0.90751,     0.90751,     0.90751,     0.90419,     0.90173,     0.90173,     0.90173,     0.90173,     0.90173,     0.90173,     0.90173,     0.90173,     0.90173,     0.90173,     0.90173,     0.90173,     0.90173,     0.90173,     0.90173,     0.90173,     0.90173,\n",
            "            0.90173,     0.90173,     0.90173,     0.90173,     0.90173,     0.90173,     0.90173,     0.90173,     0.90173,     0.90026,     0.89595,     0.89595,     0.89595,     0.89595,     0.89595,     0.89595,     0.89595,     0.89595,     0.89595,     0.89595,     0.89595,     0.89595,     0.89595,\n",
            "            0.89595,     0.89595,     0.89595,     0.89595,     0.89595,     0.89595,     0.89595,     0.89595,     0.89595,     0.89595,     0.89595,     0.89595,     0.89595,     0.89595,     0.89595,     0.89595,     0.89595,     0.89595,     0.89595,     0.89595,     0.89595,     0.89595,     0.89595,\n",
            "            0.89595,     0.89595,     0.89595,     0.89595,     0.89595,     0.89595,     0.89595,     0.89595,     0.89595,     0.89595,     0.89595,     0.89595,     0.89595,     0.89595,     0.89595,     0.89595,     0.89595,     0.89595,     0.89595,     0.89595,     0.89595,     0.89595,     0.89595,\n",
            "            0.89595,     0.89595,     0.89595,     0.89595,     0.89595,     0.89595,     0.89595,     0.89595,     0.89595,     0.89595,     0.89595,     0.89595,     0.89595,     0.89595,     0.89595,     0.89595,     0.89595,     0.89595,     0.89595,     0.89595,     0.89595,     0.89595,     0.89595,\n",
            "            0.89595,     0.89595,     0.89595,     0.89595,     0.89595,     0.89595,     0.89595,     0.89595,     0.89595,     0.89595,     0.89595,     0.89595,     0.89595,     0.89595,     0.89595,     0.89595,     0.89595,     0.89595,     0.89567,     0.89493,     0.89418,     0.89344,     0.89269,\n",
            "            0.89195,      0.8912,     0.89045,     0.89017,     0.89017,     0.89017,     0.89017,     0.89017,     0.89017,     0.89017,     0.89017,     0.89017,     0.89017,     0.89017,     0.89017,     0.89017,     0.89017,     0.89017,     0.89017,     0.89017,     0.89017,     0.89017,     0.89017,\n",
            "            0.89017,     0.89017,     0.89017,     0.89017,     0.89017,     0.89017,     0.89017,     0.89017,     0.89017,     0.89017,     0.89017,     0.89017,     0.89017,     0.89017,     0.89017,     0.89017,     0.89017,     0.89017,     0.89017,     0.89017,     0.89017,     0.89017,     0.89017,\n",
            "            0.89017,     0.89017,     0.89017,     0.89017,     0.89017,     0.89017,     0.89017,     0.89017,     0.89017,     0.89017,     0.89017,     0.89017,     0.89017,     0.89017,     0.89017,     0.89017,     0.89017,      0.8897,     0.88916,     0.88861,     0.88807,     0.88753,     0.88699,\n",
            "            0.88644,      0.8859,     0.88536,     0.88481,     0.88439,     0.88439,     0.88439,     0.88439,     0.88439,     0.88439,     0.88439,     0.88439,     0.88439,     0.88439,     0.88439,     0.88439,     0.88439,     0.88439,     0.88439,     0.88439,     0.88439,     0.88439,     0.88439,\n",
            "            0.88439,     0.88439,     0.88313,     0.87948,     0.87283,     0.87283,     0.87283,     0.87283,     0.87283,     0.87283,     0.87283,     0.87283,     0.87283,     0.87283,     0.87283,     0.87283,     0.87283,     0.87283,     0.87283,     0.87283,     0.87283,     0.87283,     0.87283,\n",
            "            0.87283,     0.87283,     0.87283,     0.87283,     0.87198,     0.87078,     0.86957,     0.86837,     0.86717,     0.86705,     0.86705,     0.86705,     0.86705,     0.86705,     0.86705,     0.86428,     0.86127,     0.86127,     0.86127,     0.86127,     0.86127,     0.86127,     0.86127,\n",
            "            0.86127,     0.86127,     0.86127,     0.86127,     0.86127,     0.86127,     0.86127,     0.86127,     0.86127,     0.86127,     0.86127,     0.86127,     0.86127,     0.86127,     0.86127,     0.86127,     0.86127,     0.86127,     0.86127,     0.86127,     0.86127,     0.85694,     0.85549,\n",
            "            0.85549,     0.85549,     0.85549,     0.85549,     0.85549,     0.85549,     0.85549,     0.85549,     0.85549,     0.85549,     0.85549,     0.85543,     0.85456,     0.85369,     0.85281,     0.85194,     0.85107,      0.8502,     0.84971,     0.84971,     0.84971,     0.84971,     0.84971,\n",
            "            0.84971,     0.84971,     0.84971,     0.84971,     0.84971,     0.84971,     0.84971,     0.84971,     0.84971,     0.84971,     0.84971,     0.84971,     0.84971,     0.84971,     0.84971,     0.84971,     0.84971,     0.84971,     0.84971,     0.84971,     0.84971,     0.84971,     0.84971,\n",
            "            0.84971,     0.84971,     0.84971,     0.84971,     0.84971,     0.84971,     0.84971,     0.84971,     0.84971,     0.84971,     0.84971,     0.84971,     0.84971,     0.84971,     0.84971,     0.84971,     0.84971,     0.84971,     0.84971,     0.84971,     0.84971,     0.84971,     0.84971,\n",
            "            0.84971,     0.84971,     0.84971,     0.84971,     0.84971,     0.84971,     0.84971,     0.84971,     0.84971,     0.84971,     0.84971,     0.84971,     0.84971,     0.84971,     0.84971,     0.84971,     0.84971,     0.84971,     0.84971,     0.84971,     0.84971,     0.84971,     0.84971,\n",
            "            0.84971,     0.84971,     0.84971,     0.84971,     0.84971,     0.84971,     0.84971,     0.84971,     0.84971,     0.84971,     0.84971,     0.84971,     0.84971,     0.84971,     0.84971,     0.84971,     0.84971,     0.84931,     0.84888,     0.84846,     0.84804,     0.84762,      0.8472,\n",
            "            0.84678,     0.84636,     0.84594,     0.84552,      0.8451,     0.84468,     0.84426,     0.84382,     0.84331,      0.8428,     0.84229,     0.84177,     0.84126,     0.84075,     0.84024,     0.83973,     0.83921,      0.8387,     0.83819,     0.83308,     0.83208,     0.83174,     0.83141,\n",
            "            0.83107,     0.83074,      0.8304,     0.83007,     0.82973,      0.8294,     0.82906,     0.82873,     0.82839,     0.82806,     0.82772,     0.82739,     0.82705,     0.82672,     0.82659,     0.82659,     0.82659,     0.82659,     0.82659,     0.82659,     0.82603,     0.82542,     0.82481,\n",
            "            0.82419,     0.82358,     0.82297,     0.82235,     0.82174,     0.82113,     0.82081,     0.82081,     0.82081,     0.82081,     0.82016,     0.81864,     0.81713,     0.81562,     0.81503,     0.81503,     0.81503,     0.81503,     0.81503,     0.81357,     0.80928,     0.80802,     0.80678,\n",
            "            0.80554,      0.8043,     0.80305,     0.79863,     0.79769,     0.79769,     0.79769,     0.79769,     0.79769,     0.79769,     0.79769,     0.79769,     0.79391,     0.79079,     0.78944,     0.78809,     0.78674,     0.78273,     0.77895,      0.7767,     0.77455,     0.77433,      0.7741,\n",
            "            0.77388,     0.77365,     0.77343,      0.7732,     0.77297,     0.77275,     0.77252,      0.7723,     0.77207,     0.77185,     0.77162,     0.77139,     0.77117,     0.77094,     0.77072,     0.77049,     0.77027,     0.77004,     0.76982,     0.76959,     0.76936,     0.76914,     0.76891,\n",
            "            0.76832,     0.76728,     0.76623,     0.76518,     0.76413,     0.76308,     0.76162,     0.76012,     0.75862,     0.75637,     0.75145,     0.75145,     0.75145,     0.75145,     0.75145,     0.75145,     0.75145,     0.75111,     0.74898,     0.74684,     0.74436,     0.74143,     0.73749,\n",
            "            0.72823,     0.72716,     0.72608,     0.72501,     0.72393,     0.72285,     0.71744,     0.71536,     0.71381,     0.71225,     0.71098,     0.71098,     0.71098,     0.71098,     0.71098,     0.71098,      0.7091,     0.70458,     0.69918,     0.69869,     0.69821,     0.69773,     0.69725,\n",
            "            0.69677,     0.69629,      0.6958,     0.69532,     0.69484,     0.69436,     0.69388,     0.69364,      0.6902,     0.68746,     0.68648,     0.68551,     0.68453,     0.68356,     0.68258,     0.67887,     0.67569,     0.67468,     0.67367,     0.67266,     0.67166,     0.67065,     0.66525,\n",
            "            0.66349,     0.66212,     0.66075,     0.65938,     0.65499,     0.64477,     0.63947,      0.6357,     0.63459,     0.63348,     0.63237,     0.63126,     0.63015,     0.62008,     0.61737,       0.616,     0.61462,     0.61324,      0.5987,     0.59471,     0.59313,     0.59155,     0.58998,\n",
            "            0.58335,     0.58213,     0.58091,     0.57969,     0.57847,     0.57487,     0.56559,     0.55867,     0.55526,     0.54615,     0.53526,     0.53154,     0.53002,      0.5285,     0.52698,     0.52039,     0.51043,     0.50097,     0.49432,      0.4871,     0.48414,     0.48225,     0.48035,\n",
            "            0.47354,      0.4666,     0.46244,      0.4502,     0.44509,     0.44182,     0.43793,     0.43395,      0.4269,     0.42524,     0.42358,     0.42186,     0.41799,     0.41531,     0.41367,     0.41203,     0.41038,      0.4084,     0.40641,     0.40176,     0.38956,     0.38627,     0.38392,\n",
            "            0.38157,      0.3796,     0.37765,     0.37553,      0.3692,     0.36791,     0.36661,     0.36531,     0.36342,     0.35613,     0.34931,      0.3441,     0.33259,     0.32329,     0.32057,     0.31211,     0.31041,     0.30871,     0.30701,     0.30413,     0.30051,     0.29714,     0.29371,\n",
            "            0.29018,     0.28749,     0.28522,     0.28256,     0.27658,     0.26886,     0.26483,     0.25887,     0.24887,     0.24667,     0.24478,     0.24288,     0.24178,     0.24073,     0.23968,     0.23862,     0.23757,     0.23507,     0.23039,     0.22134,     0.21362,     0.20675,      0.2043,\n",
            "            0.19897,     0.19403,     0.19113,     0.18298,     0.17847,     0.17616,     0.17385,     0.17224,     0.17079,     0.16934,      0.1679,     0.16526,     0.16236,     0.14943,     0.14408,     0.14257,     0.14107,     0.13956,     0.13776,     0.13559,     0.13342,     0.12272,     0.11936,\n",
            "            0.11702,     0.11488,     0.11304,      0.1112,     0.10948,     0.10809,     0.10671,     0.10532,     0.10373,    0.099734,    0.096347,    0.093312,    0.089534,    0.086705,    0.086705,    0.081335,    0.069314,    0.068684,    0.068055,    0.067425,    0.066795,    0.066165,    0.065536,\n",
            "           0.064906,    0.064276,    0.063647,    0.063045,    0.062446,    0.061847,    0.061249,     0.06065,    0.060051,    0.059453,    0.058854,    0.058255,    0.056786,    0.052643,    0.049986,    0.047591,    0.045714,    0.044505,    0.043296,    0.042086,    0.040877,    0.039647,    0.038405,\n",
            "           0.037163,    0.035922,    0.034678,     0.03184,    0.029002,    0.024166,    0.022784,    0.022356,    0.021927,    0.021499,    0.021071,    0.020642,    0.020214,    0.019785,    0.019357,    0.018929,      0.0185,    0.018072,    0.017643,    0.016985,    0.015774,    0.014562,    0.013351,\n",
            "            0.01214,    0.010854,   0.0094991,   0.0081444,   0.0067898,           0,           0,           0,           0,           0,           0,           0,           0,           0,           0,           0,           0,           0,           0,           0,           0,           0,           0,\n",
            "                  0,           0,           0,           0,           0,           0,           0,           0,           0,           0,           0,           0,           0,           0,           0,           0,           0,           0,           0,           0,           0,           0,           0,\n",
            "                  0,           0,           0,           0,           0,           0,           0,           0,           0,           0,           0,           0,           0,           0,           0,           0,           0,           0,           0,           0,           0,           0,           0,\n",
            "                  0,           0,           0,           0,           0,           0,           0,           0,           0,           0,           0]]), 'Confidence', 'Recall']]\n",
            "fitness: 0.6497933522461332\n",
            "keys: ['metrics/precision(B)', 'metrics/recall(B)', 'metrics/mAP50(B)', 'metrics/mAP50-95(B)']\n",
            "maps: array([     0.6218])\n",
            "names: {0: 'crack'}\n",
            "plot: True\n",
            "results_dict: {'metrics/precision(B)': 0.9145152970178896, 'metrics/recall(B)': 0.8497109826589595, 'metrics/mAP50(B)': 0.9017692904514156, 'metrics/mAP50-95(B)': 0.6217960257788795, 'fitness': 0.6497933522461332}\n",
            "save_dir: PosixPath('runs/detect/train72')\n",
            "speed: {'preprocess': 3.4289840083794307, 'inference': 10.423274648269551, 'loss': 0.0010032781818569106, 'postprocess': 2.713757073319198}\n",
            "task: 'detect'\n"
          ]
        }
      ]
    },
    {
      "cell_type": "code",
      "source": [
        "image_path = \"/content/unzipped_files/test/images/crack_5_jpg.rf.2bdc4a0ee929ca8ecb66d01719099afa.jpg\"  # Replace with an actual test image\n",
        "results = model(image_path)\n"
      ],
      "metadata": {
        "colab": {
          "base_uri": "https://localhost:8080/"
        },
        "id": "EAOOQw-gjTJG",
        "outputId": "76466827-f35a-4944-db77-8a357b9a5880"
      },
      "execution_count": 18,
      "outputs": [
        {
          "output_type": "stream",
          "name": "stdout",
          "text": [
            "\n",
            "image 1/1 /content/unzipped_files/test/images/crack_5_jpg.rf.2bdc4a0ee929ca8ecb66d01719099afa.jpg: 640x640 1 crack, 559.8ms\n",
            "Speed: 18.4ms preprocess, 559.8ms inference, 34.3ms postprocess per image at shape (1, 3, 640, 640)\n"
          ]
        }
      ]
    },
    {
      "cell_type": "code",
      "source": [
        "for result in results:\n",
        "    result.show()  # Show bounding boxes\n",
        "    result.save(\"output.jpg\")  # Save result image\n"
      ],
      "metadata": {
        "colab": {
          "base_uri": "https://localhost:8080/",
          "height": 657
        },
        "id": "uGbCWRwOjlYM",
        "outputId": "cf66cbb3-b010-4c12-a6f9-59922e1f84b3"
      },
      "execution_count": 20,
      "outputs": [
        {
          "output_type": "display_data",
          "data": {
            "text/plain": [
              "<PIL.Image.Image image mode=RGB size=640x640>"
            ],
            "image/png": "[encoded data removed]",
            "image/jpeg": "[encoded data removed]"
          },
          "metadata": {}
        }
      ]
    },
    {
      "cell_type": "code",
      "source": [
        "from google.colab import output\n",
        "from IPython.display import display, Javascript\n",
        "\n",
        "def start_video():\n",
        "    display(Javascript('''\n",
        "        async function startVideo() {\n",
        "            const video = document.createElement('video');\n",
        "            video.width = 640;\n",
        "            video.height = 480;\n",
        "            const stream = await navigator.mediaDevices.getUser Media({video: true});\n",
        "            video.srcObject = stream;\n",
        "            video.play();\n",
        "            document.body.appendChild(video);\n",
        "            return video;\n",
        "        }\n",
        "        startVideo();\n",
        "    '''))"
      ],
      "metadata": {
        "id": "Eh1IADe3p41l"
      },
      "execution_count": 12,
      "outputs": []
    },
    {
      "cell_type": "code",
      "source": [
        "from ultralytics import YOLO\n",
        "\n",
        "# Load the model using Ultralytics\n",
        "model = YOLO('/content/yolov8_trained_model.pt')\n",
        "\n",
        "# Now you can use the model for inference"
      ],
      "metadata": {
        "id": "gtxoG8aIpBlk"
      },
      "execution_count": 6,
      "outputs": []
    },
    {
      "cell_type": "code",
      "source": [
        "# ----------------------------- STRUCTURAL INTEGRITY ANALYSIS -----------------------------\n",
        "def analyze_damage(results, frame):\n",
        "    \"\"\"\n",
        "    Analyze structural integrity based on detected damage.\n",
        "    - Bounding box count & size for severity analysis\n",
        "    - Grayscale intensity variation for degradation estimation\n",
        "    - Structural risk score calculation\n",
        "    \"\"\"\n",
        "    total_damage_area = 0\n",
        "    frame_area = frame.shape[0] * frame.shape[1]\n",
        "\n",
        "    for result in results:\n",
        "        for box in result.boxes.xyxy:  # Extract bounding box coordinates\n",
        "            x1, y1, x2, y2 = map(int, box)  # Get bounding box as integers\n",
        "            bbox_area = (x2 - x1) * (y2 - y1)\n",
        "            total_damage_area += bbox_area\n",
        "\n",
        "    damage_percentage = (total_damage_area / frame_area) * 100\n",
        " # Grayscale variation for material degradation\n",
        "    gray_frame = cv2.cvtColor(frame, cv2.COLOR_BGR2GRAY)\n",
        "    intensity_variation = np.std(gray_frame)  # Standard deviation of pixel intensities\n",
        "\n",
        "    # Structural risk score (higher means worse condition)\n",
        "    risk_score = (damage_percentage * 0.6) + (intensity_variation * 0.4)\n",
        "    risk_level = \"Low\" if risk_score < 20 else \"Moderate\" if risk_score < 50 else \"High\"\n",
        "\n",
        "    print(f\"Total Damage Area: {total_damage_area} pixels\")\n",
        "    print(f\"Damage Coverage: {damage_percentage:.2f}% of the frame\")\n",
        "    print(f\"Material Degradation Level: {intensity_variation:.2f}\")\n",
        "    print(f\"Structural Risk Score: {risk_score:.2f} ({risk_level})\")\n",
        "\n",
        "\n",
        "    return risk_level"
      ],
      "metadata": {
        "id": "jUd6XEWHpzrT"
      },
      "execution_count": 8,
      "outputs": []
    },
    {
      "cell_type": "code",
      "source": [
        "frame = cv2.imread('/content/unzipped_files/test/images/crack_161_jpg.rf.70504cad0a7d1b4300f6615f9fa73f87.jpg')  # Replace with your image path\n",
        "\n",
        "# Perform inference using the model\n",
        "results = model.predict(source=frame)  # You can also use a file path or video source\n",
        "\n",
        "# Call the analyze_damage function\n",
        "risk_level = analyze_damage(results, frame)\n",
        "\n",
        "# Print the risk level\n",
        "print(f\"Risk Level: {risk_level}\")"
      ],
      "metadata": {
        "colab": {
          "base_uri": "https://localhost:8080/"
        },
        "id": "XORnEwqvt78l",
        "outputId": "d9367fac-07a6-4ab1-8bf3-1a05befb4259"
      },
      "execution_count": 19,
      "outputs": [
        {
          "output_type": "stream",
          "name": "stdout",
          "text": [
            "\n",
            "0: 640x640 2 cracks, 203.7ms\n",
            "Speed: 2.9ms preprocess, 203.7ms inference, 4.7ms postprocess per image at shape (1, 3, 640, 640)\n",
            "Total Damage Area: 236995 pixels\n",
            "Damage Coverage: 57.86% of the frame\n",
            "Material Degradation Level: 3.01\n",
            "Structural Risk Score: 35.92 (Moderate)\n",
            "Risk Level: Moderate\n"
          ]
        }
      ]
    },
    {
      "cell_type": "code",
      "source": [
        "model.save(\"yolov8_trained_model.pt\")"
      ],
      "metadata": {
        "id": "4KSnlnxynQta"
      },
      "execution_count": 13,
      "outputs": []
    }
  ]
}